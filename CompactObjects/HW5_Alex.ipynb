{
 "cells": [
  {
   "cell_type": "code",
   "execution_count": 5,
   "id": "f2b6a4ff-9d2a-4d5f-ac37-a15ac4718651",
   "metadata": {},
   "outputs": [],
   "source": [
    "from astropy import units as u\n",
    "from astropy import constants as const\n",
    "import numpy as np\n",
    "from matplotlib import pyplot as plt\n",
    "import scipy.integrate as integrate"
   ]
  },
  {
   "cell_type": "markdown",
   "id": "8c6d372a-fd31-4aac-9f06-f36a64ff321b",
   "metadata": {},
   "source": [
    "### Alex's Homework\n",
    "\n",
    "##### 1. ULX Spectra\n",
    "\n",
    "As mentioned in lecture, ULXs are typically broken into three or four different categories. As a convenient\n",
    "way to distinguish between the different types Sutton et al (2013) created a decision tree (Figure 2; those\n",
    "authors broke ULXs into three categories).\n",
    "\n",
    "a) What are the four different categories of ULXs? What differentiates each regime?"
   ]
  },
  {
   "cell_type": "markdown",
   "id": "e5a215bb-64d1-4803-9f57-966eb35dcc6e",
   "metadata": {},
   "source": [
    "Soft: Power-law dominated, photon powerlaw index $\\sim$ 2-3\n",
    "\n",
    "Hard: Power-law dominated, photon powerlaw index $\\sim$ 1-2\n",
    "\n",
    "Disk-like: Well fit by slim, multi-color disk.\n",
    "\n",
    "Supersoft: Thermal dominated."
   ]
  },
  {
   "cell_type": "markdown",
   "id": "054ee182-1d9f-4538-b6a9-d7941aa6e371",
   "metadata": {},
   "source": [
    "b) Extend the decision tree from Sutton et. al. (2013) to include the fourth regime by filling out the template\n",
    "below. Recall that the photon index, Γ, is defined as the power law index of the spectrum (dashed boxes are\n",
    "the conditions/boundaries, solid boxes are the criteria):"
   ]
  },
  {
   "cell_type": "markdown",
   "id": "32275ce5-4333-425a-b47d-3645466d17dc",
   "metadata": {},
   "source": [
    "Temperature (eV)\n",
    "\n",
    "> (< 150 eV keV) \n",
    "\n",
    ">> Supersoft\n",
    "\n",
    "> (> 150 eV) Slim Disk? F$_{PL}$/F$_{disc}$\n",
    "\n",
    ">> (>5) $\\Gamma$\n",
    "\n",
    ">>> (<2) Hard\n",
    "\n",
    ">>> (>2) Soft\n",
    "\n",
    ">> (<5) Disk-like"
   ]
  },
  {
   "cell_type": "markdown",
   "id": "10b832aa-bb51-4ae3-afaa-1d4a5630d122",
   "metadata": {},
   "source": [
    "#### 2. High-redshift Supermassive Black Holes\n",
    "\n",
    "In the very early Universe, we observe supermassive black holes. In fact, Mortlock et al (2011) find a black\n",
    "hole at $z = 7.085$ (the Universe was only 770 Myrs old) with mass of $2 \\times 10^9 M_{\\odot}$!\n",
    "\n",
    "Let’s assume that the seed for this black hole was around 10 $M_{\\odot}$. If the black hole seed started accreting at\n",
    "the beginning of the Universe (t = 0) and continued to do so at the Eddington limit, how long would this\n",
    "seed take to reach $2 \\times 10^9 M_{\\odot}$? Does your answer support or refute super-Eddington accretion?"
   ]
  },
  {
   "cell_type": "code",
   "execution_count": 3,
   "id": "79d36de8-e317-42e4-8040-6023e3ddb65a",
   "metadata": {},
   "outputs": [],
   "source": [
    "z = 7.085 # redshift\n",
    "age = 770 * u.Myr\n",
    "epsilon = 0.1\n",
    "\n",
    "Mf = 2 * 10**9 * u.M_sun\n",
    "Mi = 10 * u.M_sun"
   ]
  },
  {
   "cell_type": "markdown",
   "id": "6eca2c2e-0d17-498d-8950-b26049dec3c2",
   "metadata": {},
   "source": [
    "$\\dot{M_{Edd}} = \\frac{4 \\pi G M m_p}{\\epsilon c \\sigma_T}$\n",
    "\n",
    "$\\frac{dM}{dt} = A M$\n",
    "\n",
    "$\\int^{M_f}_{M_i} \\frac{dM}{M} = \\int^{t_f}_{t_i} A dt$\n",
    "\n",
    "$ln(M_f / M_i) = A(t_f - t_i)$\n",
    "\n",
    "$t = \\frac{1}{A} ln(M_f / M_i)$"
   ]
  },
  {
   "cell_type": "code",
   "execution_count": 23,
   "id": "77c6d35f-288e-4fe7-be52-81ae43487517",
   "metadata": {},
   "outputs": [
    {
     "data": {
      "text/latex": [
       "$861.05962 \\; \\mathrm{Myr}$"
      ],
      "text/plain": [
       "<Quantity 861.0596221 Myr>"
      ]
     },
     "execution_count": 23,
     "metadata": {},
     "output_type": "execute_result"
    }
   ],
   "source": [
    "A = (4 * np.pi * const.G * const.m_p)/(epsilon * const.c * const.sigma_T)\n",
    "t = (1./A) * np.log(Mf / Mi)\n",
    "t.to(u.Myr)"
   ]
  },
  {
   "cell_type": "markdown",
   "id": "032d120e-8ece-4239-b658-db551ff525fa",
   "metadata": {},
   "source": [
    "If the black hole seed was 10 M$_{\\odot}$, then the black hole must have had super-Eddington accretion, as even at the Eddington accretion rate, the black hole would still take 90 Myr longer to reach its final mass of $2 \\times 10^9 M_{\\odot}$. However, if the seed black hole was a bit larger, then you would not need super-Eddington accretion to reach its mass."
   ]
  },
  {
   "cell_type": "code",
   "execution_count": 25,
   "id": "3f95707e-26ea-48af-8233-55c0081d6a34",
   "metadata": {},
   "outputs": [
    {
     "data": {
      "text/latex": [
       "$757.33037 \\; \\mathrm{Myr}$"
      ],
      "text/plain": [
       "<Quantity 757.33037133 Myr>"
      ]
     },
     "execution_count": 25,
     "metadata": {},
     "output_type": "execute_result"
    }
   ],
   "source": [
    "A = (4 * np.pi * const.G * const.m_p)/(epsilon * const.c * const.sigma_T)\n",
    "t = (1./A) * np.log(Mf / (100 * u.M_sun))\n",
    "t.to(u.Myr)"
   ]
  },
  {
   "cell_type": "code",
   "execution_count": null,
   "id": "50b37c15-71bf-48bb-be8b-26f4aac617ea",
   "metadata": {},
   "outputs": [],
   "source": []
  }
 ],
 "metadata": {
  "kernelspec": {
   "display_name": "Python 3",
   "language": "python",
   "name": "python3"
  },
  "language_info": {
   "codemirror_mode": {
    "name": "ipython",
    "version": 3
   },
   "file_extension": ".py",
   "mimetype": "text/x-python",
   "name": "python",
   "nbconvert_exporter": "python",
   "pygments_lexer": "ipython3",
   "version": "3.8.8"
  }
 },
 "nbformat": 4,
 "nbformat_minor": 5
}
