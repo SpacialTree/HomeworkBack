{
 "cells": [
  {
   "cell_type": "code",
   "execution_count": 1,
   "id": "fb721909-4115-477c-adcc-7b27f58c55a0",
   "metadata": {},
   "outputs": [],
   "source": [
    "from astropy import units as u\n",
    "from astropy import constants as const"
   ]
  },
  {
   "cell_type": "markdown",
   "id": "43995ba1-d319-45af-b87d-1ca831370c83",
   "metadata": {},
   "source": [
    "### Maria's Homework\n",
    "\n",
    "1. $\\textbf{The Pulsar Population}$ The figure below shows the known pulsar population in P-$\\dot{P}$ space."
   ]
  },
  {
   "cell_type": "code",
   "execution_count": 4,
   "id": "1ceb7895-fded-43b2-bdc1-d2b6c4669952",
   "metadata": {},
   "outputs": [],
   "source": [
    "P_NS = 10**0 * u.second\n",
    "delP_NS = 10**(-15)\n",
    "\n",
    "P_widow = 10**(-2.5) * u.second\n",
    "delP_widow = 10**(-20)"
   ]
  },
  {
   "cell_type": "markdown",
   "id": "831fe468-588e-4863-9b74-803bcd5ad520",
   "metadata": {},
   "source": [
    "(a) Calculate the minimum magnetic field strength of an average ordinary pulsar vs an average black\n",
    "widow pulsar using:\n",
    "\n",
    "$B(gauss) > 3.2 \\times 10^{19}(\\frac{P \\dot{P}}{s})^{1/2}$"
   ]
  },
  {
   "cell_type": "code",
   "execution_count": 6,
   "id": "c8570c7a-2501-4a59-a232-3cfd538e2c38",
   "metadata": {},
   "outputs": [],
   "source": [
    "def mag_field_pulsar(P, delP):\n",
    "    return 3.2 * 10**(19) * ((P * delP) / u.second)**(1/2) * u.Gauss"
   ]
  },
  {
   "cell_type": "code",
   "execution_count": 7,
   "id": "e83572c2-2f10-4aca-bcc9-2927b5e037bf",
   "metadata": {},
   "outputs": [
    {
     "data": {
      "text/latex": [
       "$1.0119289 \\times 10^{12} \\; \\mathrm{G}$"
      ],
      "text/plain": [
       "<Quantity 1.01192885e+12 G>"
      ]
     },
     "execution_count": 7,
     "metadata": {},
     "output_type": "execute_result"
    }
   ],
   "source": [
    "# Average Normal Pulsar\n",
    "B_NS = mag_field_pulsar(P_NS, delP_NS)\n",
    "B_NS"
   ]
  },
  {
   "cell_type": "code",
   "execution_count": 8,
   "id": "206dda98-f2fa-4372-8e83-df4157a8df65",
   "metadata": {},
   "outputs": [
    {
     "data": {
      "text/latex": [
       "$1.7994922 \\times 10^{8} \\; \\mathrm{G}$"
      ],
      "text/plain": [
       "<Quantity 1.79949224e+08 G>"
      ]
     },
     "execution_count": 8,
     "metadata": {},
     "output_type": "execute_result"
    }
   ],
   "source": [
    "# Black Widow Pulsar\n",
    "B_widow = mag_field_pulsar(P_widow, delP_widow)\n",
    "B_widow"
   ]
  },
  {
   "cell_type": "code",
   "execution_count": 16,
   "id": "6c69a47e-e328-4a7d-97e8-54fde8294b6f",
   "metadata": {},
   "outputs": [
    {
     "data": {
      "text/latex": [
       "$3.7819885 \\times 10^{12} \\; \\mathrm{G}$"
      ],
      "text/plain": [
       "<Quantity 3.78198847e+12 G>"
      ]
     },
     "execution_count": 16,
     "metadata": {},
     "output_type": "execute_result"
    }
   ],
   "source": [
    "# Crab\n",
    "mag_field_pulsar(0.0331*u.second, 4.22*10**(-13))"
   ]
  },
  {
   "cell_type": "markdown",
   "id": "c80f345a-0440-4236-8350-d1e1f2163a68",
   "metadata": {},
   "source": [
    "(b) Explain the differences in the magnetic field strengths of an ordinary pulsar vs a black widow pulsar,\n",
    "if you find any variation at at all.\n"
   ]
  },
  {
   "cell_type": "markdown",
   "id": "8331c749-c7e9-4559-88e6-7e4f2cf3b07c",
   "metadata": {},
   "source": [
    "The minimum strength of an ordinary pulsar's magnetic field is $10^4$ times higher than that of a black widow pulsar. Both the period and the change of the spin rate are smaller for black widow pulsars, making their minimum magnetic field strength lower."
   ]
  },
  {
   "cell_type": "markdown",
   "id": "b4a1d1ff-37a6-4bf8-9cc6-c3b96ec13971",
   "metadata": {},
   "source": [
    "(c) Calculate the characteristic age of an average ordinary pulsar vs an average black widow pulsar.\n",
    "Does this help explain what you find in part (a)? Use the following:\n",
    "\n",
    "$\\tau = \\frac{P}{2 \\dot{P}}$\n"
   ]
  },
  {
   "cell_type": "code",
   "execution_count": 9,
   "id": "1609ce03-9e03-41cb-8490-a90395d08c9f",
   "metadata": {},
   "outputs": [],
   "source": [
    "def char_age_pulsar(P, delP):\n",
    "    return P / (2 * delP)"
   ]
  },
  {
   "cell_type": "code",
   "execution_count": 14,
   "id": "8caeba67-a42b-4b3b-9082-1e96c7884828",
   "metadata": {},
   "outputs": [
    {
     "data": {
      "text/latex": [
       "$15.844044 \\; \\mathrm{Myr}$"
      ],
      "text/plain": [
       "<Quantity 15.84404391 Myr>"
      ]
     },
     "execution_count": 14,
     "metadata": {},
     "output_type": "execute_result"
    }
   ],
   "source": [
    "# Average Normal Pulsar\n",
    "t_NS = char_age_pulsar(P_NS, delP_NS)\n",
    "t_NS.to(u.Myr)"
   ]
  },
  {
   "cell_type": "code",
   "execution_count": 20,
   "id": "98ca9407-8d71-4409-a676-aab7afc6716b",
   "metadata": {},
   "outputs": [
    {
     "data": {
      "text/latex": [
       "$5.0103266 \\; \\mathrm{Gyr}$"
      ],
      "text/plain": [
       "<Quantity 5.01032661 Gyr>"
      ]
     },
     "execution_count": 20,
     "metadata": {},
     "output_type": "execute_result"
    }
   ],
   "source": [
    "# Black Widow Pulsar\n",
    "t_widow = char_age_pulsar(P_widow, delP_widow)\n",
    "t_widow.to(u.Gyr)"
   ]
  },
  {
   "cell_type": "code",
   "execution_count": 19,
   "id": "eecebb52-2ca6-4213-906c-9e33938e3316",
   "metadata": {},
   "outputs": [
    {
     "data": {
      "text/latex": [
       "$1242.7437 \\; \\mathrm{yr}$"
      ],
      "text/plain": [
       "<Quantity 1242.74372825 yr>"
      ]
     },
     "execution_count": 19,
     "metadata": {},
     "output_type": "execute_result"
    }
   ],
   "source": [
    "# Crab\n",
    "char_age_pulsar(0.0331*u.second, 4.22*10**(-13)).to(u.yr)"
   ]
  },
  {
   "cell_type": "markdown",
   "id": "be626769-06f5-43c8-9121-bbdf69fc5b4f",
   "metadata": {},
   "source": [
    "The characteristic age of these pulsars assumes that there is no magnetic field decay, the initial spin period was much smaller, and assumes that the magnetic braking is like a magnet spinning in a vacuum. The characteristic age for a normal pulsar is much less than that of a black widow. Since there is magnetic field decay for black widow pulsars, the approximation is bad."
   ]
  },
  {
   "cell_type": "markdown",
   "id": "a723ad8f-b564-4c7a-a885-9d68c0b8110c",
   "metadata": {},
   "source": [
    "2. $\\textbf{Pulsar Observations}$ The canonical equation used to determine the sensitivity achieved when detecting a pulsar is:\n",
    "\n",
    "$S_{min} = \\frac{\\alpha \\beta T_{sys}}{G (N \\Delta v t_{int})^{1/2}} (\\frac{W}{P − W})^{1/2} $\n",
    "\n",
    "Here, α is the S/N, β accounts for processing losses, Tsys is the system temperature, G is antenna gain,\n",
    "N is the number of polarizations, △v is the bandwidth, tint is the integration time, W is the pulse width,\n",
    "and P is the pulse period. A smaller sensitivity is better. Let’s just call the first portion of this equation\n",
    "C for now (C for we don’t Care) and focus on W and P.\n",
    "\n",
    "\n",
    "(a) Calculate the minimum sensitivity achieved when detecting B0021-72C, a millisecond pulsar with P\n",
    "= 0.005756 s and W = 0.664 ms vs the minimum sensitivity achieved when detecting J0021-0909\n",
    "with P = 2.314 s and W = 23.8 ms (just using P and W, disregarding C). Which one would be easier\n",
    "to detect?"
   ]
  },
  {
   "cell_type": "code",
   "execution_count": 27,
   "id": "c87f4eb3-35d0-4d66-8a76-93fe0fd8b5fc",
   "metadata": {},
   "outputs": [],
   "source": [
    "def sensitivity(W, P):\n",
    "    W = W.to(u.second)\n",
    "    P = P.to(u.second)\n",
    "    C = 1 # C for we don't Care\n",
    "    return (W / (P - W))**(1./2.)"
   ]
  },
  {
   "cell_type": "code",
   "execution_count": 28,
   "id": "7ac1389b-3934-44ed-8cc8-a0d94609dc5d",
   "metadata": {},
   "outputs": [
    {
     "data": {
      "text/latex": [
       "$0.10194168 \\; \\mathrm{}$"
      ],
      "text/plain": [
       "<Quantity 0.10194168>"
      ]
     },
     "execution_count": 28,
     "metadata": {},
     "output_type": "execute_result"
    }
   ],
   "source": [
    "# J0021-0909 \n",
    "P_J = 2.314 * u.second\n",
    "W_J = 23.8 * u.millisecond\n",
    "S_J = sensitivity(W_J, P_J)\n",
    "S_J"
   ]
  },
  {
   "cell_type": "code",
   "execution_count": 29,
   "id": "660d7d19-fa6e-4244-9fc5-940d69a852cf",
   "metadata": {},
   "outputs": [
    {
     "data": {
      "text/latex": [
       "$0.36111027 \\; \\mathrm{}$"
      ],
      "text/plain": [
       "<Quantity 0.36111027>"
      ]
     },
     "execution_count": 29,
     "metadata": {},
     "output_type": "execute_result"
    }
   ],
   "source": [
    "# B0021-72C\n",
    "P_B = 0.005756 * u.second\n",
    "W_B = 0.664 * u.millisecond\n",
    "S_B = sensitivity(W_B, P_B)\n",
    "S_B"
   ]
  },
  {
   "cell_type": "markdown",
   "id": "72f9c4b9-06de-4911-a319-16987d83661e",
   "metadata": {},
   "source": [
    "J0021-0909 would be easier to detect, as the sensitivity is smaller."
   ]
  },
  {
   "cell_type": "markdown",
   "id": "f9dc6399-39af-4024-a8bb-4dfb18d3379e",
   "metadata": {},
   "source": [
    "(b) Now pulling the integration time out of our C term, calculate the relative integration times between\n",
    "B0021-72C vs J0021-0909."
   ]
  },
  {
   "cell_type": "code",
   "execution_count": 31,
   "id": "e9a639bf-1bed-4b18-b07a-1e8f59d173f8",
   "metadata": {},
   "outputs": [
    {
     "data": {
      "text/latex": [
       "$0.28230068 \\; \\mathrm{}$"
      ],
      "text/plain": [
       "<Quantity 0.28230068>"
      ]
     },
     "execution_count": 31,
     "metadata": {},
     "output_type": "execute_result"
    }
   ],
   "source": [
    "# S = C * tint * #\n",
    "# S_J / S_B = tint_J / tint_B\n",
    "S_J / S_B"
   ]
  },
  {
   "cell_type": "code",
   "execution_count": 32,
   "id": "d1cea279-ccfe-48a1-8000-31cd7b2fe868",
   "metadata": {},
   "outputs": [
    {
     "data": {
      "text/latex": [
       "$3.5423223 \\; \\mathrm{}$"
      ],
      "text/plain": [
       "<Quantity 3.54232226>"
      ]
     },
     "execution_count": 32,
     "metadata": {},
     "output_type": "execute_result"
    }
   ],
   "source": [
    "S_B / S_J"
   ]
  },
  {
   "cell_type": "markdown",
   "id": "5c1f0af8-c2ae-40d6-9c9c-9900ac904bf1",
   "metadata": {},
   "source": [
    "J0021-0909 would take 0.282 times less integration time than B0021-72C. Or, B0021-72C would take 3.5 times more time to detect than J0021-0909."
   ]
  },
  {
   "cell_type": "markdown",
   "id": "273b29e9-bca0-4fed-b0b8-75e7cbef4084",
   "metadata": {},
   "source": [
    "(c) In a few short sentences, describe the telescope you would design to detect millisecond pulsars if you\n",
    "had unlimited resources."
   ]
  },
  {
   "cell_type": "markdown",
   "id": "623026ed-ba88-4851-a31d-d6298c1e4748",
   "metadata": {},
   "source": [
    "The perfect telescope to detect millisecond pulsars would have the lowest system temperature possible, a high antenna gain, and a very large bandwidth."
   ]
  },
  {
   "cell_type": "code",
   "execution_count": null,
   "id": "1899a332-f88d-4f7b-b085-8c7f4e331e2a",
   "metadata": {},
   "outputs": [],
   "source": []
  },
  {
   "cell_type": "code",
   "execution_count": null,
   "id": "6fc007cd-366d-433e-ae97-32923ee4463b",
   "metadata": {},
   "outputs": [],
   "source": []
  },
  {
   "cell_type": "code",
   "execution_count": null,
   "id": "147c47fb-88c7-4ac5-b9c9-dea01176443d",
   "metadata": {},
   "outputs": [],
   "source": []
  },
  {
   "cell_type": "code",
   "execution_count": null,
   "id": "58513e0c-9ff1-4d2d-ae55-704e41fc2e73",
   "metadata": {},
   "outputs": [],
   "source": []
  }
 ],
 "metadata": {
  "kernelspec": {
   "display_name": "Python 3",
   "language": "python",
   "name": "python3"
  },
  "language_info": {
   "codemirror_mode": {
    "name": "ipython",
    "version": 3
   },
   "file_extension": ".py",
   "mimetype": "text/x-python",
   "name": "python",
   "nbconvert_exporter": "python",
   "pygments_lexer": "ipython3",
   "version": "3.8.8"
  }
 },
 "nbformat": 4,
 "nbformat_minor": 5
}
