{
 "cells": [
  {
   "cell_type": "code",
   "execution_count": 99,
   "id": "c64659c4",
   "metadata": {},
   "outputs": [],
   "source": [
    "from astropy import units as u\n",
    "from astropy import constants as const\n",
    "import numpy as np\n",
    "from matplotlib import pyplot as plt"
   ]
  },
  {
   "cell_type": "code",
   "execution_count": 100,
   "id": "4e1133d3",
   "metadata": {},
   "outputs": [],
   "source": [
    "def magnification(u):\n",
    "    top = u**2 + 2\n",
    "    bottom = u * np.sqrt(u**2 + 4)\n",
    "    return top / bottom"
   ]
  },
  {
   "cell_type": "code",
   "execution_count": 101,
   "id": "d944c631",
   "metadata": {},
   "outputs": [],
   "source": [
    "def reee(ein, dol):\n",
    "    return ein.to(u.radian) * dol"
   ]
  },
  {
   "cell_type": "code",
   "execution_count": 102,
   "id": "9da57157",
   "metadata": {},
   "outputs": [],
   "source": [
    "def source_lens_sep(t, umin, v, re):\n",
    "    test = (v.to(u.m / u.second)*(t.to(u.second))/re.to(u.m*u.rad))**2\n",
    "    return np.sqrt(umin**2 + test.value)"
   ]
  },
  {
   "cell_type": "code",
   "execution_count": 105,
   "id": "b79cad8b",
   "metadata": {},
   "outputs": [],
   "source": [
    "t = np.linspace(-1000, 1000, num=500) * u.day\n",
    "umin = np.linspace(0.1,1,num=5)\n",
    "v = 200 * u.km * u.s**(-1)\n",
    "ein = 8 * u.milliarcsecond\n",
    "dol = 2 * u.kpc\n",
    "re = reee(ein, dol)"
   ]
  },
  {
   "cell_type": "code",
   "execution_count": 106,
   "id": "b6943482",
   "metadata": {},
   "outputs": [
    {
     "data": {
      "image/png": "[encoded data removed]",
      "text/plain": [
       "<Figure size 432x288 with 1 Axes>"
      ]
     },
     "metadata": {
      "needs_background": "light"
     },
     "output_type": "display_data"
    }
   ],
   "source": [
    "for un in umin:\n",
    "    sep = source_lens_sep(t, un, v, re)\n",
    "    A = magnification(sep)\n",
    "    plt.plot(t, A, label=un)\n",
    "\n",
    "plt.yscale('log')\n",
    "plt.xscale('log')\n",
    "plt.xlabel('days')\n",
    "plt.ylabel('magnification of source')\n",
    "plt.legend()\n",
    "plt.show()"
   ]
  },
  {
   "cell_type": "markdown",
   "id": "6916b0f2",
   "metadata": {},
   "source": [
    "$\\theta_E = \\sqrt{\\frac{4 G M}{c^2}\\frac{D_{LS}}{D_L D_S}}$"
   ]
  },
  {
   "cell_type": "markdown",
   "id": "308cf1ce",
   "metadata": {},
   "source": [
    "$M = \\frac{\\theta_E^2 D_L D_S c^2}{4 G D_{LS}}$ "
   ]
  },
  {
   "cell_type": "code",
   "execution_count": 85,
   "id": "82d83d7f",
   "metadata": {},
   "outputs": [],
   "source": [
    "def M_BH(ein, dl, ds):\n",
    "    dls = ds - dl\n",
    "    top = ein.to(u.rad)**2 * dl.to(u.m) * ds.to(u.m) * const.c**2\n",
    "    bottom = 4 * const.G * dls.to(u.m)\n",
    "    return (top/bottom).to(u.M_sun, equivalencies=u.dimensionless_angles())"
   ]
  },
  {
   "cell_type": "code",
   "execution_count": 86,
   "id": "cf01ea9d",
   "metadata": {},
   "outputs": [
    {
     "data": {
      "text/latex": [
       "$5.8940158 \\; \\mathrm{M_{\\odot}}$"
      ],
      "text/plain": [
       "<Quantity 5.89401581 solMass>"
      ]
     },
     "execution_count": 86,
     "metadata": {},
     "output_type": "execute_result"
    }
   ],
   "source": [
    "M_BH(4 * u.milliarcsecond, 2 * u.kpc, 6*u.kpc)"
   ]
  },
  {
   "cell_type": "code",
   "execution_count": 87,
   "id": "75ecaeca",
   "metadata": {},
   "outputs": [
    {
     "data": {
      "text/plain": [
       "19.054607179632463"
      ]
     },
     "execution_count": 87,
     "metadata": {},
     "output_type": "execute_result"
    }
   ],
   "source": [
    "Mag1 = 16.4\n",
    "Mag2 = 13.2\n",
    "diff = Mag2 - Mag1\n",
    "A = 10**(diff/-2.5)\n",
    "A"
   ]
  },
  {
   "cell_type": "markdown",
   "id": "e4d7f9e5",
   "metadata": {},
   "source": [
    "$A = \\frac{u^2 + 2}{u \\sqrt{}u^2 + 4}$"
   ]
  },
  {
   "cell_type": "code",
   "execution_count": 95,
   "id": "2ee25c38",
   "metadata": {},
   "outputs": [],
   "source": [
    "from sympy import symbols, solve\n",
    "\n",
    "u = symbols('x')\n",
    "expr = (u**2 + 2) / (u * (u**2+4)**(1/2)) - 19.05\n",
    "sol = solve(expr)"
   ]
  },
  {
   "cell_type": "code",
   "execution_count": 97,
   "id": "857a8c9e",
   "metadata": {},
   "outputs": [
    {
     "data": {
      "text/latex": [
       "$\\displaystyle 0.0525477783825459$"
      ],
      "text/plain": [
       "0.0525477783825459"
      ]
     },
     "execution_count": 97,
     "metadata": {},
     "output_type": "execute_result"
    }
   ],
   "source": [
    "sol[0]"
   ]
  },
  {
   "cell_type": "code",
   "execution_count": null,
   "id": "980b2321",
   "metadata": {},
   "outputs": [],
   "source": []
  }
 ],
 "metadata": {
  "kernelspec": {
   "display_name": "Python 3",
   "language": "python",
   "name": "python3"
  },
  "language_info": {
   "codemirror_mode": {
    "name": "ipython",
    "version": 3
   },
   "file_extension": ".py",
   "mimetype": "text/x-python",
   "name": "python",
   "nbconvert_exporter": "python",
   "pygments_lexer": "ipython3",
   "version": "3.8.8"
  }
 },
 "nbformat": 4,
 "nbformat_minor": 5
}
