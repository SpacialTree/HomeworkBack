{
 "cells": [
  {
   "cell_type": "code",
   "execution_count": 2,
   "id": "84c7c711-8454-41d4-9b28-b9b544004e47",
   "metadata": {},
   "outputs": [],
   "source": [
    "from astropy import units as u\n",
    "from astropy import constants as const\n",
    "import numpy as np\n",
    "from matplotlib import pyplot as plt"
   ]
  },
  {
   "cell_type": "markdown",
   "id": "1b57e65c-4998-40e8-878e-df63f0f7a67d",
   "metadata": {},
   "source": [
    "### Dhruv's Homework\n",
    "\n",
    "Starting with the initial setup in Turner 2004 (https://iopscience.iop.org/article/10.1086/386545/pdf), create a plot for the vertical density profile for an $\\alpha$ disk (see lecture 21) as in the paper’s described initial conditions. Compare to figure 1 in the paper and describe any differences you see. What might you attribute them to?\n",
    "\n",
    "> The domain is a small patch of disk, centered 100 Schwarzschild radii, $R_s = 2 G M / c^2$, out from a black hole of $M = 10^8 M_{\\odot}$, and corotating at the central Keplerian orbital frequency $\\Omega_0$. The local shearing-box approximation is used, and Cartesian coordinates correspond to the distance from the origin (x, y, z) along the radial, orbital, and vertical directions, respectively (Hawley, Gammie, & Balbus 1995). The domain extends $1.5 R_s$ along the radial direction, $6 R_s$ along the orbit, and $6 R_s$ on either side of the midplane and is divided into 32 x 64 x 256 zones.\n",
    "\n",
    "...\n",
    "\n",
    "> The initial condition is a Shakura & Sunyaev (1973) model accreting at 10% of the Eddington value for luminous efficiency 0.1. \n",
    "In constructing the initial state only, the ratio a of stress to total pressure is set to 0.01. \n",
    "The resulting surface density is $1.1 \\times 10^{6}$ g cm$^{-2}$. \n",
    "The half-thickness H of the Shakura-Sunyaev model is $\\frac{3}{4} R_s$. \n",
    "The domain outside the model is filled with an ambient medium of the floor density. \n",
    "Since gravity increases with height, while radiation flux is independent of height outside the Shakura-Sunyaev model, the ambient medium is out of hydrostatic balance and falls toward the midplane when the calculation starts.\n",
    "\n",
    "> The magnetic field is given zero net vertical flux, so that outflows can completely demagnetize the domain. \n",
    "The starting configuration is an azimuthal flux tube of circular cross section, with radius $0.75 H$. \n",
    "The axis is offset from domain center by $+0.1H$ in $x$ and $+0.1H$ in $z$. \n",
    "Field strength in the tube is uniform at 2660 G, corresponding to 4% of initial midplane gas plus radiation pressure. \n",
    "The tube is twisted about its axis, giving the maximum poloidal component 661 G. \n",
    "The maximum vertical MRI wavelength of eight grid zones is adequately resolved. The domain-mean radial field is zero, and the mean azimuthal field of $159 G$ is much less than values that develop later. \n",
    "The calculation is begun with a small random poloidal\n",
    "velocity in each grid zone. The maximum amplitude of each\n",
    "velocity component is 1% of the midplane radiation sound\n",
    "speed.\n",
    "\n",
    "$\\rho = \\rho_c exp \\left(\\frac{-z^2}{2 H^2}\\right)$\n",
    "\n",
    "or...\n",
    "\n",
    "$\\rho = \\rho_c exp \\left(\\frac{-|z|}{H}\\right)$\n"
   ]
  },
  {
   "cell_type": "code",
   "execution_count": 24,
   "id": "0e9815f3-822e-4361-b29e-5c1ac998b1d0",
   "metadata": {},
   "outputs": [],
   "source": [
    "def density(rhoc, z, H):\n",
    "    return rhoc * np.exp(-z**2/(2*H**2))\n",
    "\n",
    "def alt_density(rhoc, z, H):\n",
    "    return rhoc * np.exp(-np.abs(z)/H)\n",
    "\n",
    "def schwar(M):\n",
    "    return 2 * const.G * M / const.c**2"
   ]
  },
  {
   "cell_type": "code",
   "execution_count": 29,
   "id": "0f705539-9f9c-4b95-b17a-ee7c2cd464f7",
   "metadata": {},
   "outputs": [],
   "source": [
    "rhoc = 10**(-8) * u.gram * u.cm**(-3)\n",
    "#sigma = 1.1 * 10**(-6) * u.gram * u.cm**(-3)\n",
    "M = 10**8 * u.M_sun\n",
    "Rs = schwar(M)\n",
    "H = 3/4 * Rs\n",
    "z = np.linspace(-6 * Rs.value, 6 * Rs.value, num=100)\n",
    "rho = density(rhoc, z, H.value)"
   ]
  },
  {
   "cell_type": "code",
   "execution_count": 33,
   "id": "600efbbe-df16-4275-af80-fb19f8e63ed4",
   "metadata": {},
   "outputs": [
    {
     "data": {
      "text/plain": [
       "Text(0, 0.5, 'Density/10$^{-8}$ g cm$^{-3}$')"
      ]
     },
     "execution_count": 33,
     "metadata": {},
     "output_type": "execute_result"
    },
    {
     "data": {
      "image/png": "[encoded data removed]",
      "text/plain": [
       "<Figure size 432x288 with 1 Axes>"
      ]
     },
     "metadata": {
      "needs_background": "light"
     },
     "output_type": "display_data"
    }
   ],
   "source": [
    "plt.plot(z/Rs, rho/10**(-8))\n",
    "plt.xlabel('Height / R$_s$')\n",
    "plt.ylabel('Density/10$^{-8}$ g cm$^{-3}$')"
   ]
  },
  {
   "cell_type": "markdown",
   "id": "644342f6-fa6e-44fb-b216-8469613d4fbc",
   "metadata": {},
   "source": [
    "The difference between this plot of the vertical density profile for an $\\alpha$ disk and Figure 1 in Turner 2004 is the height of the peak in density, which is because I chose a different value of $\\rho_c = 10^{-8}$ g cm$^{-3}$. Figure 1 in Turner 2004 also seems to have a slightly wider FWHM, which may be due to the higher peak as well. The plot is also missing the magnetic pressure."
   ]
  },
  {
   "cell_type": "code",
   "execution_count": null,
   "id": "2e05eba3-1a8a-43dd-a5d0-fe7bca288571",
   "metadata": {},
   "outputs": [],
   "source": []
  }
 ],
 "metadata": {
  "kernelspec": {
   "display_name": "Python 3",
   "language": "python",
   "name": "python3"
  },
  "language_info": {
   "codemirror_mode": {
    "name": "ipython",
    "version": 3
   },
   "file_extension": ".py",
   "mimetype": "text/x-python",
   "name": "python",
   "nbconvert_exporter": "python",
   "pygments_lexer": "ipython3",
   "version": "3.8.8"
  }
 },
 "nbformat": 4,
 "nbformat_minor": 5
}
