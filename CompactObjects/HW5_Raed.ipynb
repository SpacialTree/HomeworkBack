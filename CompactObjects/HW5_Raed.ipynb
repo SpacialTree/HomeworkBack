{
 "cells": [
  {
   "cell_type": "code",
   "execution_count": 1,
   "id": "ec7a8bb1-1dd6-4b06-9265-b10f653b3aa4",
   "metadata": {},
   "outputs": [],
   "source": [
    "from astropy import units as u\n",
    "from astropy import constants as const\n",
    "import numpy as np\n",
    "from matplotlib import pyplot as plt"
   ]
  },
  {
   "cell_type": "markdown",
   "id": "90764372-76cf-45b0-a17d-9c34065feb24",
   "metadata": {},
   "source": [
    "### Raed's Homework\n",
    "\n",
    "For two identical neutron stars of mass = $1.5 M_{\\odot}$. Calculate the\n",
    "following.\n",
    "\n",
    "a) Calculate the chirp mass\n",
    "\n",
    "$\\mathcal{M} = \\frac{(m_1 m_2)^{3/5}}{(m_1 + m_2)^{1/5}}$"
   ]
  },
  {
   "cell_type": "code",
   "execution_count": 2,
   "id": "6f98e9c0-b01b-4abe-a94e-0d57b86b5ed0",
   "metadata": {},
   "outputs": [],
   "source": [
    "def chirp_mass(m1, m2):\n",
    "    top = (m1 * m2) ** (3./5.)\n",
    "    bottom = (m1 + m2) ** (1./5.)\n",
    "    return top / bottom"
   ]
  },
  {
   "cell_type": "code",
   "execution_count": 5,
   "id": "2c2fac73-396f-48e2-a138-b161761238be",
   "metadata": {},
   "outputs": [
    {
     "data": {
      "text/latex": [
       "$1.3058258 \\; \\mathrm{M_{\\odot}}$"
      ],
      "text/plain": [
       "<Quantity 1.30582584 solMass>"
      ]
     },
     "execution_count": 5,
     "metadata": {},
     "output_type": "execute_result"
    }
   ],
   "source": [
    "M = 1.5 * u.M_sun\n",
    "chirp = chirp_mass(M, M)\n",
    "chirp"
   ]
  },
  {
   "cell_type": "markdown",
   "id": "64f4722e-dec3-4887-97cd-025de39b1659",
   "metadata": {},
   "source": [
    "b) Find the tidal deformability and the effective tidal deformability.\n",
    "\n",
    "Tidal deformability:\n",
    "\n",
    "$\\lambda = \\frac{2}{3} k_2 R^5$\n",
    "\n",
    "$k_2$ is the gravitational Love number, with typical values between 0.2 and 0.3. I will assume a gravitational Love number of 0.2.\n",
    "\n",
    "A 1.5 M$_{\\odot}$ neutron star could have a radius of 10.7, 11.1, 12.1 or 15.1 kilometers (for EOS FPS, UU, APR or L respectively)"
   ]
  },
  {
   "cell_type": "code",
   "execution_count": 14,
   "id": "3c6d6005-973b-40e4-bcbc-b39f21539afc",
   "metadata": {},
   "outputs": [
    {
     "data": {
      "text/latex": [
       "$34583.233 \\; \\mathrm{km^{5}}$"
      ],
      "text/plain": [
       "<Quantity 34583.23280133 km5>"
      ]
     },
     "execution_count": 14,
     "metadata": {},
     "output_type": "execute_result"
    }
   ],
   "source": [
    "def tidal(R):\n",
    "    k2 = 0.2\n",
    "    return (2./3.) * k2 * R**5\n",
    "\n",
    "M = 1.5 * u.M_sun\n",
    "R = 12.1 * u.km\n",
    "\n",
    "lam = tidal(R) \n",
    "lam"
   ]
  },
  {
   "cell_type": "markdown",
   "id": "d410e2a8-479a-4247-a466-9d3bda1a92e6",
   "metadata": {},
   "source": [
    "Effective Tidal Deformability:\n",
    "\n",
    "$\\Lambda = \\frac{\\lambda}{M^5}$"
   ]
  },
  {
   "cell_type": "code",
   "execution_count": 15,
   "id": "61b7b0f9-fefd-4cd6-ac19-e12f0052ec7a",
   "metadata": {},
   "outputs": [
    {
     "data": {
      "text/latex": [
       "$4554.1706 \\; \\mathrm{\\frac{km^{5}}{M_{\\odot}^{5}}}$"
      ],
      "text/plain": [
       "<Quantity 4554.17057466 km5 / solMass5>"
      ]
     },
     "execution_count": 15,
     "metadata": {},
     "output_type": "execute_result"
    }
   ],
   "source": [
    "def eff_tidal(R, M):\n",
    "    return tidal(R) / M**5\n",
    "\n",
    "eff = eff_tidal(R, M)\n",
    "eff"
   ]
  },
  {
   "cell_type": "markdown",
   "id": "24c840f1-ca2a-4928-878e-f7e986079043",
   "metadata": {},
   "source": [
    "c) Follow the work of David Radice, Sebastiano Bernuzzi, and Albino Perego (https://arxiv.org/pdf/2002.03863.pdf) to calculate the merger orbital velocity."
   ]
  },
  {
   "cell_type": "code",
   "execution_count": null,
   "id": "797c3d7c-bca9-4c2d-95e6-f10fad7ece63",
   "metadata": {},
   "outputs": [],
   "source": []
  },
  {
   "cell_type": "markdown",
   "id": "41d97ba2-0bdb-48af-bd08-1abfef237dcf",
   "metadata": {},
   "source": [
    "d) Assumme the distance from the center of mass to either NS is about 100\n",
    "km. Calculate the acceleration."
   ]
  },
  {
   "cell_type": "code",
   "execution_count": null,
   "id": "4dba1ba0-24e9-46e0-9719-758e49958541",
   "metadata": {},
   "outputs": [],
   "source": []
  },
  {
   "cell_type": "markdown",
   "id": "b7ed4fda-5903-46f9-9a83-492c213985c5",
   "metadata": {},
   "source": [
    "e) Using Newtonian physics, calculate the acceleration of two point particles of the same mass and distance."
   ]
  },
  {
   "cell_type": "code",
   "execution_count": null,
   "id": "257b12f3-a658-4255-91ee-81b8d60f5df2",
   "metadata": {},
   "outputs": [],
   "source": []
  },
  {
   "cell_type": "markdown",
   "id": "63cf0a94-fa49-487b-a322-86e627b074ad",
   "metadata": {},
   "source": [
    "f) Why do you think the tidal force accelerates the merger?"
   ]
  },
  {
   "cell_type": "code",
   "execution_count": null,
   "id": "59a6edbd-6d3f-4ad1-981d-a5e7b7ee4e4b",
   "metadata": {},
   "outputs": [],
   "source": []
  },
  {
   "cell_type": "code",
   "execution_count": null,
   "id": "87907dd0-3213-4238-82da-b50e96746ff3",
   "metadata": {},
   "outputs": [],
   "source": []
  },
  {
   "cell_type": "code",
   "execution_count": null,
   "id": "bb1b6d4c-a03c-46ab-ad08-8d3fcebc10d3",
   "metadata": {},
   "outputs": [],
   "source": []
  }
 ],
 "metadata": {
  "kernelspec": {
   "display_name": "Python 3",
   "language": "python",
   "name": "python3"
  },
  "language_info": {
   "codemirror_mode": {
    "name": "ipython",
    "version": 3
   },
   "file_extension": ".py",
   "mimetype": "text/x-python",
   "name": "python",
   "nbconvert_exporter": "python",
   "pygments_lexer": "ipython3",
   "version": "3.8.8"
  }
 },
 "nbformat": 4,
 "nbformat_minor": 5
}
