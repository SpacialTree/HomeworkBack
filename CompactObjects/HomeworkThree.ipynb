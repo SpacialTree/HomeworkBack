{
 "cells": [
  {
   "cell_type": "code",
   "execution_count": 24,
   "id": "d3ebb8b2",
   "metadata": {},
   "outputs": [],
   "source": [
    "from astropy import units as u\n",
    "import numpy as np\n",
    "from astropy import constants as const\n",
    "import matplotlib.pyplot as plt"
   ]
  },
  {
   "cell_type": "markdown",
   "id": "381d075a-261f-40d1-9681-3114bbe16d67",
   "metadata": {},
   "source": [
    "### Problem One"
   ]
  },
  {
   "cell_type": "code",
   "execution_count": 2,
   "id": "bec54fed-f60a-42b3-a621-ac41399a0377",
   "metadata": {},
   "outputs": [],
   "source": [
    "C_1 = ((6/7)**2)**(3/4) * (1-6/7)**(1/4)\n",
    "C_2 = (6/7)**2"
   ]
  },
  {
   "cell_type": "code",
   "execution_count": 3,
   "id": "da052e99",
   "metadata": {},
   "outputs": [],
   "source": [
    "def T_char(m, del_m, R_star):\n",
    "    T_c = ((3 * const.G * m * del_m) / (8 * np.pi * const.sigma_sb * R_star**3)) ** (1/4)\n",
    "    return T_c.to(u.K)"
   ]
  },
  {
   "cell_type": "code",
   "execution_count": 4,
   "id": "abd8806d-affc-49bc-9386-e5e5b2db1c14",
   "metadata": {},
   "outputs": [],
   "source": [
    "def schwarz_radius(M):\n",
    "    return 2 * const.G * M / const.c**2"
   ]
  },
  {
   "cell_type": "code",
   "execution_count": 5,
   "id": "8279af97-4c7c-47c9-8079-fe7087730438",
   "metadata": {},
   "outputs": [],
   "source": [
    "def wiens_law(T):\n",
    "    return const.b_wien / T"
   ]
  },
  {
   "cell_type": "markdown",
   "id": "ba6f5ea6-1d6d-4804-a569-cafd01b6712a",
   "metadata": {},
   "source": [
    "i. a neutron star with M˙ = 1.0 × 10−9 M_Sun yr−1, M ∼ 2 M_Sun and R ∼ 10 km\n",
    "\n",
    "ii. a white dwarf near the Chandrasekhar limit with M˙ = 1.0 × 10−10 M_Sun yr−1 and R ∼ R⊕\n",
    "\n",
    "iii. a 10 M_Sun black hole with M˙ = 1.0 × 10−8 M_Sun yr−1 and a 109 M_Sun black hole with M˙ = 10 M_Sun yr−1\n",
    "\n",
    "iv. a protostar with M˙ = 1.0 × 10−4 M_Sun yr−1, R ∼ 5 R_Sun and M ∼ 0.5 M_Sun\n",
    "\n"
   ]
  },
  {
   "cell_type": "code",
   "execution_count": 6,
   "id": "f5ff3053",
   "metadata": {},
   "outputs": [
    {
     "data": {
      "text/latex": [
       "$6682802.3 \\; \\mathrm{K}$"
      ],
      "text/plain": [
       "<Quantity 6682802.29971589 K>"
      ]
     },
     "execution_count": 6,
     "metadata": {},
     "output_type": "execute_result"
    }
   ],
   "source": [
    "## Neutron Star\n",
    "\n",
    "M = 2 * u.M_sun\n",
    "del_M = 1.0 * 10**(-9) * u.M_sun * u.year**(-1)\n",
    "R = 10 * u.km\n",
    "\n",
    "T_c = T_char(M, del_M, R)\n",
    "T_max = C_1 * T_c\n",
    "T_max"
   ]
  },
  {
   "cell_type": "code",
   "execution_count": 7,
   "id": "928bc197-e52a-4f4e-b4f3-30a88f875b21",
   "metadata": {},
   "outputs": [
    {
     "data": {
      "text/latex": [
       "$4.3361629 \\; \\mathrm{\\mathring{A}}$"
      ],
      "text/plain": [
       "<Quantity 4.33616292 Angstrom>"
      ]
     },
     "execution_count": 7,
     "metadata": {},
     "output_type": "execute_result"
    }
   ],
   "source": [
    "lambda_max = wiens_law(T_max)\n",
    "lambda_max.to(u.Angstrom)"
   ]
  },
  {
   "cell_type": "code",
   "execution_count": 8,
   "id": "cad62d8b-338e-4efb-9197-fccf407ea9a2",
   "metadata": {},
   "outputs": [
    {
     "data": {
      "text/latex": [
       "$48163.122 \\; \\mathrm{K}$"
      ],
      "text/plain": [
       "<Quantity 48163.12195331 K>"
      ]
     },
     "execution_count": 8,
     "metadata": {},
     "output_type": "execute_result"
    }
   ],
   "source": [
    "## White Dwarf near Chandrasekhar limit\n",
    "M = 1.4 * u.M_sun\n",
    "del_M = 1.0 * 10**(-9) * u.M_sun * u.year**(-1)\n",
    "R = 1 * u.R_earth\n",
    "\n",
    "T_c = T_char(M, del_M, R)\n",
    "T_max = C_1 * T_c\n",
    "T_max"
   ]
  },
  {
   "cell_type": "code",
   "execution_count": 9,
   "id": "73297a8a-d32b-4194-93d6-ad0f9d159a45",
   "metadata": {},
   "outputs": [
    {
     "data": {
      "text/latex": [
       "$601.65783 \\; \\mathrm{\\mathring{A}}$"
      ],
      "text/plain": [
       "<Quantity 601.65783231 Angstrom>"
      ]
     },
     "execution_count": 9,
     "metadata": {},
     "output_type": "execute_result"
    }
   ],
   "source": [
    "lambda_max = wiens_law(T_max)\n",
    "lambda_max.to(u.Angstrom)"
   ]
  },
  {
   "cell_type": "code",
   "execution_count": 10,
   "id": "e7145db6-c554-40c2-b3e3-82a3486f9a33",
   "metadata": {},
   "outputs": [
    {
     "data": {
      "text/latex": [
       "$7888164.3 \\; \\mathrm{K}$"
      ],
      "text/plain": [
       "<Quantity 7888164.27815807 K>"
      ]
     },
     "execution_count": 10,
     "metadata": {},
     "output_type": "execute_result"
    }
   ],
   "source": [
    "## 10 Solar Mass BH\n",
    "M = 10 * u.M_sun\n",
    "del_M = 1.0 * 10**(-8) * u.M_sun * u.year**(-1)\n",
    "R = schwarz_radius(M).to(u.km)\n",
    "\n",
    "T_c = T_char(M, del_M, R)\n",
    "T_max = C_1 * T_c\n",
    "T_max"
   ]
  },
  {
   "cell_type": "code",
   "execution_count": 11,
   "id": "ff73eb91-5d85-4dad-891b-79aef0a4c0fd",
   "metadata": {},
   "outputs": [
    {
     "data": {
      "text/latex": [
       "$3.6735695 \\; \\mathrm{\\mathring{A}}$"
      ],
      "text/plain": [
       "<Quantity 3.67356948 Angstrom>"
      ]
     },
     "execution_count": 11,
     "metadata": {},
     "output_type": "execute_result"
    }
   ],
   "source": [
    "lambda_max = wiens_law(T_max)\n",
    "lambda_max.to(u.Angstrom)"
   ]
  },
  {
   "cell_type": "code",
   "execution_count": 12,
   "id": "fbfef2b9-b3b9-494f-9c28-77f04b86c561",
   "metadata": {},
   "outputs": [
    {
     "data": {
      "text/latex": [
       "$140273.6 \\; \\mathrm{K}$"
      ],
      "text/plain": [
       "<Quantity 140273.60118853 K>"
      ]
     },
     "execution_count": 12,
     "metadata": {},
     "output_type": "execute_result"
    }
   ],
   "source": [
    "## SMBH \n",
    "M = 10**9 * u.M_sun\n",
    "del_M = 10 * u.M_sun * u.year**(-1)\n",
    "R = schwarz_radius(M).to(u.km)\n",
    "\n",
    "T_c = T_char(M, del_M, R)\n",
    "T_max = C_1 * T_c\n",
    "T_max"
   ]
  },
  {
   "cell_type": "code",
   "execution_count": 13,
   "id": "8a8bf913-2672-42f8-88f9-790d6a93ec41",
   "metadata": {},
   "outputs": [
    {
     "data": {
      "text/latex": [
       "$206.57999 \\; \\mathrm{\\mathring{A}}$"
      ],
      "text/plain": [
       "<Quantity 206.579993 Angstrom>"
      ]
     },
     "execution_count": 13,
     "metadata": {},
     "output_type": "execute_result"
    }
   ],
   "source": [
    "lambda_max = wiens_law(T_max)\n",
    "lambda_max.to(u.Angstrom)"
   ]
  },
  {
   "cell_type": "code",
   "execution_count": 14,
   "id": "0f258c64-1d8d-4d69-ae89-63f0d6bdef0a",
   "metadata": {},
   "outputs": [
    {
     "data": {
      "text/latex": [
       "$5866.7774 \\; \\mathrm{K}$"
      ],
      "text/plain": [
       "<Quantity 5866.77739272 K>"
      ]
     },
     "execution_count": 14,
     "metadata": {},
     "output_type": "execute_result"
    }
   ],
   "source": [
    "## Protostar\n",
    "M = 0.5 * u.M_sun\n",
    "del_M = 10**(-4) * u.M_sun * u.year**(-1)\n",
    "R = 5 * u.R_sun\n",
    "\n",
    "T_c = T_char(M, del_M, R)\n",
    "T_max = C_1 * T_c\n",
    "T_max"
   ]
  },
  {
   "cell_type": "code",
   "execution_count": 15,
   "id": "e618f094-9d70-4380-97d1-625a8f5228e1",
   "metadata": {},
   "outputs": [
    {
     "data": {
      "text/latex": [
       "$4939.2908 \\; \\mathrm{\\mathring{A}}$"
      ],
      "text/plain": [
       "<Quantity 4939.29079154 Angstrom>"
      ]
     },
     "execution_count": 15,
     "metadata": {},
     "output_type": "execute_result"
    }
   ],
   "source": [
    "lambda_max = wiens_law(T_max)\n",
    "lambda_max.to(u.Angstrom)"
   ]
  },
  {
   "cell_type": "code",
   "execution_count": null,
   "id": "738a51ce-a973-48ce-b7f3-100c410f765f",
   "metadata": {},
   "outputs": [],
   "source": []
  },
  {
   "cell_type": "code",
   "execution_count": null,
   "id": "b4bc3528-4213-4216-ba51-f4b5d43d8bc6",
   "metadata": {},
   "outputs": [],
   "source": []
  },
  {
   "cell_type": "code",
   "execution_count": null,
   "id": "be5b3d2c-75a5-4d54-92f0-e46d932d5055",
   "metadata": {},
   "outputs": [],
   "source": []
  },
  {
   "cell_type": "code",
   "execution_count": null,
   "id": "a239f6a5-03df-47b7-b04b-24aaf3784493",
   "metadata": {},
   "outputs": [],
   "source": []
  },
  {
   "cell_type": "code",
   "execution_count": null,
   "id": "cd048eb5-daab-4eb5-92d8-8e6fe12df50e",
   "metadata": {},
   "outputs": [],
   "source": []
  },
  {
   "cell_type": "markdown",
   "id": "d720eb2f-4e2d-4b59-8ea3-5ce042a7ac3d",
   "metadata": {},
   "source": [
    "### Problem Three"
   ]
  },
  {
   "cell_type": "code",
   "execution_count": 194,
   "id": "d0994225-9095-44da-a5f6-8fe4d0456b20",
   "metadata": {},
   "outputs": [],
   "source": [
    "def planck_func(lamb, T):\n",
    "    return (2*const.h*const.c**2 / lamb.to(u.m)**5) * (np.exp((const.h*const.c) / (lamb * const.k_B * T)) - 1)**(-1)\n",
    "\n",
    "def planck_freq(nu, T):\n",
    "    return (2 * const.h * nu**3 / const.c**2 ) * (np.exp(const.h*nu/(const.k_B*T)) - 1)**(-1)"
   ]
  },
  {
   "cell_type": "code",
   "execution_count": 195,
   "id": "6bc3bd06-c8ec-4a72-9f48-e2a791562bf9",
   "metadata": {},
   "outputs": [],
   "source": [
    "def temperature(r):\n",
    "    return r**(-3./4.) * (1-r**(-1./2.))**(1./4.)"
   ]
  },
  {
   "cell_type": "code",
   "execution_count": 196,
   "id": "5c400bb8-2495-498d-bd15-ddcb05113748",
   "metadata": {},
   "outputs": [],
   "source": [
    "## White Dwarf near Chandrasekhar limit\n",
    "M = 1.4 * u.M_sun\n",
    "del_M = 1.0 * 10**(-9) * u.M_sun * u.year**(-1)\n",
    "R_star = 1 * u.R_earth\n",
    "\n",
    "# Radius = R / R_star\n",
    "\n",
    "T_c = T_char(M, del_M, R_star)\n",
    "\n",
    "R = np.logspace(0, 2, num=100)\n",
    "temps = T_c * temperature(R)"
   ]
  },
  {
   "cell_type": "code",
   "execution_count": 203,
   "id": "1b1f9e58-11c8-4d62-bd15-b877e4aeb768",
   "metadata": {},
   "outputs": [
    {
     "name": "stdout",
     "output_type": "stream",
     "text": [
      "\n"
     ]
    }
   ],
   "source": [
    "spec_optical = planck_func(720 * u.nm, temps)\n",
    "spec_UV = planck_func(110*u.nm, temps)\n",
    "\n",
    "#(1000 * u.nm).to(u.Hz, equivalencies=u.spectral())\n",
    "\n",
    "spec_optical_f = planck_freq((720 * u.nm).to(u.Hz, equivalencies=u.spectral()), temps)#.to(u.W * u.m**(-2) * u.Hz**(-1))\n",
    "spec_optical_f.to(u.W * u.m**(-2) * u.Hz**(-1))\n",
    "spec_UV_f = planck_freq((110*u.nm).to(u.Hz, equivalencies=u.spectral()), temps)\n",
    "spec_UV_f.to(u.W * u.m**(-2) * u.Hz**(-1))\n",
    "print()"
   ]
  },
  {
   "cell_type": "code",
   "execution_count": 198,
   "id": "3e8e9c0d-dac7-4405-af2b-976dc34b2875",
   "metadata": {},
   "outputs": [
    {
     "ename": "SyntaxError",
     "evalue": "invalid syntax (<ipython-input-198-5ed16cdcd9a5>, line 1)",
     "output_type": "error",
     "traceback": [
      "\u001b[1;36m  File \u001b[1;32m\"<ipython-input-198-5ed16cdcd9a5>\"\u001b[1;36m, line \u001b[1;32m1\u001b[0m\n\u001b[1;33m    def flux()\u001b[0m\n\u001b[1;37m              ^\u001b[0m\n\u001b[1;31mSyntaxError\u001b[0m\u001b[1;31m:\u001b[0m invalid syntax\n"
     ]
    }
   ],
   "source": [
    "def flux()"
   ]
  },
  {
   "cell_type": "code",
   "execution_count": 205,
   "id": "73f9c5ad-4c32-42f5-97a4-7d0a691ea466",
   "metadata": {},
   "outputs": [
    {
     "data": {
      "text/plain": [
       "<matplotlib.legend.Legend at 0x139fd23b5b0>"
      ]
     },
     "execution_count": 205,
     "metadata": {},
     "output_type": "execute_result"
    },
    {
     "data": {
      "image/png": "[encoded data removed]",
      "text/plain": [
       "<Figure size 432x288 with 1 Axes>"
      ]
     },
     "metadata": {
      "needs_background": "light"
     },
     "output_type": "display_data"
    }
   ],
   "source": [
    "plt.plot(R, spec_optical, label='$\\lambda$ = 720nm')\n",
    "plt.plot(R, spec_UV, label='$\\lambda$ = 110nm')\n",
    "plt.xscale('log')\n",
    "plt.yscale('log')\n",
    "plt.xlabel('Radius (R/R_star)')\n",
    "plt.ylabel('Brightness [ J s-1 m-3 ]')\n",
    "plt.legend()"
   ]
  },
  {
   "cell_type": "code",
   "execution_count": null,
   "id": "8121c40a-9ebe-4068-a71e-93017bb83da9",
   "metadata": {},
   "outputs": [],
   "source": []
  },
  {
   "cell_type": "code",
   "execution_count": null,
   "id": "f227a312-c5a2-4b50-a969-1b1b392753c7",
   "metadata": {},
   "outputs": [],
   "source": []
  }
 ],
 "metadata": {
  "kernelspec": {
   "display_name": "Python 3",
   "language": "python",
   "name": "python3"
  },
  "language_info": {
   "codemirror_mode": {
    "name": "ipython",
    "version": 3
   },
   "file_extension": ".py",
   "mimetype": "text/x-python",
   "name": "python",
   "nbconvert_exporter": "python",
   "pygments_lexer": "ipython3",
   "version": "3.8.8"
  }
 },
 "nbformat": 4,
 "nbformat_minor": 5
}
