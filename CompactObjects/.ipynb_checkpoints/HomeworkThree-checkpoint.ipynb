{
 "cells": [
  {
   "cell_type": "code",
   "execution_count": 1,
   "id": "d3ebb8b2",
   "metadata": {},
   "outputs": [],
   "source": [
    "from astropy import units as u\n",
    "import numpy as np"
   ]
  },
  {
   "cell_type": "code",
   "execution_count": 2,
   "id": "da052e99",
   "metadata": {},
   "outputs": [],
   "source": [
    "def T_character(m, del_m, R_star):\n",
    "    T_c = ((3 * u.G * m * del_m) / (8 * np.pi * sigma_sb * R_star**3)) ** (1/4)\n",
    "    return T_c"
   ]
  },
  {
   "cell_type": "code",
   "execution_count": null,
   "id": "f5ff3053",
   "metadata": {},
   "outputs": [],
   "source": [
    "## Neutron Star"
   ]
  }
 ],
 "metadata": {
  "kernelspec": {
   "display_name": "Python 3",
   "language": "python",
   "name": "python3"
  },
  "language_info": {
   "codemirror_mode": {
    "name": "ipython",
    "version": 3
   },
   "file_extension": ".py",
   "mimetype": "text/x-python",
   "name": "python",
   "nbconvert_exporter": "python",
   "pygments_lexer": "ipython3",
   "version": "3.8.8"
  }
 },
 "nbformat": 4,
 "nbformat_minor": 5
}
