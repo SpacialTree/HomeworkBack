{
 "cells": [
  {
   "cell_type": "code",
   "execution_count": 1,
   "id": "472c8b5f-c268-4726-b8cf-3141f4c901fe",
   "metadata": {},
   "outputs": [],
   "source": [
    "from astropy import units as u\n",
    "from astropy import constants as const"
   ]
  },
  {
   "cell_type": "markdown",
   "id": "2da406d1-4d6b-4203-b2a6-e5f0d18ffe9c",
   "metadata": {},
   "source": [
    "### Justin's Homework\n",
    "\n",
    "1. Suppose we have two neutron stars of equal mass M = 1.4 M⊙. Assuming Post Newtonian general relativity approximations, calculate the symmetric mass ratio of this system for an inspiraling system.\n",
    "\n",
    "$\\eta = \\frac{m_1 m_2}{(m_1 + m_2)^2}$"
   ]
  },
  {
   "cell_type": "code",
   "execution_count": 2,
   "id": "e4e0138e-36e9-4deb-8b38-ece25c76b046",
   "metadata": {},
   "outputs": [],
   "source": [
    "def symm_mass_ratio(m1, m2):\n",
    "    top = m1 * m2\n",
    "    bottom = (m1 + m2)**2\n",
    "    return top / bottom"
   ]
  },
  {
   "cell_type": "code",
   "execution_count": 3,
   "id": "a39fa6b3-6dec-49bc-8b03-f3b9b7d30e80",
   "metadata": {},
   "outputs": [
    {
     "data": {
      "text/latex": [
       "$0.25 \\; \\mathrm{}$"
      ],
      "text/plain": [
       "<Quantity 0.25>"
      ]
     },
     "execution_count": 3,
     "metadata": {},
     "output_type": "execute_result"
    }
   ],
   "source": [
    "M = 1.2 * u.M_sun\n",
    "\n",
    "eta = symm_mass_ratio(M, M)\n",
    "eta"
   ]
  },
  {
   "cell_type": "markdown",
   "id": "aca9c1d8-e60b-4561-885e-af41df792637",
   "metadata": {},
   "source": [
    "2. Calculate the Chirp mass of this system.\n",
    "\n",
    "$\\mathcal{M} = \\frac{(m_1 m_2)^{3/5}}{(m_1 + m_2)^{1/5}}$"
   ]
  },
  {
   "cell_type": "code",
   "execution_count": 4,
   "id": "5bf9d1b6-1678-4320-8252-ab67e8cc807d",
   "metadata": {},
   "outputs": [],
   "source": [
    "def chirp_mass(m1, m2):\n",
    "    top = (m1 * m2) ** (3./5.)\n",
    "    bottom = (m1 + m2) ** (1./5.)\n",
    "    return top / bottom"
   ]
  },
  {
   "cell_type": "code",
   "execution_count": 5,
   "id": "28cc50e4-396d-4168-8bf4-3cf84691666f",
   "metadata": {},
   "outputs": [
    {
     "data": {
      "text/latex": [
       "$1.0446607 \\; \\mathrm{M_{\\odot}}$"
      ],
      "text/plain": [
       "<Quantity 1.04466068 solMass>"
      ]
     },
     "execution_count": 5,
     "metadata": {},
     "output_type": "execute_result"
    }
   ],
   "source": [
    "chirp_mass(M, M)"
   ]
  },
  {
   "cell_type": "code",
   "execution_count": null,
   "id": "375e4040-1487-4a5a-a7b2-b7801d0bc08e",
   "metadata": {},
   "outputs": [],
   "source": []
  }
 ],
 "metadata": {
  "kernelspec": {
   "display_name": "Python 3",
   "language": "python",
   "name": "python3"
  },
  "language_info": {
   "codemirror_mode": {
    "name": "ipython",
    "version": 3
   },
   "file_extension": ".py",
   "mimetype": "text/x-python",
   "name": "python",
   "nbconvert_exporter": "python",
   "pygments_lexer": "ipython3",
   "version": "3.8.8"
  }
 },
 "nbformat": 4,
 "nbformat_minor": 5
}
