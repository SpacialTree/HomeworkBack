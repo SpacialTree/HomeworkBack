{
 "cells": [
  {
   "cell_type": "code",
   "execution_count": 1,
   "id": "af1035e8-fc3f-4580-a26e-059b52fa82ad",
   "metadata": {},
   "outputs": [],
   "source": [
    "import astropy.io.fits as fits\n",
    "import numpy as np\n",
    "from glob import glob\n",
    "from matplotlib import pyplot as plt\n",
    "import matplotlib.colors as colors\n",
    "from astropy.visualization import simple_norm\n",
    "import ccdproc as ccd\n",
    "from astropy import visualization as viz\n",
    "from astropy.visualization import (imshow_norm, MinMaxInterval, SqrtStretch, ZScaleInterval)\n",
    "from astropy.coordinates import SkyCoord\n",
    "from photutils.aperture import ApertureStats\n",
    "from astropy.stats import SigmaClip\n",
    "from photutils.aperture import aperture_photometry, CircularAperture, CircularAnnulus\n",
    "from photutils.detection import DAOStarFinder\n",
    "from astropy.stats import mad_std\n",
    "from astropy.wcs import WCS\n",
    "from astropy.table import Table\n",
    "from astropy.io import ascii\n",
    "from astropy import units as u\n",
    "from datetime import datetime\n",
    "from astropy.time import Time"
   ]
  },
  {
   "cell_type": "markdown",
   "id": "15c5f59c-fb14-4f1e-94fb-1e001d2b7083",
   "metadata": {},
   "source": [
    "# Data Reduction"
   ]
  },
  {
   "cell_type": "code",
   "execution_count": 4,
   "id": "610ffb6d-79e3-464f-be7d-8d1d290640ad",
   "metadata": {},
   "outputs": [
    {
     "data": {
      "text/plain": [
       "['/mnt/c/Users/panda/Documents/ObsAstronomy/ObsData/LabSixData/othergroup/alberio',\n",
       " '/mnt/c/Users/panda/Documents/ObsAstronomy/ObsData/LabSixData/othergroup/bias',\n",
       " '/mnt/c/Users/panda/Documents/ObsAstronomy/ObsData/LabSixData/othergroup/calibration',\n",
       " '/mnt/c/Users/panda/Documents/ObsAstronomy/ObsData/LabSixData/othergroup/dark',\n",
       " '/mnt/c/Users/panda/Documents/ObsAstronomy/ObsData/LabSixData/othergroup/deneb',\n",
       " '/mnt/c/Users/panda/Documents/ObsAstronomy/ObsData/LabSixData/othergroup/epsPeg',\n",
       " '/mnt/c/Users/panda/Documents/ObsAstronomy/ObsData/LabSixData/othergroup/europa',\n",
       " '/mnt/c/Users/panda/Documents/ObsAstronomy/ObsData/LabSixData/othergroup/flat',\n",
       " '/mnt/c/Users/panda/Documents/ObsAstronomy/ObsData/LabSixData/othergroup/jupiter',\n",
       " '/mnt/c/Users/panda/Documents/ObsAstronomy/ObsData/LabSixData/othergroup/sun',\n",
       " '/mnt/c/Users/panda/Documents/ObsAstronomy/ObsData/LabSixData/othergroup/vega']"
      ]
     },
     "execution_count": 4,
     "metadata": {},
     "output_type": "execute_result"
    }
   ],
   "source": [
    "directory = '/mnt/c/Users/panda/Documents/ObsAstronomy/ObsData/LabSixData/othergroup/*'\n",
    "glob(directory)"
   ]
  },
  {
   "cell_type": "code",
   "execution_count": 13,
   "id": "e28e9d5a-472a-4610-ab2e-34a4440259fc",
   "metadata": {},
   "outputs": [],
   "source": [
    "files_bias = glob(glob(directory)[1]+'/*')\n",
    "files_dark = glob(glob(directory)[3]+'/*')\n",
    "files_flat = glob(glob(directory)[7]+'/*')\n",
    "files_cali = glob(glob(directory)[2]+'/*')\n",
    "files_albr = glob(glob(directory)[0]+'/*')\n",
    "files_denb = glob(glob(directory)[4]+'/*')\n",
    "files_epsP = glob(glob(directory)[5]+'/*')\n",
    "files_euro = glob(glob(directory)[6]+'/*')\n",
    "files_jupi = glob(glob(directory)[8]+'/*')\n",
    "files_sunn = glob(glob(directory)[9]+'/*')\n",
    "files_vega = glob(glob(directory)[10]+'/*')"
   ]
  },
  {
   "cell_type": "code",
   "execution_count": 26,
   "id": "ea7c47ff-6731-4cda-8f50-af4bec5501d5",
   "metadata": {},
   "outputs": [],
   "source": [
    "ccd_shape = fits.getdata(files_bias[0]).shape"
   ]
  },
  {
   "cell_type": "markdown",
   "id": "74db651f-bb1f-460d-96ae-033da9946f6b",
   "metadata": {},
   "source": [
    "### Bias"
   ]
  },
  {
   "cell_type": "code",
   "execution_count": 28,
   "id": "1a227697-463d-4597-8660-2318f460a908",
   "metadata": {},
   "outputs": [],
   "source": [
    "bias = np.zeros((len(files_bias), ccd_shape[0], ccd_shape[1]))\n",
    "for file in range(len(files_bias)):\n",
    "    bias[file] = fits.getdata(files_bias[file])"
   ]
  },
  {
   "cell_type": "code",
   "execution_count": null,
   "id": "2e5f8aa5-ae6c-492b-a104-a54c64ade90b",
   "metadata": {},
   "outputs": [],
   "source": []
  },
  {
   "cell_type": "code",
   "execution_count": null,
   "id": "4bb7a5f6-6e3c-4211-86c5-d4dc7a09847b",
   "metadata": {},
   "outputs": [],
   "source": []
  },
  {
   "cell_type": "markdown",
   "id": "4fa3b46b-1f9e-4dad-9803-22bbdb6ad751",
   "metadata": {},
   "source": [
    "### Dark"
   ]
  },
  {
   "cell_type": "code",
   "execution_count": 47,
   "id": "55aa7713-a60e-4c09-8d2a-e19e67cce6f4",
   "metadata": {},
   "outputs": [],
   "source": [
    "files_dark_07 = glob(files_dark[2]+'/*')\n",
    "files_dark_15 = glob(files_dark[0]+'/*')\n",
    "files_dark_30 = glob(files_dark[3]+'/*')\n",
    "files_dark_40 = glob(files_dark[1]+'/*')"
   ]
  },
  {
   "cell_type": "code",
   "execution_count": 48,
   "id": "b581d29f-ba8f-4dd6-b9d6-0fe2360f2503",
   "metadata": {},
   "outputs": [],
   "source": [
    "dark_07 = np.zeros((len(files_dark_07), ccd_shape[0], ccd_shape[1]))\n",
    "exptime_dark_07 = fits.getheader(files_dark_07[0])['EXPTIME']\n",
    "for file in range(len(files_dark_07)):\n",
    "    dark_07[file] = fits.getdata(files_dark_07[file])"
   ]
  },
  {
   "cell_type": "code",
   "execution_count": 49,
   "id": "4a058096-0001-471c-8136-9470c0065b8a",
   "metadata": {},
   "outputs": [],
   "source": [
    "dark_15 = np.zeros((len(files_dark_15), ccd_shape[0], ccd_shape[1]))\n",
    "exptime_dark_15 = fits.getheader(files_dark_15[0])['EXPTIME']\n",
    "for file in range(len(files_dark_15)):\n",
    "    dark_15[file] = fits.getdata(files_dark_15[file])"
   ]
  },
  {
   "cell_type": "code",
   "execution_count": 50,
   "id": "c77bc74d-7e74-4fab-a6dc-957832e7a4ec",
   "metadata": {},
   "outputs": [],
   "source": [
    "dark_30 = np.zeros((len(files_dark_30), ccd_shape[0], ccd_shape[1]))\n",
    "exptime_dark_30 = fits.getheader(files_dark_30[0])['EXPTIME']\n",
    "for file in range(len(files_dark_30)):\n",
    "    dark_30[file] = fits.getdata(files_dark_30[file])"
   ]
  },
  {
   "cell_type": "code",
   "execution_count": 51,
   "id": "f290cacf-f690-436c-ba3d-e18aeeafe64b",
   "metadata": {},
   "outputs": [],
   "source": [
    "dark_40 = np.zeros((len(files_dark_40), ccd_shape[0], ccd_shape[1]))\n",
    "exptime_dark_40 = fits.getheader(files_dark_40[0])['EXPTIME']\n",
    "for file in range(len(files_dark_40)):\n",
    "    dark_40[file] = fits.getdata(files_dark_40[file])"
   ]
  },
  {
   "cell_type": "markdown",
   "id": "3a745c7f-2cac-4c61-95d3-2ebf4843fafa",
   "metadata": {},
   "source": [
    "### Flat"
   ]
  },
  {
   "cell_type": "code",
   "execution_count": 46,
   "id": "981006c5-0036-427f-b5fb-f256449bb7c1",
   "metadata": {},
   "outputs": [],
   "source": [
    "flat = np.zeros((len(files_flat), ccd_shape[0], ccd_shape[1]))\n",
    "exptime_flat = fits.getheader(files_flat[0])['EXPTIME']\n",
    "for file in range(len(files_flat)):\n",
    "    flat[file] = fits.getdata(files_flat[file])"
   ]
  },
  {
   "cell_type": "code",
   "execution_count": null,
   "id": "d14fe9e8-2a0f-4dd1-b965-e6cc6ad15c61",
   "metadata": {},
   "outputs": [],
   "source": []
  },
  {
   "cell_type": "code",
   "execution_count": null,
   "id": "24f980f3-ae8c-4550-8e06-45cca6c4a366",
   "metadata": {},
   "outputs": [],
   "source": []
  },
  {
   "cell_type": "markdown",
   "id": "b3f6187e-4eba-4851-adee-0e5f3251515e",
   "metadata": {},
   "source": [
    "### Calibration"
   ]
  },
  {
   "cell_type": "code",
   "execution_count": 37,
   "id": "22622a43-baf4-4ec0-bee8-113bbad0e0db",
   "metadata": {},
   "outputs": [
    {
     "data": {
      "text/plain": [
       "['/mnt/c/Users/panda/Documents/ObsAstronomy/ObsData/LabSixData/othergroup/calibration/cal_Hg_7s.FIT',\n",
       " '/mnt/c/Users/panda/Documents/ObsAstronomy/ObsData/LabSixData/othergroup/calibration/cal_neon_10s.FIT']"
      ]
     },
     "execution_count": 37,
     "metadata": {},
     "output_type": "execute_result"
    }
   ],
   "source": [
    "files_cali"
   ]
  },
  {
   "cell_type": "code",
   "execution_count": 52,
   "id": "3a2666b6-8648-41de-a4fd-6d309bdb1a49",
   "metadata": {},
   "outputs": [],
   "source": [
    "cali_Hg = fits.getdata(files_cali[0])"
   ]
  },
  {
   "cell_type": "code",
   "execution_count": 53,
   "id": "26a98396-c5c8-4bcb-a3fb-98d63df2dcb9",
   "metadata": {},
   "outputs": [],
   "source": [
    "cali_Ne = fits.getdata(files_cali[1])"
   ]
  },
  {
   "cell_type": "markdown",
   "id": "868ab746-fccb-4cd2-858a-d2f687a72903",
   "metadata": {},
   "source": [
    "### Science"
   ]
  },
  {
   "cell_type": "code",
   "execution_count": 38,
   "id": "8a24ae69-8575-4b9d-8018-4abb7a8d4a56",
   "metadata": {},
   "outputs": [
    {
     "data": {
      "text/plain": [
       "['/mnt/c/Users/panda/Documents/ObsAstronomy/ObsData/LabSixData/othergroup/alberio/alberioa_40s_1.FIT',\n",
       " '/mnt/c/Users/panda/Documents/ObsAstronomy/ObsData/LabSixData/othergroup/alberio/alberioa_40s_2.FIT',\n",
       " '/mnt/c/Users/panda/Documents/ObsAstronomy/ObsData/LabSixData/othergroup/alberio/alberioa_40s_3.FIT',\n",
       " '/mnt/c/Users/panda/Documents/ObsAstronomy/ObsData/LabSixData/othergroup/alberio/alberioa_40s_4.FIT',\n",
       " '/mnt/c/Users/panda/Documents/ObsAstronomy/ObsData/LabSixData/othergroup/alberio/alberioa_40s_5.FIT',\n",
       " '/mnt/c/Users/panda/Documents/ObsAstronomy/ObsData/LabSixData/othergroup/alberio/alberiob_40s_1.FIT']"
      ]
     },
     "execution_count": 38,
     "metadata": {},
     "output_type": "execute_result"
    }
   ],
   "source": [
    "files_albr\n"
   ]
  },
  {
   "cell_type": "code",
   "execution_count": 39,
   "id": "39089b07-96e4-4561-b9a8-a467d43f2598",
   "metadata": {},
   "outputs": [
    {
     "data": {
      "text/plain": [
       "['/mnt/c/Users/panda/Documents/ObsAstronomy/ObsData/LabSixData/othergroup/deneb/deneb_40s_1.FIT',\n",
       " '/mnt/c/Users/panda/Documents/ObsAstronomy/ObsData/LabSixData/othergroup/deneb/deneb_40s_2.FIT',\n",
       " '/mnt/c/Users/panda/Documents/ObsAstronomy/ObsData/LabSixData/othergroup/deneb/deneb_40s_3.FIT']"
      ]
     },
     "execution_count": 39,
     "metadata": {},
     "output_type": "execute_result"
    }
   ],
   "source": [
    "files_denb\n"
   ]
  },
  {
   "cell_type": "code",
   "execution_count": 40,
   "id": "1b39e165-08cd-4a4d-9326-8791ef5bfd7d",
   "metadata": {},
   "outputs": [
    {
     "data": {
      "text/plain": [
       "['/mnt/c/Users/panda/Documents/ObsAstronomy/ObsData/LabSixData/othergroup/epsPeg/eps_Peg_40s.FIT',\n",
       " '/mnt/c/Users/panda/Documents/ObsAstronomy/ObsData/LabSixData/othergroup/epsPeg/eps_Peg_40s_2.FIT']"
      ]
     },
     "execution_count": 40,
     "metadata": {},
     "output_type": "execute_result"
    }
   ],
   "source": [
    "files_epsP\n"
   ]
  },
  {
   "cell_type": "code",
   "execution_count": 41,
   "id": "6d3607d0-54f5-4197-a9e4-123f08cf57a5",
   "metadata": {},
   "outputs": [
    {
     "data": {
      "text/plain": [
       "['/mnt/c/Users/panda/Documents/ObsAstronomy/ObsData/LabSixData/othergroup/europa/europa_40s_1.FIT',\n",
       " '/mnt/c/Users/panda/Documents/ObsAstronomy/ObsData/LabSixData/othergroup/europa/europa_40s_2.FIT']"
      ]
     },
     "execution_count": 41,
     "metadata": {},
     "output_type": "execute_result"
    }
   ],
   "source": [
    "files_euro\n"
   ]
  },
  {
   "cell_type": "code",
   "execution_count": 42,
   "id": "0a941a15-92ce-4c1f-9f40-27d1bbba65aa",
   "metadata": {},
   "outputs": [
    {
     "data": {
      "text/plain": [
       "['/mnt/c/Users/panda/Documents/ObsAstronomy/ObsData/LabSixData/othergroup/jupiter/Jupiter_30s_1.FIT',\n",
       " '/mnt/c/Users/panda/Documents/ObsAstronomy/ObsData/LabSixData/othergroup/jupiter/Jupiter_30s_2.FIT',\n",
       " '/mnt/c/Users/panda/Documents/ObsAstronomy/ObsData/LabSixData/othergroup/jupiter/Jupiter_30s_3.FIT',\n",
       " '/mnt/c/Users/panda/Documents/ObsAstronomy/ObsData/LabSixData/othergroup/jupiter/jupiter_30s_4.FIT',\n",
       " '/mnt/c/Users/panda/Documents/ObsAstronomy/ObsData/LabSixData/othergroup/jupiter/jupiter_30s_5.FIT']"
      ]
     },
     "execution_count": 42,
     "metadata": {},
     "output_type": "execute_result"
    }
   ],
   "source": [
    "files_jupi\n"
   ]
  },
  {
   "cell_type": "code",
   "execution_count": 43,
   "id": "8b88eaa4-ef63-4a73-961b-0ca8ba708fea",
   "metadata": {},
   "outputs": [
    {
     "data": {
      "text/plain": [
       "['/mnt/c/Users/panda/Documents/ObsAstronomy/ObsData/LabSixData/othergroup/sun/sun_20s001.FIT',\n",
       " '/mnt/c/Users/panda/Documents/ObsAstronomy/ObsData/LabSixData/othergroup/sun/sun_20s002.FIT',\n",
       " '/mnt/c/Users/panda/Documents/ObsAstronomy/ObsData/LabSixData/othergroup/sun/sun_20s003.FIT']"
      ]
     },
     "execution_count": 43,
     "metadata": {},
     "output_type": "execute_result"
    }
   ],
   "source": [
    "files_sunn\n"
   ]
  },
  {
   "cell_type": "code",
   "execution_count": 44,
   "id": "dc2bdf6b-957f-4bb3-87c6-15180ccaec0f",
   "metadata": {},
   "outputs": [
    {
     "data": {
      "text/plain": [
       "['/mnt/c/Users/panda/Documents/ObsAstronomy/ObsData/LabSixData/othergroup/vega/vega_1.FIT',\n",
       " '/mnt/c/Users/panda/Documents/ObsAstronomy/ObsData/LabSixData/othergroup/vega/vega_2.FIT']"
      ]
     },
     "execution_count": 44,
     "metadata": {},
     "output_type": "execute_result"
    }
   ],
   "source": [
    "files_vega\n"
   ]
  },
  {
   "cell_type": "code",
   "execution_count": null,
   "id": "d12817ee-743f-4c7c-8cb0-23a35965c238",
   "metadata": {},
   "outputs": [],
   "source": []
  }
 ],
 "metadata": {
  "kernelspec": {
   "display_name": "Python 3 (ipykernel)",
   "language": "python",
   "name": "python3"
  },
  "language_info": {
   "codemirror_mode": {
    "name": "ipython",
    "version": 3
   },
   "file_extension": ".py",
   "mimetype": "text/x-python",
   "name": "python",
   "nbconvert_exporter": "python",
   "pygments_lexer": "ipython3",
   "version": "3.9.7"
  }
 },
 "nbformat": 4,
 "nbformat_minor": 5
}
