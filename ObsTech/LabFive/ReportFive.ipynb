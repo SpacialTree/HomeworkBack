{
 "cells": [
  {
   "cell_type": "code",
   "execution_count": 9,
   "id": "ebfc80da-5202-424d-ab8f-ae09e6a9e312",
   "metadata": {},
   "outputs": [],
   "source": [
    "import astropy.io.fits as fits\n",
    "import numpy as np\n",
    "import glob\n",
    "from matplotlib import pyplot as plt\n",
    "import matplotlib.colors as colors\n",
    "from astropy.visualization import simple_norm\n",
    "import ccdproc as ccd\n",
    "from astropy import visualization as viz\n",
    "from astropy.visualization import (imshow_norm, MinMaxInterval, SqrtStretch, ZScaleInterval)\n",
    "from astropy.coordinates import SkyCoord\n",
    "from photutils.aperture import ApertureStats\n",
    "from astropy.stats import SigmaClip\n",
    "from photutils.aperture import aperture_photometry, CircularAperture, CircularAnnulus\n",
    "from photutils.detection import DAOStarFinder\n",
    "from astropy.stats import mad_std\n",
    "from astropy.wcs import WCS\n",
    "from astropy.table import Table\n",
    "from astropy.io import ascii\n",
    "from astropy import units as u"
   ]
  },
  {
   "cell_type": "code",
   "execution_count": 2,
   "id": "93e2abf6-149f-4013-ab1b-111a0db24747",
   "metadata": {},
   "outputs": [],
   "source": [
    "# Sunset is 7:09 PM \n",
    "# By at observatory at 6:39 PM to take sky flats\n",
    "# Ideally be done by 10 PM "
   ]
  },
  {
   "cell_type": "code",
   "execution_count": 5,
   "id": "70cad022-a432-4993-8af1-bf6d0d8659a6",
   "metadata": {},
   "outputs": [],
   "source": [
    "data = ascii.read('landoltstars.txt')  "
   ]
  },
  {
   "cell_type": "code",
   "execution_count": 13,
   "id": "314400c2-c341-4935-abd3-ea1d0cc2f1d1",
   "metadata": {},
   "outputs": [
    {
     "data": {
      "text/plain": [
       "<SkyCoord (ICRS): (ra, dec) in deg\n",
       "    (250.42183333, 36.45986111)>"
      ]
     },
     "execution_count": 13,
     "metadata": {},
     "output_type": "execute_result"
    }
   ],
   "source": [
    "star_pos = SkyCoord('16h41m41.24s', '36:27:35.5', unit=(u.hourangle, u.deg))\n",
    "star_pos"
   ]
  },
  {
   "cell_type": "code",
   "execution_count": 17,
   "id": "243cde44-0c0f-4ceb-a21f-af2c31a94629",
   "metadata": {},
   "outputs": [
    {
     "data": {
      "text/html": [
       "<i>Row index=0</i>\n",
       "<table id=\"table140183733296240\">\n",
       "<thead><tr><th>StarDesignation</th><th>RA(2000)</th><th>Dec(2000)</th><th>V</th><th>B-V</th><th>U-B</th><th>V-R</th><th>R-I</th><th>V-I</th></tr></thead>\n",
       "<thead><tr><th>str11</th><th>str8</th><th>str9</th><th>float64</th><th>float64</th><th>float64</th><th>float64</th><th>float64</th><th>float64</th></tr></thead>\n",
       "<tr><td>TPHE A</td><td>00:30:09</td><td>-46:31:22</td><td>14.651</td><td>0.793</td><td>0.38</td><td>0.435</td><td>0.405</td><td>0.841</td></tr>\n",
       "</table>"
      ],
      "text/plain": [
       "<Row index=0>\n",
       "StarDesignation RA(2000) Dec(2000)    V      B-V     U-B     V-R     R-I     V-I  \n",
       "     str11        str8      str9   float64 float64 float64 float64 float64 float64\n",
       "--------------- -------- --------- ------- ------- ------- ------- ------- -------\n",
       "         TPHE A 00:30:09 -46:31:22  14.651   0.793    0.38   0.435   0.405   0.841"
      ]
     },
     "execution_count": 17,
     "metadata": {},
     "output_type": "execute_result"
    }
   ],
   "source": [
    "data[0]"
   ]
  },
  {
   "cell_type": "code",
   "execution_count": 31,
   "id": "16076d2d-f475-4f5c-9f80-b3b8549f7324",
   "metadata": {},
   "outputs": [
    {
     "data": {
      "text/plain": [
       "526"
      ]
     },
     "execution_count": 31,
     "metadata": {},
     "output_type": "execute_result"
    }
   ],
   "source": [
    "len(data)"
   ]
  },
  {
   "cell_type": "code",
   "execution_count": 25,
   "id": "d8d3f98a-f0a0-4bbf-bbb0-000cb2fada1d",
   "metadata": {},
   "outputs": [
    {
     "data": {
      "text/plain": [
       "<SkyCoord (ICRS): (ra, dec) in deg\n",
       "    (7.5375, -46.52277778)>"
      ]
     },
     "execution_count": 25,
     "metadata": {},
     "output_type": "execute_result"
    }
   ],
   "source": [
    "st = SkyCoord(data[0]['RA(2000)'], data[0]['Dec(2000)'], unit=(u.hourangle, u.deg))\n",
    "st"
   ]
  },
  {
   "cell_type": "code",
   "execution_count": 29,
   "id": "936a541b-ccf5-4e1a-8c7e-124c646bc63a",
   "metadata": {},
   "outputs": [
    {
     "data": {
      "text/plain": [
       "8.874273021712979"
      ]
     },
     "execution_count": 29,
     "metadata": {},
     "output_type": "execute_result"
    }
   ],
   "source": [
    "st.separation(star_pos).hour"
   ]
  },
  {
   "cell_type": "code",
   "execution_count": 72,
   "id": "4489f507-822f-4e43-b6a6-ff5ab60c4a96",
   "metadata": {},
   "outputs": [
    {
     "name": "stdout",
     "output_type": "stream",
     "text": [
      "StarDesignation RA(2000) Dec(2000)   V    B-V   U-B   V-R   R-I   V-I \n",
      "--------------- -------- --------- ----- ----- ----- ----- ----- -----\n",
      "        109 231 17:45:20 -00:26:13 9.332 1.462 1.593 0.785 0.704 1.492\n",
      "Separation: 39.74439851862938\n",
      "StarDesignation RA(2000) Dec(2000)   V    B-V   U-B   V-R   R-I   V-I \n",
      "--------------- -------- --------- ----- ----- ----- ----- ----- -----\n",
      "        111 773 19:37:17 +00:10:38 8.963 0.206 -0.21 0.119 0.144 0.262\n",
      "Separation: 54.45338332240191\n"
     ]
    }
   ],
   "source": [
    "lands = []\n",
    "for star in data:\n",
    "    ra = star['RA(2000)']\n",
    "    dec = star['Dec(2000)']\n",
    "    coord = SkyCoord(ra, dec, unit=(u.hourangle, u.deg))\n",
    "    #dist.append(coord.separation(star_pos))\n",
    "    if star['V'] < 9.5 and coord.separation(star_pos).degree < 60:\n",
    "        print(star)\n",
    "        print('Separation:',coord.separation(star_pos).degree)\n",
    "        lands.append(star)"
   ]
  },
  {
   "cell_type": "code",
   "execution_count": 63,
   "id": "e61d1191-70f5-4ff4-ad94-bfcea8c7ee74",
   "metadata": {},
   "outputs": [
    {
     "data": {
      "text/plain": [
       "[]"
      ]
     },
     "execution_count": 63,
     "metadata": {},
     "output_type": "execute_result"
    }
   ],
   "source": [
    "lands"
   ]
  },
  {
   "cell_type": "markdown",
   "id": "e4e7b02f-277c-469b-b376-87f7e22b8858",
   "metadata": {},
   "source": [
    "### Landolt Star Photometry\n",
    "\n",
    "$V_{Landolt} = V_{Observed} + a (X-1) + b (X-1) (V_{Landolt}-I_{Landolt}) + ZP$"
   ]
  },
  {
   "cell_type": "code",
   "execution_count": null,
   "id": "ab01596a-bdbc-42f6-bfb5-0add449b35f2",
   "metadata": {},
   "outputs": [],
   "source": [
    "# For standard correction\n",
    "# air mass\n",
    "# airmass and color\n",
    "# vega? "
   ]
  }
 ],
 "metadata": {
  "kernelspec": {
   "display_name": "Python 3 (ipykernel)",
   "language": "python",
   "name": "python3"
  },
  "language_info": {
   "codemirror_mode": {
    "name": "ipython",
    "version": 3
   },
   "file_extension": ".py",
   "mimetype": "text/x-python",
   "name": "python",
   "nbconvert_exporter": "python",
   "pygments_lexer": "ipython3",
   "version": "3.9.7"
  }
 },
 "nbformat": 4,
 "nbformat_minor": 5
}
