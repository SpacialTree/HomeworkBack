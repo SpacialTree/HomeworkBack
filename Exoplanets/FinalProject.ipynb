{
 "cells": [
  {
   "cell_type": "markdown",
   "id": "52ba5254-59ae-4ebc-9a30-3bdccf0a5293",
   "metadata": {},
   "source": [
    "# Full Metal Bracket\n",
    "## Exoplanets Final Project\n",
    "#### by Savannah Gramze"
   ]
  },
  {
   "cell_type": "code",
   "execution_count": 17,
   "id": "941476f9-b487-42a1-85fe-dd619c864721",
   "metadata": {},
   "outputs": [],
   "source": [
    "import numpy as np\n",
    "import matplotlib.pyplot as plt\n",
    "import scipy as sci\n",
    "import seaborn as sns"
   ]
  },
  {
   "cell_type": "code",
   "execution_count": 2,
   "id": "6bd88f78-1cf7-4da0-892f-e02481d65bfe",
   "metadata": {},
   "outputs": [],
   "source": [
    "table3 = np.loadtxt('table3_fv05.txt', dtype='str')\n",
    "table8 = np.loadtxt('table8_vf05.txt', dtype='str')"
   ]
  },
  {
   "cell_type": "code",
   "execution_count": 45,
   "id": "1b4fe4ac-5cfa-4161-a972-bbe6fc90094f",
   "metadata": {},
   "outputs": [
    {
     "name": "stdout",
     "output_type": "stream",
     "text": [
      "['0' 'Sun' '5770' '4.44' '0.00' '0.00' '0.00' '0.00' '0.00' '0.00' '1.7'\n",
      " '-0.1' '1.80' '1.09' '6' '0' '0']\n",
      "['HD142' 'P']\n"
     ]
    }
   ],
   "source": [
    "print(table8[0])\n",
    "print(table3[0])"
   ]
  },
  {
   "cell_type": "code",
   "execution_count": 327,
   "id": "15138c7e-34db-4ca9-bfb9-12285297d0e8",
   "metadata": {},
   "outputs": [
    {
     "name": "stdout",
     "output_type": "stream",
     "text": [
      "842\n"
     ]
    }
   ],
   "source": [
    "i = 0\n",
    "stars = []\n",
    "FeH = []\n",
    "detect = []\n",
    "index = []\n",
    "for s in table3:\n",
    "    for obj in table8:\n",
    "        if s[0] == obj[1]:\n",
    "            stars.append(s[0])\n",
    "            FeH.append(obj[8])\n",
    "            detect.append(s[1])\n",
    "            index.append(i)\n",
    "            i += 1\n",
    "FeH = np.array(FeH).astype('float')\n",
    "print(i)"
   ]
  },
  {
   "cell_type": "markdown",
   "id": "ac31dd5f-184e-4aa8-92ad-e19d197a9b5f",
   "metadata": {},
   "source": [
    "1. To orient yourself to this data\n",
    "set, overplot the histograms of the metallicities of (1) stars with planets and (2) stars\n",
    "without planets. Normalize these histograms so you can see them on the same scale.\n",
    "By eye, is there an offset in the metal-rich direction for planet host stars?\n"
   ]
  },
  {
   "cell_type": "code",
   "execution_count": 328,
   "id": "46fa1dbe-8cdc-4af2-9444-d34b1d9c2327",
   "metadata": {},
   "outputs": [
    {
     "name": "stdout",
     "output_type": "stream",
     "text": [
      "[-0.5, -0.4, -0.3, -0.2, -0.1, 0, 0.1, 0.2, 0.3, 0.4, 0.5]\n"
     ]
    }
   ],
   "source": [
    "bins = [-0.5, -0.4, -0.3, -0.2, -0.1, 0, 0.1, 0.2, 0.3, 0.4, 0.5]#bins\n",
    "print(bins)\n",
    "#[-0.44  -0.341 -0.242 -0.143 -0.044  0.055  0.154  0.253  0.352  0.451  0.55 ]\n"
   ]
  },
  {
   "cell_type": "code",
   "execution_count": 381,
   "id": "db93dfa9-9257-48ad-a126-57162b607d2f",
   "metadata": {},
   "outputs": [
    {
     "data": {
      "text/plain": [
       "Text(0.5, 1.0, 'All Stars Put into Metallicity Bins')"
      ]
     },
     "execution_count": 381,
     "metadata": {},
     "output_type": "execute_result"
    },
    {
     "data": {
      "image/png": "[encoded data removed]",
      "text/plain": [
       "<Figure size 432x288 with 1 Axes>"
      ]
     },
     "metadata": {
      "needs_background": "light"
     },
     "output_type": "display_data"
    }
   ],
   "source": [
    "np.histogram(FeH)\n",
    "plt.hist(FeH, bins=bins)\n",
    "yes = []\n",
    "no = []\n",
    "for i in index:\n",
    "    if detect[i] == 'P':\n",
    "        yes.append(FeH[i])\n",
    "    elif detect[i] == 'S':\n",
    "        no.append(FeH[i])\n",
    "plt.title('All Stars Put into Metallicity Bins')"
   ]
  },
  {
   "cell_type": "code",
   "execution_count": 385,
   "id": "b0d8472b-cda5-4096-9d41-8d8e265a405f",
   "metadata": {},
   "outputs": [
    {
     "data": {
      "text/plain": [
       "Text(0.5, 1.0, 'Normalized Comparison of Stars with an without Planets')"
      ]
     },
     "execution_count": 385,
     "metadata": {},
     "output_type": "execute_result"
    },
    {
     "data": {
      "image/png": "[encoded data removed]",
      "text/plain": [
       "<Figure size 432x288 with 1 Axes>"
      ]
     },
     "metadata": {
      "needs_background": "light"
     },
     "output_type": "display_data"
    }
   ],
   "source": [
    "#n, bins, patches = \n",
    "#plt.hist(no, label='Stars without Planets', bins=bins, density=True, alpha=0.5, stacked=True)\n",
    "#plt.hist(yes, label='Stars with Planets', bins=bins, density=True, alpha=0.7, stacked=True)\n",
    "\n",
    "sns.histplot(no, bins=bins, stat='probability', label='Stars without Planets')\n",
    "sns.histplot(yes, bins=bins, stat='probability', color='red', label='Stars with Planets')\n",
    "\n",
    "\n",
    "plt.legend()\n",
    "plt.xlabel('[Fe/H]')\n",
    "plt.title('Normalized Comparison of Stars with an without Planets')"
   ]
  },
  {
   "cell_type": "markdown",
   "id": "371ca5f3-808f-4e4f-8434-77e64b77fa62",
   "metadata": {},
   "source": [
    "Answer to 1: There is a noticable shift towards more metal rich stars for those with planet detections. It seems like planet host stars tend to be more metal rich on average than metal poor stars."
   ]
  },
  {
   "cell_type": "markdown",
   "id": "806c572c-95a6-4eec-b014-15b12c177a96",
   "metadata": {},
   "source": [
    "2. \n",
    "\n",
    "| Star # | Star has Planet | Probability $p(D_i\\|f)$ | Metallicity | prior $p(f)$     |\n",
    "|--------|-----------------|-------------------------|-------------|------------------|\n",
    "| $1$    | $1$             | $f([Fe/H]_1)$           | $[Fe/H]_1$  | $p(f([Fe/H]_1))$ |\n",
    "| $2$    | $1$             | $f([Fe/H]_2)$           | $[Fe/H]_2$  | $p(f([Fe/H]_2))$ |\n",
    "| $3$    | $0$             | $1-f([Fe/H]_3)$         | $[Fe/H]_3$  | $p(f([Fe/H]_3))$ |\n",
    "| $4$    | $0$             | $1-f([Fe/H]_4)$         | $[Fe/H]_4$  | $p(f([Fe/H]_4))$ |\n",
    "\n",
    "\n",
    "$p(${D}|$f) = f([Fe/H]_1) \\times f([Fe/H]_2) \\times (1-f([Fe/H]_3)) \\times (1-f([Fe/H]_4))$\n",
    "\n"
   ]
  },
  {
   "cell_type": "markdown",
   "id": "25adb0f5-afc2-4122-825b-fb9f936e200b",
   "metadata": {},
   "source": [
    "3. Rewrite $p(${D}|$f)$ as a function of $\\alpha$, $\\beta$, and the four ${[Fe/H]_i}$.\n",
    "\n",
    "$f([Fe/H])$ = $\\alpha \\cdot 10^{\\beta [Fe/H]}$\n",
    "\n",
    "$p(${D}|$f)$ = $\\alpha \\cdot 10^{\\beta [Fe/H]_1} \\times \\alpha \\cdot 10^{\\beta [Fe/H]_2} \\times (1-\\alpha \\cdot 10^{\\beta [Fe/H]_3}) \\times (1-\\alpha \\cdot 10^{\\beta [Fe/H]_4})$"
   ]
  },
  {
   "cell_type": "markdown",
   "id": "eecf6e76-9162-4216-a685-7c14fd1c3dbe",
   "metadata": {},
   "source": [
    "4. For N stars:\n",
    "\n",
    "$p(${D}|$f)$ = $(\\alpha \\cdot 10^{\\beta [Fe/H]})^x \\times (1-\\alpha \\cdot 10^{\\beta [Fe/H]})^{N-x}$\n",
    "\n",
    "Where $x$ is the number of stars with planets and N is the total number of stars.\n",
    "\n"
   ]
  },
  {
   "cell_type": "code",
   "execution_count": 386,
   "id": "5881c60c-fb8d-44bc-bdb9-9549d7f18bda",
   "metadata": {},
   "outputs": [],
   "source": [
    "def fun(alpha, beta, metallicity):\n",
    "    return alpha * 10 ** (beta * metallicity)\n",
    "\n",
    "def like(alpha, beta, metals, detect):\n",
    "    li = 1\n",
    "    for i in range(len(metals)):\n",
    "        if detect[i] == 'P':\n",
    "            li *= fun(alpha, beta, metals[i])\n",
    "        elif detect[i] == 'S':\n",
    "            li *= (1-fun(alpha, beta, metals[i]))\n",
    "    return li"
   ]
  },
  {
   "cell_type": "code",
   "execution_count": 387,
   "id": "4202094e-b5f8-4bc5-bde5-bc2840916dfa",
   "metadata": {},
   "outputs": [
    {
     "data": {
      "text/plain": [
       "<AxesSubplot:xlabel='[Fe/H]', ylabel='Probability'>"
      ]
     },
     "execution_count": 387,
     "metadata": {},
     "output_type": "execute_result"
    },
    {
     "data": {
      "image/png": "[encoded data removed]",
      "text/plain": [
       "<Figure size 432x288 with 1 Axes>"
      ]
     },
     "metadata": {
      "needs_background": "light"
     },
     "output_type": "display_data"
    }
   ],
   "source": [
    "plt.xlabel('[Fe/H]')\n",
    "sns.histplot(yes, label='Stars with Planets', bins=bins, stat='probability')\n",
    "#plt.ylabel('$f([Fe/H])$')"
   ]
  },
  {
   "cell_type": "code",
   "execution_count": 388,
   "id": "82289342-d60f-46da-af72-3e7ff744b5e2",
   "metadata": {},
   "outputs": [],
   "source": [
    "def find_likelihood(alpha, beta, FeH, detect):\n",
    "    likelihood = np.zeros((len(alpha), len(beta)))\n",
    "\n",
    "    for a in range(len(alpha)):\n",
    "        for b in range(len(beta)):\n",
    "            likelihood[a, b] = like(alpha[a], beta[b], FeH, detect)\n",
    "            \n",
    "    return likelihood\n",
    "        \n",
    "alpha = np.linspace(0.0, 0.1, 50)#[0, .01, .02, .03, .04, .05, .06]\n",
    "beta = np.linspace(0.0, 3.0, 50)#[0, .1, .2, .3, .4, .5, .6] \n",
    "\n",
    "likelihood = find_likelihood(alpha, beta, FeH, detect)"
   ]
  },
  {
   "cell_type": "code",
   "execution_count": 395,
   "id": "bbbfe7b7-3447-4166-b942-ec53e922aee1",
   "metadata": {},
   "outputs": [
    {
     "data": {
      "image/png": "[encoded data removed]",
      "text/plain": [
       "<Figure size 432x288 with 1 Axes>"
      ]
     },
     "metadata": {
      "needs_background": "light"
     },
     "output_type": "display_data"
    },
    {
     "name": "stdout",
     "output_type": "stream",
     "text": [
      "0.04081632653061225 1.5918367346938775\n"
     ]
    },
    {
     "data": {
      "image/png": "[encoded data removed]",
      "text/plain": [
       "<Figure size 432x288 with 1 Axes>"
      ]
     },
     "metadata": {
      "needs_background": "light"
     },
     "output_type": "display_data"
    }
   ],
   "source": [
    "fig, ax = plt.subplots()\n",
    "\n",
    "mn = np.unravel_index(likelihood.argmax(), likelihood.shape)\n",
    "manA = mn[0]\n",
    "manB = mn[1]\n",
    "\n",
    "#levels = np.linspace(np.amin(likelihood), np.amax(likelihood), num=10)\n",
    "std = np.std(likelihood)\n",
    "contours = plt.contour(alpha, beta, likelihood, levels=[std, 2*std], colors='black')\n",
    "plt.xlabel('alpha')\n",
    "plt.ylabel('beta')\n",
    "plt.plot(alpha[manA], beta[manB],'rd')\n",
    "\n",
    "plt.show()\n",
    "\n",
    "'''fig,ax = plt.subplots()\n",
    "plt.imshow(likelihood, interpolation='none')\n",
    "ax.invert_yaxis()\n",
    "plt.xlabel('alpha')\n",
    "plt.ylabel('beta')\n",
    "plt.show()'''\n",
    "\n",
    "\n",
    "\n",
    "plt.xlabel('[Fe/H]')\n",
    "plt.ylabel('f')\n",
    "hei = [h.get_height() for h in sns.histplot(yes, label='Stars with Planets', bins=bins, stat='probability').patches]\n",
    "alp = alpha[manA]#0.05\n",
    "bet = beta[manB]#1.25\n",
    "plt.plot(bins,fun(alp, bet, np.array(bins)), 'r--',label='Likeliest Power Law')\n",
    "#plt.text(0, 0,'$f([Fe/H])$ = $\\alpha \\cdot 10^{\\beta [Fe/H]}$')\n",
    "plt.legend()\n",
    "print(alp,bet)\n"
   ]
  },
  {
   "cell_type": "markdown",
   "id": "005bf552-10f4-4a33-aa96-8a11bc411f35",
   "metadata": {},
   "source": [
    "5. No, the 1$\\sigma$ confidence interval for $p(${$D$}|$f)$ leaves out quite a few of the VF05 values on the histogram. $\\Delta f$ is consistently less than zero."
   ]
  },
  {
   "cell_type": "code",
   "execution_count": 399,
   "id": "c5c84591-9684-49e7-9bb6-05e83a2e957b",
   "metadata": {},
   "outputs": [
    {
     "name": "stdout",
     "output_type": "stream",
     "text": [
      "Values of Δf:\n",
      "-0.03694822527933641\n",
      "0.009421048113644196\n",
      "-0.029886275598855698\n",
      "-0.002129628246631321\n",
      "-0.05866539513706069\n",
      "-0.0896184560780834\n",
      "-0.0932871626186408\n",
      "-0.1541730250804798\n",
      "-0.09482109269201289\n",
      "0.11161776454638896\n"
     ]
    }
   ],
   "source": [
    "print('Values of \\u0394f:')\n",
    "avgrich = 0.0\n",
    "i=0\n",
    "for b in range(len(hei)):\n",
    "    delf = fun(alp, bet, bins[b]) - hei[b]\n",
    "    print(delf)\n",
    "    if bins[b] > 0.0:\n",
    "        avgrich += hei[b]\n",
    "        i+=1\n"
   ]
  },
  {
   "cell_type": "markdown",
   "id": "7fbfb80d-8ad5-4941-bbb8-339860ba591c",
   "metadata": {},
   "source": [
    "6. (b) Given the values for $[\\alpha, \\beta]$, what is the relationship between the number of iron atoms in the primordial disk and the number of planets? How does the increased number of iron atoms $N_{Fe}$ scale with $N_{planet}$? Is there a 1:1 relationship where twice as much iron means twice as m"
   ]
  },
  {
   "cell_type": "markdown",
   "id": "b9caf014-b541-4c51-ac1d-0a98f293a960",
   "metadata": {},
   "source": [
    "$[Fe/H] = log(N_{Fe} / N_H) - log(N_{Fe} / N_H)_{Sun}$\n",
    "\n",
    "$P(planet) = 0.04 \\times [\\frac{N_{Fe} / N_H}{(N_{Fe} / N_H)_{Sun}}]^{1.59}$\n",
    "\n",
    "Functional form of the probability of forming a planet from Fisher and Valenti 2005. The number of planets scales as $N_{planet} \\propto N_{Fe}^{1.59}$. The relationship between the two is not 1:1, so more iron means many more planets. For instance, twice as much iron would create 3 times as many planets going by this relationship. "
   ]
  },
  {
   "cell_type": "code",
   "execution_count": null,
   "id": "6a211445-b6c8-4326-bb1d-b25ec7381686",
   "metadata": {},
   "outputs": [],
   "source": []
  },
  {
   "cell_type": "code",
   "execution_count": null,
   "id": "d4a4d09f-5bc3-49c6-bac4-b8d6d07c51ed",
   "metadata": {},
   "outputs": [],
   "source": []
  },
  {
   "cell_type": "markdown",
   "id": "3f56d0b5-c73a-437c-9df6-e8e943ac90f7",
   "metadata": {},
   "source": [
    "6. (a) Stars with $[Fe/H] < 0.0$ are metal poor, and have a completeness $C$, where $C < 1.0$. All metal rich stars have $C = 1.0$. Why would this allow for a flatter metallicity-planet occurance relationship? What does $C$ need to be for $\\beta$ to be zero at the $2\\sigma$ level?\n",
    "\n",
    "If the completeness was less for metal poor stars due to the difficulty in applying the radial velocity method, then the metallicity-planet occurence relationship would be flatter as there would be more planets that we are not detecting around metal poor stars. "
   ]
  },
  {
   "cell_type": "code",
   "execution_count": 343,
   "id": "ff17b02b-d646-4f71-9747-ac952dd504a8",
   "metadata": {},
   "outputs": [
    {
     "data": {
      "text/plain": [
       "[<matplotlib.lines.Line2D at 0x1aa117d3d00>]"
      ]
     },
     "execution_count": 343,
     "metadata": {},
     "output_type": "execute_result"
    },
    {
     "data": {
      "image/png": "[encoded data removed]",
      "text/plain": [
       "<Figure size 432x288 with 1 Axes>"
      ]
     },
     "metadata": {
      "needs_background": "light"
     },
     "output_type": "display_data"
    }
   ],
   "source": [
    "plt.xlabel('[Fe/H]')\n",
    "plt.ylabel('f')\n",
    "hei = [h.get_height() for h in sns.histplot(yes, label='Stars with Planets', bins=bins, stat='probability').patches]\n",
    "alp = alpha[manA]#0.05\n",
    "bet = beta[manB]#1.25\n",
    "plt.plot(bins,fun(alp, bet, np.array(bins)), 'r--')\n",
    "plt.plot(bins,fun(0.15, 0, np.array(bins)), 'r--')"
   ]
  }
 ],
 "metadata": {
  "kernelspec": {
   "display_name": "Python 3",
   "language": "python",
   "name": "python3"
  },
  "language_info": {
   "codemirror_mode": {
    "name": "ipython",
    "version": 3
   },
   "file_extension": ".py",
   "mimetype": "text/x-python",
   "name": "python",
   "nbconvert_exporter": "python",
   "pygments_lexer": "ipython3",
   "version": "3.8.8"
  }
 },
 "nbformat": 4,
 "nbformat_minor": 5
}
