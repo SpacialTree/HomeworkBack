{
 "cells": [
  {
   "cell_type": "code",
   "execution_count": 7,
   "id": "a5d995d1",
   "metadata": {},
   "outputs": [],
   "source": [
    "import numpy as np\n",
    "import matplotlib.pyplot as plt"
   ]
  },
  {
   "cell_type": "code",
   "execution_count": 83,
   "id": "1bcd5d97",
   "metadata": {},
   "outputs": [],
   "source": [
    "x = np.linspace(-10,0, num=100)\n",
    "eye = np.e**x + 10*(1-np.e**x)"
   ]
  },
  {
   "cell_type": "code",
   "execution_count": 84,
   "id": "432b35fd",
   "metadata": {},
   "outputs": [
    {
     "data": {
      "image/png": "[encoded data removed]",
      "text/plain": [
       "<Figure size 432x288 with 1 Axes>"
      ]
     },
     "metadata": {
      "needs_background": "light"
     },
     "output_type": "display_data"
    }
   ],
   "source": [
    "plt.plot(x, eye)\n",
    "plt.xlabel(\"-$\\u03BA_{\\u03BD}$\\u03C1s\")\n",
    "plt.ylabel(\"${I } / { I_{\\u03BD, 0}}$\")\n",
    "plt.ylim(9,10.1)\n",
    "plt.title(\"Plot\")\n",
    "plt.show()\n"
   ]
  },
  {
   "cell_type": "code",
   "execution_count": 82,
   "id": "a330bf68",
   "metadata": {},
   "outputs": [
    {
     "name": "stdout",
     "output_type": "stream",
     "text": [
      "-10.0 9.999591400632138 0.00040859936786219464\n",
      "-9.0 9.99888931176322 0.0011106882367801774\n",
      "-8.0 9.996980836348877 0.0030191636511229802\n",
      "-7.0 9.99179306231001 0.008206937689989147\n",
      "-6.0 9.977691230410002 0.022308769589997723\n",
      "-5.0 9.93935847700823 0.06064152299176939\n",
      "-4.0 9.835159250001391 0.16484074999860887\n",
      "-3.0 9.551916384689225 0.44808361531077523\n",
      "-2.0 8.781982450870485 1.2180175491295149\n",
      "-1.0 6.6890850294570185 3.3109149705429815\n",
      "0.0 1.0 9.0\n"
     ]
    }
   ],
   "source": [
    "for num in x:\n",
    "    i = np.e**num + 10*(1-np.e**num)\n",
    "    print(num, i, 10 - i)"
   ]
  },
  {
   "cell_type": "code",
   "execution_count": null,
   "id": "adeb1cc8",
   "metadata": {},
   "outputs": [],
   "source": []
  }
 ],
 "metadata": {
  "kernelspec": {
   "display_name": "Python 3",
   "language": "python",
   "name": "python3"
  },
  "language_info": {
   "codemirror_mode": {
    "name": "ipython",
    "version": 3
   },
   "file_extension": ".py",
   "mimetype": "text/x-python",
   "name": "python",
   "nbconvert_exporter": "python",
   "pygments_lexer": "ipython3",
   "version": "3.8.8"
  }
 },
 "nbformat": 4,
 "nbformat_minor": 5
}
