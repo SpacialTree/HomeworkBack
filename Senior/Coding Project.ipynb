{
 "cells": [
  {
   "cell_type": "code",
   "execution_count": null,
   "metadata": {},
   "outputs": [],
   "source": [
    "import numpy as np\n",
    "import matplotlib.pyplot as plt\n"
   ]
  },
  {
   "cell_type": "markdown",
   "metadata": {},
   "source": [
    "## Part 1\n",
    "1D Ising chain: spins with nearest-neighbor interactions"
   ]
  },
  {
   "cell_type": "code",
   "execution_count": 212,
   "metadata": {},
   "outputs": [],
   "source": [
    "# Finds the total energy of a given 1D chain\n",
    "def compute_energy(chain,J):\n",
    "    #print(chain)\n",
    "    i = 0\n",
    "    E = 0.0    # total energy\n",
    "    #J = 1.0\n",
    "    n = chain.size\n",
    "    while i < n:\n",
    "        #print(chain[i], chain[i-1])\n",
    "        E += -J*chain[i]*chain[i-1]\n",
    "        i += 1\n",
    "    #print(E)\n",
    "    return E\n",
    "# Flips a random spin of a given 1D chain\n",
    "def rand_flip(chain):\n",
    "    n = chain.size\n",
    "    rand_ind = np.random.randint(0,n)\n",
    "    chain[rand_ind] = -1*chain[rand_ind]\n",
    "    return rand_ind\n"
   ]
  },
  {
   "cell_type": "code",
   "execution_count": 219,
   "metadata": {},
   "outputs": [
    {
     "name": "stdout",
     "output_type": "stream",
     "text": [
      "\n"
     ]
    }
   ],
   "source": [
    "def main_1D(temperature):\n",
    "    # Part 1\n",
    "    # Thermal simulations of interacting spins on a 1D lattice using\n",
    "    # Metropolis algorithm\n",
    "    k = 1.38064852*10**-23\n",
    "    T = temperature #273 #3*10.0**23\n",
    "    kT = k*T #3.0\n",
    "    J = 3.0 * kT   # units of kT, smaller, higher, near\n",
    "                    # 3 is >> kT\n",
    "    beta = 1./kT\n",
    "    hfield = 0\n",
    "    mu = 1.0\n",
    "    \n",
    "    n = 32    # Number of Spins\n",
    "    chain = np.ones(n) #np.random.randint(2,size=n)\n",
    "                #ones(n)    # 1D chain of N spins all aligned up\n",
    "    for spin in range(0,n):\n",
    "        if chain[spin] == 0.0:\n",
    "            chain[spin] = -1.\n",
    "    energies = np.array([compute_energy(chain,J)])\n",
    "    #print(chain)\n",
    "    \n",
    "    eq = False\n",
    "    iteration = 0\n",
    "    max_iter = 2000\n",
    "    acceptance = 0\n",
    "    do_printout = False\n",
    "    do_plot = False\n",
    "    \n",
    "    #Marr = np.zeros(n) # mu*sum of the average spins\n",
    "    #Cv = 0 ##1./(kT**2) * (avg(E**2)+avg(E)**2)\n",
    "    #m = np.sin(beta*hfield) / ((np.sin(beta*hfield))**2+np.exp(-4*J))**(.5)\n",
    "    \n",
    "    if do_plot:\n",
    "        plt.show()\n",
    "        plt.figure()\n",
    "        \n",
    "    while not eq: \n",
    "        ace = False\n",
    "        E1 = compute_energy(chain,J)\n",
    "\n",
    "        rand_ind = rand_flip(chain)\n",
    "        E2 = compute_energy(chain,J)\n",
    "\n",
    "        delta_E = E2 - E1\n",
    "\n",
    "        if delta_E == 0.0:\n",
    "            acceptance += 1\n",
    "            ace = True\n",
    "            energies = np.append(energies,E2)\n",
    "        elif delta_E > 0:\n",
    "            p = np.exp(-delta_E/kT)\n",
    "            r = np.random.random()\n",
    "            if r > p:\n",
    "                chain[rand_ind] = -1*chain[rand_ind]\n",
    "                energies = np.append(energies,E1)\n",
    "            else:\n",
    "                acceptance += 1\n",
    "                ace = True\n",
    "                energies = np.append(energies,E2)\n",
    "        else: \n",
    "            acceptance += 1\n",
    "            ace = True\n",
    "            energies = np.append(energies,E2)\n",
    "\n",
    "        #plt.subplot(212)\n",
    "        #plt.plot(iteration,acceptance,'go')\n",
    "        iteration += 1\n",
    "        if iteration == max_iter:\n",
    "            eq = True\n",
    "\n",
    "        if do_printout:# and ace:\n",
    "            print(chain)\n",
    "            print('Iteration:', iteration+1)\n",
    "            print('Total Energy 1:', E1)\n",
    "            print('Total Energy 2:', E2)\n",
    "            print('Change in Energy:', delta_E)\n",
    "            print(acceptance)\n",
    "            print()\n",
    "        #Marr = np.add(Marr, chain)\n",
    "        #print(np.sum(Marr))\n",
    "    #Mag = mu*np.sum(np.divide(Marr,iteration))\n",
    "    if do_printout:\n",
    "        print('Acceptance Rate:', acceptance, 'acceptances in', iteration, 'iterations')\n",
    "        #print('Average magnetization:',np.round(Mag,3))\n",
    "        print(eq)\n",
    "    #print(m)\n",
    "    #print(np.sum(chain),n,chain)\n",
    "    Mag = np.sum(chain)\n",
    "    if do_plot:\n",
    "        plt.plot(energies)\n",
    "        plt.show()\n",
    "    #print(Mag)\n",
    "    return energies, Mag\n",
    "    \n",
    "##\n",
    "# 1 run simulation 1000x iterations\n",
    "# write down avg found energy\n",
    "# run it again, repeat at one temperature\n",
    "# repeat 1-3 at different temperatures\n",
    "##\n",
    "\n",
    "main_1D(273.)\n",
    "\n",
    "print()"
   ]
  },
  {
   "cell_type": "code",
   "execution_count": 222,
   "metadata": {},
   "outputs": [
    {
     "name": "stdout",
     "output_type": "stream",
     "text": [
      "\n"
     ]
    }
   ],
   "source": [
    "run_temp = 100\n",
    "max_temp = 500#5000\n",
    "arr_length = 50#int(max_temp/run_temp)\n",
    "siz = 10 # number of energies to average over\n",
    "\n",
    "temperatures = np.linspace(run_temp, max_temp, arr_length)\n",
    "k = 1.38064852*10**-23\n",
    "energies = np.zeros((arr_length,siz))\n",
    "Cv = np.zeros(arr_length) ##1./(kT**2) * (avg(E**2)-avg(E)**2)\n",
    "Mag = np.zeros(arr_length)\n",
    "\n",
    "for i in range(0,temperatures.size):\n",
    "    temp = temperatures[i]\n",
    "    m = np.zeros(siz)\n",
    "    for j in range(0,siz):\n",
    "        en, m[j] = main_1D(temp)\n",
    "        energies[i,j] = np.mean(en)\n",
    "    Cv[i] = (1./(k*temp**2))*(np.mean(np.multiply(energies[i],energies[i])**2) - np.mean(energies[i]**2))\n",
    "    Mag[i] = np.mean(m)\n",
    "    \n",
    "print()"
   ]
  },
  {
   "cell_type": "code",
   "execution_count": 241,
   "metadata": {},
   "outputs": [
    {
     "name": "stdout",
     "output_type": "stream",
     "text": [
      "-1.272405676032002e-19 -1.272405676032002e-19\n"
     ]
    },
    {
     "data": {
      "text/plain": [
       "Text(0, 0.5, 'Magnetization')"
      ]
     },
     "execution_count": 241,
     "metadata": {},
     "output_type": "execute_result"
    },
    {
     "data": {
      "image/png": "[encoded data removed]",
      "text/plain": [
       "<Figure size 432x288 with 1 Axes>"
      ]
     },
     "metadata": {
      "needs_background": "light"
     },
     "output_type": "display_data"
    },
    {
     "data": {
      "image/png": "[encoded data removed]",
      "text/plain": [
       "<Figure size 432x288 with 1 Axes>"
      ]
     },
     "metadata": {
      "needs_background": "light"
     },
     "output_type": "display_data"
    },
    {
     "data": {
      "image/png": "[encoded data removed]",
      "text/plain": [
       "<Figure size 432x288 with 1 Axes>"
      ]
     },
     "metadata": {
      "needs_background": "light"
     },
     "output_type": "display_data"
    },
    {
     "data": {
      "image/png": "[encoded data removed]",
      "text/plain": [
       "<Figure size 432x288 with 1 Axes>"
      ]
     },
     "metadata": {
      "needs_background": "light"
     },
     "output_type": "display_data"
    }
   ],
   "source": [
    "mean_energies = np.mean(energies, axis=1)\n",
    "#J = 3.0*k*T\n",
    "\n",
    "plt.figure(1)\n",
    "plt.plot(temperatures,mean_energies)\n",
    "plt.xlabel('Temperature (K)')\n",
    "plt.ylabel('Mean Energy (kT)')\n",
    "\n",
    "plt.figure(2)\n",
    "plt.plot(temperatures,energies)\n",
    "plt.xlabel('Temperature (K)')\n",
    "plt.ylabel('Energy (kT)')\n",
    "\n",
    "plt.figure(3)\n",
    "# what I calculated for Cv\n",
    "tes = np.multiply(Cv,1./(32.*k))\n",
    "plt.plot(temperatures*k/3.0, tes)\n",
    "# actual Cv\n",
    "c_act = 32.*k*(3.0*k*temperatures/(k*temperatures))**2/np.cosh(3.0*k*temperatures/(k*temperatures))**2\n",
    "plt.plot(temperatures*k/3.0, np.multiply(c_act,1./(32.*k)))\n",
    "plt.xlabel('kT/J')\n",
    "plt.ylabel('Cv')\n",
    "print(Cv[25], Cv[26])\n",
    "\n",
    "plt.figure(4)\n",
    "plt.plot(temperatures, Mag)\n",
    "plt.xlabel('Temperature (K)')\n",
    "plt.ylabel('Magnetization')\n",
    "\n",
    "#print(Cv)"
   ]
  },
  {
   "cell_type": "markdown",
   "metadata": {},
   "source": [
    "Questions/Tasks:\n",
    "1. Why, in eq. (1), are we not also considering $s_{i-1}$ when computing the energy, it is a nearest neighbor after all? Discuss.\n",
    "\n",
    "We don't consider $s_{i-1}$ when computing the sum of the energy, because we are finding the individual energy between the two adjacent spins. The energy between $s_{i-1}$ and $s_i$ will have been computed when the sum was at i = i-1.\n",
    "\n",
    "2. One generally chooses J>0.  What does that imply for the energetically favored orientation of nearest neighbors? Discuss. Explore what happens when you choose J<0.\n",
    "\n",
    "J is the interaction energy between spins, and it is assumed that J > 0 if the neighbor spins are antiparallel and J < 0 if the neighbor spins are parallel. If J < 0 is chosen, then the sign of the total energy is flipped, and the system must decrease in energy to reach equilibrium rather than increase. \n",
    "\n",
    "3. How do you decide if and when the system has reached equilibrium? Discuss. \n",
    "\n",
    "The system has reached equilibrium once the energy has stopped changing substantially and starts to oscillate around a certain value. The energy will never really reach a certain value and stay there, as there continues to be random spin flips, but at equilibrium it will generally not stray far from there.\n",
    "\n",
    "4. How does the acceptance rate evolve upon approaching equilibrium? Discuss. \n",
    "\n",
    "The acceptance rate is slightly lower before the system reaches equilibrium, but afterwards it is linear. \n",
    "\n",
    "5. For N=32 compute, plot and discuss the temperature dependence of equilibrium quantities of interest such as the energy $E$, the magnetization $M$ and the heat capacity $C$.  Note: although $C = \\frac{dE}{dT}$,  taking the derivative numerically is something to be avoided (very noise sensitive).  Therefore, you may want to compute it by other means.  In presenting and discussing your results, be clear about the initial conditions you chose, your requirements for equilibrium, the temperature, and value of J, etc. \n",
    "\n",
    "\n",
    "\n",
    "6. Finally, take a case for which  J=3kT (low temperature case) and start with randomized spin orientations. Compute the magnetization at equilibrium.  The magnetization as found analytically is given by: \n",
    "$m = \\frac{sin(\\beta H)}{(sin^2(\\beta H)+e^{-4 \\beta J})^{1/2}}$\n",
    "and equals 0 so long no external field is applied (H=0).  Only at T=0 does the 1D Ising model become ferromagnetic, that is, has it m!=0 when H=0. How does that compare to your simulation? How well does your simulation capture low temperature behavior? Is the Metropolis algorithm (acceptance rate) very efficient at low temperatures?  Discuss.   \n"
   ]
  },
  {
   "cell_type": "markdown",
   "metadata": {},
   "source": [
    "## Part 2\n",
    "The 2D Ising Model"
   ]
  },
  {
   "cell_type": "code",
   "execution_count": null,
   "metadata": {},
   "outputs": [],
   "source": [
    "#kT = 1.0\n",
    "beta = 1.0#/kT\n",
    "\n",
    "# from markov-ising algorithm 5.7\n",
    "def markovIsing(spins, E):\n",
    "    k = np.random.randint(0,spins.size)\n",
    "    ## for 2D will need to find 2 randint\n",
    "    h = 0 ## unsure what this is summing exactly\n",
    "    delE = 2*h*spins[k]\n",
    "    gamma = np.exp(-beta*delE)\n",
    "    r = np.random.random()\n",
    "    if r < gamma:\n",
    "        spins[k] = -1*spins[k]\n",
    "        E = E + delE\n",
    "    return spins, E\n",
    "\n",
    "# from heatbath-ising algorithm 5.8\n",
    "def heatbathIsing(spins, E):\n",
    "    k = np.random.randint(0,spins.size)\n",
    "    ## for 2D will need to find 2 randint\n",
    "    h = 0 ## unsure what this is summing exactly\n",
    "    delE = 2*h*spins[k]\n",
    "    spinPrime = spins[k]\n",
    "    gamma = np.random.random()\n",
    "    piPlusH = 1 / (1 + np.exp(-2*beta*h))\n",
    "    if gamma < piPlusH:\n",
    "        spins[k] = 1.\n",
    "    else:\n",
    "        spins[k] = -1.\n",
    "    if spinPrime != spins[k]:\n",
    "        E = E-2*delE\n",
    "    return spins, E\n",
    "\n",
    "# from cluster-ising algorithm 5.9\n",
    "def clusterIsing(spins):\n",
    "    j = np.random.randint(0,spins.size)\n",
    "    C = np.array([j])\n",
    "    prob = np.array([j])\n",
    "    p = 1 - np.exp(-2*beta)\n",
    "    while prob != 0:\n",
    "        k = np.random.randint(0,prob.size)\n",
    "        # for all l excluding C\n",
    "        # with neighbor of k\n",
    "        # and spins[l] = spins[k]\n",
    "        ## get help figuring out how\n",
    "        for l in prob:\n",
    "            r = np.random.random()\n",
    "            if r < p:\n",
    "                prob = np.append(prob,l)\n",
    "                C = np.append(C,l)\n",
    "        prob = prob / {k}   ## I think this has a different meaning \n",
    "                            ## from what I think\n",
    "    for k in C:\n",
    "        spins[k] = -1*spins[k]\n",
    "    return spins"
   ]
  },
  {
   "cell_type": "code",
   "execution_count": null,
   "metadata": {},
   "outputs": [],
   "source": [
    "### Main for 2D Ising Chain Model\n",
    "def main_2D():\n",
    "\n",
    "    N = 10    # Number of Spins\n",
    "    M = 10\n",
    "    chain = np.ones((M,N))      # 2D chain of N spins all aligned up\n",
    "                                # size MxN\n",
    "    energies = np.array([compute_energy(chain)])\n",
    "    #print(chain)\n",
    "    k = 1.38064852*10**-23 # m2 kg s-2 K-1\n",
    "    T = 100 # K\n",
    "    kT = 10 #k*T #10  # easier to set to 10 than a physical value test\n",
    "    J = 1    # units of kT\n",
    "    eq = False # equilibrium condition\n",
    "    iteration = 0 # count of iterations\n",
    "    max_iter = 1500 # maximum number of iterations\n",
    "    acceptance = 0 # keep track of num. of acceptances\n",
    "    do_printout = False # set to True if you want all the prints\n",
    "    plt.show()\n",
    "\n",
    "main_2D()"
   ]
  },
  {
   "cell_type": "code",
   "execution_count": null,
   "metadata": {},
   "outputs": [],
   "source": []
  }
 ],
 "metadata": {
  "kernelspec": {
   "display_name": "Python 3",
   "language": "python",
   "name": "python3"
  },
  "language_info": {
   "codemirror_mode": {
    "name": "ipython",
    "version": 3
   },
   "file_extension": ".py",
   "mimetype": "text/x-python",
   "name": "python",
   "nbconvert_exporter": "python",
   "pygments_lexer": "ipython3",
   "version": "3.7.3"
  }
 },
 "nbformat": 4,
 "nbformat_minor": 2
}
