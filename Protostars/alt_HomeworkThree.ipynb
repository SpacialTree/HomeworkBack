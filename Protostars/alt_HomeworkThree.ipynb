{
 "cells": [
  {
   "cell_type": "code",
   "execution_count": 22,
   "id": "02ff9791-395a-46db-8692-b47dc9f37191",
   "metadata": {},
   "outputs": [],
   "source": [
    "import numpy as np\n",
    "import astropy.units as u\n",
    "from astropy import constants as const\n",
    "import scipy.integrate as integrate\n",
    "import imf.imf as imf\n",
    "from imf import Salpeter\n",
    "from imf import Salpeter as Saltpeter\n",
    "from imf import ChabrierPowerLaw\n",
    "from imf import Kroupa"
   ]
  },
  {
   "cell_type": "code",
   "execution_count": 25,
   "id": "98d1879f-2cce-4516-96ec-341b9bf3b739",
   "metadata": {
    "collapsed": true,
    "jupyter": {
     "outputs_hidden": true
    },
    "tags": []
   },
   "outputs": [
    {
     "name": "stdout",
     "output_type": "stream",
     "text": [
      "Help on class Salpeter in module imf.imf:\n",
      "\n",
      "class Salpeter(MassFunction)\n",
      " |  Salpeter(alpha=2.35, mmin=0.3, mmax=120)\n",
      " |  \n",
      " |  Generic Mass Function class\n",
      " |  \n",
      " |  (this is mostly meant to be subclassed by other functions, not used itself)\n",
      " |  \n",
      " |  Method resolution order:\n",
      " |      Salpeter\n",
      " |      MassFunction\n",
      " |      builtins.object\n",
      " |  \n",
      " |  Methods defined here:\n",
      " |  \n",
      " |  __call__(self, m, integral_form=False)\n",
      " |      Call self as a function.\n",
      " |  \n",
      " |  __init__(self, alpha=2.35, mmin=0.3, mmax=120)\n",
      " |      Create a default Salpeter mass function, i.e. a power-law mass function\n",
      " |      the Salpeter 1955 IMF: dn/dm ~ m^-2.35\n",
      " |  \n",
      " |  ----------------------------------------------------------------------\n",
      " |  Data and other attributes defined here:\n",
      " |  \n",
      " |  default_mmax = 120\n",
      " |  \n",
      " |  default_mmin = 0.3\n",
      " |  \n",
      " |  ----------------------------------------------------------------------\n",
      " |  Methods inherited from MassFunction:\n",
      " |  \n",
      " |  dndm(self, m, **kwargs)\n",
      " |      The differential form of the mass function, d N(M) / dM\n",
      " |  \n",
      " |  integrate(self, mlow, mhigh, **kwargs)\n",
      " |      Integrate the mass function over some range\n",
      " |  \n",
      " |  log_integrate(self, mlow, mhigh, **kwargs)\n",
      " |  \n",
      " |  m_integrate(self, mlow, mhigh, **kwargs)\n",
      " |      Integrate the mass-weighted mass function over some range (this tells\n",
      " |      you the fraction of mass in the specified range)\n",
      " |  \n",
      " |  mass_weighted(self, m, **kwargs)\n",
      " |  \n",
      " |  n_of_m(self, m, **kwargs)\n",
      " |      The integral form of the mass function, N(M)\n",
      " |  \n",
      " |  normalize(self, mmin=None, mmax=None, log=False, **kwargs)\n",
      " |      Set self.normfactor such that the integral of the function over the\n",
      " |      range (mmin, mmax) = 1\n",
      " |  \n",
      " |  ----------------------------------------------------------------------\n",
      " |  Readonly properties inherited from MassFunction:\n",
      " |  \n",
      " |  mmax\n",
      " |  \n",
      " |  mmin\n",
      " |  \n",
      " |  ----------------------------------------------------------------------\n",
      " |  Data descriptors inherited from MassFunction:\n",
      " |  \n",
      " |  __dict__\n",
      " |      dictionary for instance variables (if defined)\n",
      " |  \n",
      " |  __weakref__\n",
      " |      list of weak references to the object (if defined)\n",
      "\n"
     ]
    }
   ],
   "source": [
    "help(imf.Salpeter)"
   ]
  },
  {
   "cell_type": "code",
   "execution_count": 19,
   "id": "bb27abf6-4811-4988-9086-4daa1db82b65",
   "metadata": {
    "collapsed": true,
    "jupyter": {
     "outputs_hidden": true
    },
    "tags": []
   },
   "outputs": [
    {
     "name": "stdout",
     "output_type": "stream",
     "text": [
      "Help on class ChabrierPowerLaw in module imf.imf:\n",
      "\n",
      "class ChabrierPowerLaw(MassFunction)\n",
      " |  ChabrierPowerLaw(lognormal_center=0.22, lognormal_width=1.3124735030066061, mmin=0, mmax=inf, alpha=2.3, mmid=1)\n",
      " |  \n",
      " |  Generic Mass Function class\n",
      " |  \n",
      " |  (this is mostly meant to be subclassed by other functions, not used itself)\n",
      " |  \n",
      " |  Method resolution order:\n",
      " |      ChabrierPowerLaw\n",
      " |      MassFunction\n",
      " |      builtins.object\n",
      " |  \n",
      " |  Methods defined here:\n",
      " |  \n",
      " |  __call__(self, x, integral_form=False, **kw)\n",
      " |      Call self as a function.\n",
      " |  \n",
      " |  __init__(self, lognormal_center=0.22, lognormal_width=1.3124735030066061, mmin=0, mmax=inf, alpha=2.3, mmid=1)\n",
      " |      From Equation 18 of Chabrier 2003\n",
      " |      https://ui.adsabs.harvard.edu/abs/2003PASP..115..763C/abstract\n",
      " |      \n",
      " |      Parameters\n",
      " |      ----------\n",
      " |      lognormal_center : float\n",
      " |      lognormal_width : float\n",
      " |          The lognormal width.  Scipy.stats.lognorm uses log_n,\n",
      " |          so we need to scale this b/c Chabrier uses log_10\n",
      " |      mmin : float\n",
      " |      mmax : float\n",
      " |      alpha : float\n",
      " |          The high-mass power-law slope\n",
      " |      mmid : float\n",
      " |          The mass to transition from lognormal to power-law\n",
      " |      \n",
      " |      \n",
      " |      Notes\n",
      " |      -----\n",
      " |      A previous version of this function used sigma=0.55,\n",
      " |      center=0.2, and alpha=2.35, which come from McKee & Offner 2010 \n",
      " |      (https://ui.adsabs.harvard.edu/abs/2010ApJ...716..167M/abstract)\n",
      " |      but those exact numbers don't appear in Chabrier 2005\n",
      " |  \n",
      " |  ----------------------------------------------------------------------\n",
      " |  Data and other attributes defined here:\n",
      " |  \n",
      " |  default_mmax = inf\n",
      " |  \n",
      " |  default_mmin = 0\n",
      " |  \n",
      " |  ----------------------------------------------------------------------\n",
      " |  Methods inherited from MassFunction:\n",
      " |  \n",
      " |  dndm(self, m, **kwargs)\n",
      " |      The differential form of the mass function, d N(M) / dM\n",
      " |  \n",
      " |  integrate(self, mlow, mhigh, **kwargs)\n",
      " |      Integrate the mass function over some range\n",
      " |  \n",
      " |  log_integrate(self, mlow, mhigh, **kwargs)\n",
      " |  \n",
      " |  m_integrate(self, mlow, mhigh, **kwargs)\n",
      " |      Integrate the mass-weighted mass function over some range (this tells\n",
      " |      you the fraction of mass in the specified range)\n",
      " |  \n",
      " |  mass_weighted(self, m, **kwargs)\n",
      " |  \n",
      " |  n_of_m(self, m, **kwargs)\n",
      " |      The integral form of the mass function, N(M)\n",
      " |  \n",
      " |  normalize(self, mmin=None, mmax=None, log=False, **kwargs)\n",
      " |      Set self.normfactor such that the integral of the function over the\n",
      " |      range (mmin, mmax) = 1\n",
      " |  \n",
      " |  ----------------------------------------------------------------------\n",
      " |  Readonly properties inherited from MassFunction:\n",
      " |  \n",
      " |  mmax\n",
      " |  \n",
      " |  mmin\n",
      " |  \n",
      " |  ----------------------------------------------------------------------\n",
      " |  Data descriptors inherited from MassFunction:\n",
      " |  \n",
      " |  __dict__\n",
      " |      dictionary for instance variables (if defined)\n",
      " |  \n",
      " |  __weakref__\n",
      " |      list of weak references to the object (if defined)\n",
      "\n"
     ]
    }
   ],
   "source": [
    "help(imf.ChabrierPowerLaw)"
   ]
  },
  {
   "cell_type": "code",
   "execution_count": 20,
   "id": "376469af-c1a1-4e9d-b270-391bf630b6be",
   "metadata": {
    "collapsed": true,
    "jupyter": {
     "outputs_hidden": true
    },
    "tags": []
   },
   "outputs": [
    {
     "name": "stdout",
     "output_type": "stream",
     "text": [
      "Help on Kroupa in module imf.imf object:\n",
      "\n",
      "class Kroupa(MassFunction)\n",
      " |  Kroupa(mmin=0.03, mmax=120, p1=0.3, p2=1.3, p3=2.3, break1=0.08, break2=0.5)\n",
      " |  \n",
      " |  Generic Mass Function class\n",
      " |  \n",
      " |  (this is mostly meant to be subclassed by other functions, not used itself)\n",
      " |  \n",
      " |  Method resolution order:\n",
      " |      Kroupa\n",
      " |      MassFunction\n",
      " |      builtins.object\n",
      " |  \n",
      " |  Methods defined here:\n",
      " |  \n",
      " |  __call__(self, m, integral_form=False)\n",
      " |      Kroupa 2001 IMF (http://arxiv.org/abs/astro-ph/0009005,\n",
      " |      http://adsabs.harvard.edu/abs/2001MNRAS.322..231K) eqn 2\n",
      " |      \n",
      " |      Parameters\n",
      " |      ----------\n",
      " |      m: float array\n",
      " |          The mass at which to evaluate the function (Msun)\n",
      " |      p1, p2, p3: floats\n",
      " |          The power-law slopes of the different segments of the IMF\n",
      " |      break1, break2: floats\n",
      " |          The mass breakpoints at which to use the different power laws\n",
      " |  \n",
      " |  __init__(self, mmin=0.03, mmax=120, p1=0.3, p2=1.3, p3=2.3, break1=0.08, break2=0.5)\n",
      " |      The Kroupa IMF with two power-law breaks, p1 and p2. See __call__ for\n",
      " |      details.\n",
      " |  \n",
      " |  integrate(self, mlow, mhigh, numerical=False)\n",
      " |      Integrate the mass function over some range\n",
      " |  \n",
      " |  m_integrate(self, mlow, mhigh, numerical=False, **kwargs)\n",
      " |      Integrate the mass function over some range\n",
      " |  \n",
      " |  ----------------------------------------------------------------------\n",
      " |  Data and other attributes defined here:\n",
      " |  \n",
      " |  default_mmax = 120\n",
      " |  \n",
      " |  default_mmin = 0.03\n",
      " |  \n",
      " |  ----------------------------------------------------------------------\n",
      " |  Methods inherited from MassFunction:\n",
      " |  \n",
      " |  dndm(self, m, **kwargs)\n",
      " |      The differential form of the mass function, d N(M) / dM\n",
      " |  \n",
      " |  log_integrate(self, mlow, mhigh, **kwargs)\n",
      " |  \n",
      " |  mass_weighted(self, m, **kwargs)\n",
      " |  \n",
      " |  n_of_m(self, m, **kwargs)\n",
      " |      The integral form of the mass function, N(M)\n",
      " |  \n",
      " |  normalize(self, mmin=None, mmax=None, log=False, **kwargs)\n",
      " |      Set self.normfactor such that the integral of the function over the\n",
      " |      range (mmin, mmax) = 1\n",
      " |  \n",
      " |  ----------------------------------------------------------------------\n",
      " |  Readonly properties inherited from MassFunction:\n",
      " |  \n",
      " |  mmax\n",
      " |  \n",
      " |  mmin\n",
      " |  \n",
      " |  ----------------------------------------------------------------------\n",
      " |  Data descriptors inherited from MassFunction:\n",
      " |  \n",
      " |  __dict__\n",
      " |      dictionary for instance variables (if defined)\n",
      " |  \n",
      " |  __weakref__\n",
      " |      list of weak references to the object (if defined)\n",
      "\n"
     ]
    }
   ],
   "source": [
    "help(imf.kroupa)"
   ]
  },
  {
   "cell_type": "markdown",
   "id": "6402377f-3774-4aa1-8868-d6bb66c57ac8",
   "metadata": {},
   "source": [
    "#### A) What is the average mass?"
   ]
  },
  {
   "cell_type": "code",
   "execution_count": 73,
   "id": "dea84282-6573-472f-a709-747383296d3e",
   "metadata": {},
   "outputs": [
    {
     "data": {
      "text/plain": [
       "1.0153310936925877"
      ]
     },
     "execution_count": 73,
     "metadata": {},
     "output_type": "execute_result"
    }
   ],
   "source": [
    "#integrate.quad(imf.Salpeter.dndm, 0.03, 120)\n",
    "sal = Salpeter(alpha=2.35)\n",
    "num = sal.integrate(mlow=0.03, mhigh=120)[0]\n",
    "mass = sal.m_integrate(mlow=0.03, mhigh=120)[0]\n",
    "mass / num"
   ]
  },
  {
   "cell_type": "code",
   "execution_count": null,
   "id": "b021cd96-e9e5-49b6-b3bf-3412e9935908",
   "metadata": {},
   "outputs": [],
   "source": []
  },
  {
   "cell_type": "code",
   "execution_count": null,
   "id": "19d7fd19-b581-457c-b39c-f47e72fc02e9",
   "metadata": {},
   "outputs": [],
   "source": []
  },
  {
   "cell_type": "code",
   "execution_count": null,
   "id": "0fff2bc0-fd58-49b9-a8da-80ab8d55956e",
   "metadata": {},
   "outputs": [],
   "source": []
  },
  {
   "cell_type": "code",
   "execution_count": null,
   "id": "9bb6fa1f-8e8f-434b-ab43-e0c8ef816e64",
   "metadata": {},
   "outputs": [],
   "source": []
  },
  {
   "cell_type": "code",
   "execution_count": null,
   "id": "edc2674a-c482-4851-915d-11c8bae06783",
   "metadata": {},
   "outputs": [],
   "source": []
  }
 ],
 "metadata": {
  "kernelspec": {
   "display_name": "Python 3",
   "language": "python",
   "name": "python3"
  },
  "language_info": {
   "codemirror_mode": {
    "name": "ipython",
    "version": 3
   },
   "file_extension": ".py",
   "mimetype": "text/x-python",
   "name": "python",
   "nbconvert_exporter": "python",
   "pygments_lexer": "ipython3",
   "version": "3.8.8"
  }
 },
 "nbformat": 4,
 "nbformat_minor": 5
}
