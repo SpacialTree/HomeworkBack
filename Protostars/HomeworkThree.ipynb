{
 "cells": [
  {
   "cell_type": "code",
   "execution_count": 22,
   "id": "17c23180-342e-4dd8-bfc7-13ca6df8c82c",
   "metadata": {},
   "outputs": [],
   "source": [
    "import numpy as np\n",
    "import astropy.units as u\n",
    "from astropy import constants as const\n",
    "import scipy.integrate as integrate\n",
    "import imf\n",
    "from imf import ChabrierPowerLaw\n",
    "from imf import ChabrierLogNormal\n",
    "from imf import Kroupa"
   ]
  },
  {
   "cell_type": "markdown",
   "id": "f1b285fe-977e-434c-b32a-0e7b760c0d43",
   "metadata": {},
   "source": [
    "# Homework Three\n",
    "\n",
    "$\\xi = \\frac{dN}{dM}$\n",
    "\n",
    "$M_{max} = 120 M_{\\odot}$"
   ]
  },
  {
   "cell_type": "markdown",
   "id": "a6c0b0d0-6174-4e46-a49c-d69448f5cbc3",
   "metadata": {},
   "source": [
    "### Salpeter:\n",
    "\n",
    "$\\xi = M^{-2.35}, M_{min} = 0.03$"
   ]
  },
  {
   "cell_type": "code",
   "execution_count": 62,
   "id": "0f66c0c3-27b6-40f9-812d-0ef8b398505b",
   "metadata": {},
   "outputs": [],
   "source": [
    "def saltpeter_num(M): # dN/dM\n",
    "    return M**(-2.35)\n",
    "\n",
    "def saltpeter_mass(M): # dN/dM * M\n",
    "    return M**(-1.35)"
   ]
  },
  {
   "cell_type": "markdown",
   "id": "e47657b4-508b-488f-b2f2-2c2c32c515cf",
   "metadata": {},
   "source": [
    "### Kroupa\n",
    "\n",
    "$\\xi = M^{\\alpha}\n",
    "\\begin{cases}\n",
    "\\alpha = 0.3, & 0.03 < M/M_{\\odot} < 0.08\\\\\n",
    "\\alpha = 1.3, & 0.08 < M/M_{\\odot} < 0.5\\\\\n",
    "\\alpha = 2.3, & 0.5 < M/M_{\\odot} < 120 \n",
    "\\end{cases}\n",
    "$\n"
   ]
  },
  {
   "cell_type": "code",
   "execution_count": 63,
   "id": "7cc3eb6f-753d-4f11-85a9-3f995c2a77f7",
   "metadata": {},
   "outputs": [],
   "source": [
    "def kroupa_num(M): # dN/dM\n",
    "    if 0.03 < M and M < 0.08:\n",
    "        return M**(-0.3)\n",
    "    elif 0.08 < M and M < 0.5:\n",
    "        return M**(-1.3)\n",
    "    elif 0.5 < M:\n",
    "        return M**(-2.3)\n",
    "    else: \n",
    "        return False\n",
    "    \n",
    "def kroupa_mass(M): # dN/dM * M\n",
    "    if 0.03 < M and M < 0.08:\n",
    "        return M**(-0.3+1)\n",
    "    elif 0.08 < M and M < 0.5:\n",
    "        return M**(-1.3+1)\n",
    "    elif 0.5 < M:\n",
    "        return M**(-2.3+1)\n",
    "    else: \n",
    "        return False\n",
    "    \n"
   ]
  },
  {
   "cell_type": "markdown",
   "id": "12e0d356-8a66-4160-a688-290832bfc131",
   "metadata": {},
   "source": [
    "### Chabrier\n",
    "\n",
    "$M \\leq 1 M_{\\odot}$:\n",
    "\n",
    "$\\xi(log M) = \\frac{dN}{d log M} = A exp[(log M - log M_{c})^2 / 2 \\sigma^2]$\n",
    "\n",
    "A = 0.086, M$_c$ = 0.22, $\\sigma$ = 0.57\n",
    "\n",
    "$M > 1 M_{\\odot}$:\n",
    "\n",
    "$\\xi(log M) = A M^{-\\Gamma}$\n",
    "\n",
    "$\\Gamma$ = 1.3, $A$ = 4.43\n",
    "\n",
    "$dln(x) = \\frac{1}{x}dx$\n",
    "\n",
    "$\\frac{dN}{dlogM} = M \\frac{dN}{dM}$\n",
    "\n",
    "$\\frac{dN}{dM} = \\frac{1}{M} \\frac{dN}{dlogM}$"
   ]
  },
  {
   "cell_type": "code",
   "execution_count": 64,
   "id": "b4ea6faf-5246-4e72-bfb2-a147bd9ffe3a",
   "metadata": {},
   "outputs": [],
   "source": [
    "#xi = 0.086 exp (-(log m - log 0.22)^2 / (2 * 0.57**2))\n",
    "\n",
    "def chabrier_num(M):\n",
    "    if M <= 1:\n",
    "        #M = np.log(M)\n",
    "        A = 0.086\n",
    "        mc = 0.22\n",
    "        sig = 0.57\n",
    "        return A * np.exp(-(np.log10(M) - np.log10(mc))**2 / (2*sig**2)) / M\n",
    "    elif M > 1:\n",
    "        #M = np.log(M)\n",
    "        gamma = 1.3\n",
    "        A = 4.43\n",
    "        return A * M**(-gamma) / M\n",
    "    \n",
    "def chabrier_mass(M):\n",
    "    if M <= 1:\n",
    "        #M = np.log(M)\n",
    "        A = 0.086\n",
    "        mc = 0.22\n",
    "        sig = 0.57\n",
    "        return A * np.exp(-(np.log10(M) - np.log10(mc))**2 / (2*sig**2)) \n",
    "    elif M > 1:\n",
    "        #M = np.log(M)\n",
    "        gamma = 1.3\n",
    "        A = 4.43\n",
    "        return A * M**(-gamma)\n",
    "    \n",
    "def chabrier_powerlaw(M):\n",
    "    return 4.43 * M **(-1.3) / M\n",
    "def chabrier_powerlaw_mass(M):\n",
    "    return 4.43 * M**(-1.3) "
   ]
  },
  {
   "cell_type": "markdown",
   "id": "a75c50a8-b33a-4bbc-8613-75c2396ed756",
   "metadata": {},
   "source": [
    "#### A) What is the average mass?"
   ]
  },
  {
   "cell_type": "markdown",
   "id": "949eb8ac-8b7a-42d0-9ca4-ada8c173898c",
   "metadata": {},
   "source": [
    "take the total mass and divide by total number of stars \n",
    "\n",
    "do the integral of the imf to find the number of stars to find the mass \n",
    "\n",
    "intregral of dN/dM * M = mass\n",
    "\n",
    "integral of dN/dM = number\n",
    "\n",
    "integrate.quad(func, limit_low, limit_max)"
   ]
  },
  {
   "cell_type": "code",
   "execution_count": 108,
   "id": "f2783182-1c00-46a1-8086-fbf33ad44f5b",
   "metadata": {},
   "outputs": [],
   "source": [
    "M_max = 120 #* u.M_sun\n",
    "M_min = 0.03"
   ]
  },
  {
   "cell_type": "markdown",
   "id": "d7c1032f-24c0-4295-93d2-7d287409d25b",
   "metadata": {},
   "source": [
    "##### Saltpeter"
   ]
  },
  {
   "cell_type": "code",
   "execution_count": 109,
   "id": "4d770861-286d-4253-8762-1ae63bcffef5",
   "metadata": {},
   "outputs": [
    {
     "data": {
      "text/latex": [
       "$0.037130915 \\; \\mathrm{M_{\\odot}}$"
      ],
      "text/plain": [
       "<Quantity 0.03713091 solMass>"
      ]
     },
     "execution_count": 109,
     "metadata": {},
     "output_type": "execute_result"
    }
   ],
   "source": [
    "tot_num = integrate.quad(saltpeter_num, 0.01, M_max)[0]\n",
    "tot_mass = integrate.quad(saltpeter_mass, 0.01, M_max)[0]\n",
    "avg_mass = tot_mass / tot_num\n",
    "avg_mass*u.M_sun"
   ]
  },
  {
   "cell_type": "code",
   "execution_count": 110,
   "id": "b34ad2df-9df4-4e9a-aa98-591d2c5c499e",
   "metadata": {},
   "outputs": [
    {
     "data": {
      "text/latex": [
       "$0.10936736 \\; \\mathrm{M_{\\odot}}$"
      ],
      "text/plain": [
       "<Quantity 0.10936736 solMass>"
      ]
     },
     "execution_count": 110,
     "metadata": {},
     "output_type": "execute_result"
    }
   ],
   "source": [
    "### M_min = 0.03\n",
    "tot_num = integrate.quad(saltpeter_num, 0.03, M_max)[0]\n",
    "tot_mass = integrate.quad(saltpeter_mass, 0.03, M_max)[0]\n",
    "avg_mass = tot_mass / tot_num\n",
    "avg_mass*u.M_sun"
   ]
  },
  {
   "cell_type": "markdown",
   "id": "d9a71547-0c13-4614-8dc7-00189f8307dd",
   "metadata": {},
   "source": [
    "##### Kroupa"
   ]
  },
  {
   "cell_type": "code",
   "execution_count": 111,
   "id": "afe93389-24af-4617-a2a6-fc4d81bde0a2",
   "metadata": {},
   "outputs": [
    {
     "data": {
      "text/latex": [
       "$0.78729974 \\; \\mathrm{M_{\\odot}}$"
      ],
      "text/plain": [
       "<Quantity 0.78729974 solMass>"
      ]
     },
     "execution_count": 111,
     "metadata": {},
     "output_type": "execute_result"
    }
   ],
   "source": [
    "# Kroupa\n",
    "tot_num = integrate.quad(kroupa_num, 0.03, 0.08)[0] + integrate.quad(kroupa_num, 0.08, 0.5)[0] + integrate.quad(kroupa_num, 0.5, M_max)[0]\n",
    "tot_mass = integrate.quad(kroupa_mass, 0.03, 0.08)[0] + integrate.quad(kroupa_mass, 0.08, 0.5)[0] + integrate.quad(kroupa_mass, 0.5, M_max)[0]\n",
    "avg_mass = tot_mass / tot_num\n",
    "avg_mass*u.M_sun"
   ]
  },
  {
   "cell_type": "code",
   "execution_count": 112,
   "id": "62a4f169-3439-42ec-a4f0-4b742603cd87",
   "metadata": {},
   "outputs": [
    {
     "data": {
      "text/plain": [
       "0.4339293611895671"
      ]
     },
     "execution_count": 112,
     "metadata": {},
     "output_type": "execute_result"
    }
   ],
   "source": [
    "### Using imf package\n",
    "k = Kroupa()\n",
    "tot_num = k.integrate(mlow=0.03, mhigh=M_max)[0]\n",
    "tot_mass = k.m_integrate(mlow=0.03, mhigh=M_max)[0]\n",
    "avg_mass=tot_mass / tot_num\n",
    "avg_mass"
   ]
  },
  {
   "cell_type": "markdown",
   "id": "19ade0a8-d393-4801-b9a1-863eba4622ed",
   "metadata": {},
   "source": [
    "##### Chabrier"
   ]
  },
  {
   "cell_type": "code",
   "execution_count": 113,
   "id": "c73794b9-e822-406b-954f-de1c07828f65",
   "metadata": {},
   "outputs": [
    {
     "data": {
      "text/latex": [
       "$3.1177678 \\; \\mathrm{M_{\\odot}}$"
      ],
      "text/plain": [
       "<Quantity 3.11776783 solMass>"
      ]
     },
     "execution_count": 113,
     "metadata": {},
     "output_type": "execute_result"
    }
   ],
   "source": [
    "# Chabrier\n",
    "# dln(x) = 1/x dx\n",
    "tot_num = integrate.quad(chabrier_num, M_min, 1.0)[0] + integrate.quad(chabrier_num, 1.0, M_max)[0]\n",
    "tot_mass = integrate.quad(chabrier_mass, M_min, 1.0)[0] + integrate.quad(chabrier_mass, 1.0, M_max)[0]\n",
    "avg_mass = tot_mass / tot_num\n",
    "avg_mass*u.M_sun"
   ]
  },
  {
   "cell_type": "code",
   "execution_count": 114,
   "id": "893b960c-7b99-437e-b124-4e38a27e103a",
   "metadata": {},
   "outputs": [
    {
     "data": {
      "text/plain": [
       "0.11920492197406174"
      ]
     },
     "execution_count": 114,
     "metadata": {},
     "output_type": "execute_result"
    }
   ],
   "source": [
    "tot_num = integrate.quad(chabrier_powerlaw, M_min, M_max)[0]\n",
    "tot_mass = integrate.quad(chabrier_powerlaw_mass, M_min, M_max)[0]\n",
    "\n",
    "avg_mass = tot_mass/tot_num\n",
    "avg_mass"
   ]
  },
  {
   "cell_type": "code",
   "execution_count": 115,
   "id": "b8165d88-0945-477b-9382-3d8301e1aa2a",
   "metadata": {},
   "outputs": [
    {
     "data": {
      "text/plain": [
       "0.669288461104936"
      ]
     },
     "execution_count": 115,
     "metadata": {},
     "output_type": "execute_result"
    }
   ],
   "source": [
    "### Using imf package\n",
    "c = ChabrierPowerLaw()\n",
    "tot_num = c.integrate(mlow=M_min, mhigh=M_max)[0]\n",
    "tot_mass = c.m_integrate(mlow=M_min, mhigh=M_max)[0]\n",
    "avg_mass = tot_mass / tot_num\n",
    "avg_mass"
   ]
  },
  {
   "cell_type": "code",
   "execution_count": 116,
   "id": "541d85ce-0673-4671-b574-dec6c9545946",
   "metadata": {},
   "outputs": [
    {
     "data": {
      "text/plain": [
       "0.5550312958454777"
      ]
     },
     "execution_count": 116,
     "metadata": {},
     "output_type": "execute_result"
    }
   ],
   "source": [
    "c_log = ChabrierLogNormal()\n",
    "tot_num = c_log.integrate(mlow=M_min, mhigh=M_max)[0]\n",
    "tot_mass = c_log.m_integrate(mlow=M_min, mhigh=M_max)[0]\n",
    "avg_mass = tot_mass / tot_num\n",
    "avg_mass"
   ]
  },
  {
   "cell_type": "code",
   "execution_count": 117,
   "id": "1d3c6776-cbb5-4caf-ab2f-71a6ac519636",
   "metadata": {},
   "outputs": [
    {
     "data": {
      "text/plain": [
       "2.197911574655067"
      ]
     },
     "execution_count": 117,
     "metadata": {},
     "output_type": "execute_result"
    }
   ],
   "source": [
    "tot_num = c_log.integrate(mlow=M_min, mhigh=1)[0] + c.integrate(mlow=1, mhigh=M_max)[0]\n",
    "tot_mass = c_log.m_integrate(mlow=M_min, mhigh=1)[0] + c.m_integrate(mlow=1, mhigh=M_max)[0]\n",
    "avg_mass = tot_mass / tot_num\n",
    "avg_mass"
   ]
  },
  {
   "cell_type": "markdown",
   "id": "5884632b-1377-41dc-9435-affd7cd677fb",
   "metadata": {},
   "source": [
    "#### B) Average mass of stars with $M > 8 M_{\\odot}$"
   ]
  },
  {
   "cell_type": "code",
   "execution_count": 118,
   "id": "4da6c884-ef3f-4922-bb81-8d9b53c2b797",
   "metadata": {},
   "outputs": [
    {
     "data": {
      "text/latex": [
       "$19.398588 \\; \\mathrm{M_{\\odot}}$"
      ],
      "text/plain": [
       "<Quantity 19.39858829 solMass>"
      ]
     },
     "execution_count": 118,
     "metadata": {},
     "output_type": "execute_result"
    }
   ],
   "source": [
    "# Saltpeter\n",
    "tot_num = integrate.quad(saltpeter_num, 8, M_max)\n",
    "tot_mass = integrate.quad(saltpeter_mass, 8, M_max)\n",
    "avg_mass = tot_mass[0] / tot_num[0]\n",
    "avg_mass*u.M_sun"
   ]
  },
  {
   "cell_type": "code",
   "execution_count": 119,
   "id": "56348d9c-1b3f-41e4-a373-b37ad1113c03",
   "metadata": {},
   "outputs": [
    {
     "data": {
      "text/latex": [
       "$19.869987 \\; \\mathrm{M_{\\odot}}$"
      ],
      "text/plain": [
       "<Quantity 19.86998669 solMass>"
      ]
     },
     "execution_count": 119,
     "metadata": {},
     "output_type": "execute_result"
    }
   ],
   "source": [
    "# Kroupa\n",
    "tot_num = integrate.quad(kroupa_num, 8, M_max)[0]\n",
    "tot_mass = integrate.quad(kroupa_mass, 8, M_max)[0]\n",
    "avg_mass = tot_mass / tot_num\n",
    "avg_mass*u.M_sun"
   ]
  },
  {
   "cell_type": "code",
   "execution_count": 120,
   "id": "c4444c04-3373-4e4b-a5bf-66a87b42df6f",
   "metadata": {},
   "outputs": [
    {
     "data": {
      "text/plain": [
       "19.869986688415427"
      ]
     },
     "execution_count": 120,
     "metadata": {},
     "output_type": "execute_result"
    }
   ],
   "source": [
    "tot_num = k.integrate(8, M_max)[0]\n",
    "tot_mass = k.m_integrate(8, M_max)[0]\n",
    "avg_mass = tot_mass / tot_num\n",
    "avg_mass"
   ]
  },
  {
   "cell_type": "code",
   "execution_count": 121,
   "id": "01d7045c-89ab-47a7-9897-ace5be4e1cff",
   "metadata": {},
   "outputs": [
    {
     "data": {
      "text/latex": [
       "$19.869987 \\; \\mathrm{M_{\\odot}}$"
      ],
      "text/plain": [
       "<Quantity 19.86998669 solMass>"
      ]
     },
     "execution_count": 121,
     "metadata": {},
     "output_type": "execute_result"
    }
   ],
   "source": [
    "# Chabrier\n",
    "tot_num = integrate.quad(chabrier_num, 8.0, M_max)[0]\n",
    "tot_mass = integrate.quad(chabrier_mass, 8.0, M_max)[0]\n",
    "avg_mass = tot_mass / tot_num\n",
    "avg_mass*u.M_sun"
   ]
  },
  {
   "cell_type": "code",
   "execution_count": 122,
   "id": "4d8d4a9d-bbec-42a3-9317-d86974b3523d",
   "metadata": {},
   "outputs": [
    {
     "data": {
      "text/plain": [
       "19.869986688415548"
      ]
     },
     "execution_count": 122,
     "metadata": {},
     "output_type": "execute_result"
    }
   ],
   "source": [
    "tot_num = c.integrate(8, M_max)[0]\n",
    "tot_mass = c.m_integrate(8, M_max)[0]\n",
    "avg_mass = tot_mass / tot_num\n",
    "avg_mass"
   ]
  },
  {
   "cell_type": "markdown",
   "id": "8a024add-ede1-4c5f-bd4b-fe22828ca2d5",
   "metadata": {},
   "source": [
    "#### C) What is the ratio of the number of high mass (> 8 $M_{\\odot}$) to low mass (< 8 $M_{\\odot}$) stars?"
   ]
  },
  {
   "cell_type": "code",
   "execution_count": 123,
   "id": "4e72d450-7cc0-400b-8c3f-5775fa515e83",
   "metadata": {},
   "outputs": [
    {
     "data": {
      "text/plain": [
       "0.0005173727037115695"
      ]
     },
     "execution_count": 123,
     "metadata": {},
     "output_type": "execute_result"
    }
   ],
   "source": [
    "# Saltpeter\n",
    "low_m = integrate.quad(saltpeter_num, M_min, 8)[0]\n",
    "high_m = integrate.quad(saltpeter_num, 8, M_max)[0]\n",
    "ratio = high_m / low_m\n",
    "ratio"
   ]
  },
  {
   "cell_type": "code",
   "execution_count": 124,
   "id": "9b43cbcc-cca5-406d-bc7e-a07ffb148e43",
   "metadata": {},
   "outputs": [
    {
     "data": {
      "text/plain": [
       "0.010058603071593154"
      ]
     },
     "execution_count": 124,
     "metadata": {},
     "output_type": "execute_result"
    }
   ],
   "source": [
    "# Kroupa\n",
    "low_m = integrate.quad(kroupa_num, M_min, 0.08)[0] + integrate.quad(kroupa_num, 0.08, 0.5)[0] + integrate.quad(kroupa_num, 0.5, 8)[0]\n",
    "high_m = integrate.quad(kroupa_num, 8, M_max)[0]\n",
    "ratio = high_m / low_m\n",
    "ratio"
   ]
  },
  {
   "cell_type": "code",
   "execution_count": 125,
   "id": "d6246202-cbb7-46fe-8b9b-d56c1913d373",
   "metadata": {},
   "outputs": [
    {
     "data": {
      "text/plain": [
       "0.0045936595522184384"
      ]
     },
     "execution_count": 125,
     "metadata": {},
     "output_type": "execute_result"
    }
   ],
   "source": [
    "high_num = k.integrate(8, M_max)[0]\n",
    "low_num = k.integrate(M_min, 8)[0]\n",
    "ratio = high_num / low_num\n",
    "ratio"
   ]
  },
  {
   "cell_type": "code",
   "execution_count": 126,
   "id": "ca55bb99-f0cb-4c31-b1c0-0be6bc29eb00",
   "metadata": {},
   "outputs": [
    {
     "data": {
      "text/plain": [
       "0.06498038124125519"
      ]
     },
     "execution_count": 126,
     "metadata": {},
     "output_type": "execute_result"
    }
   ],
   "source": [
    "# Chabrier\n",
    "low_m = integrate.quad(chabrier_num, M_min, 1)[0] + integrate.quad(chabrier_num, 1, 8)[0]\n",
    "high_m = integrate.quad(chabrier_num, 8, M_max)[0]\n",
    "ratio = high_m / low_m\n",
    "ratio"
   ]
  },
  {
   "cell_type": "code",
   "execution_count": 127,
   "id": "ceb90c77-ee8f-42a6-b394-bfe30f1ae891",
   "metadata": {},
   "outputs": [
    {
     "data": {
      "text/plain": [
       "0.008461822689562252"
      ]
     },
     "execution_count": 127,
     "metadata": {},
     "output_type": "execute_result"
    }
   ],
   "source": [
    "high_num = c.integrate(8, M_max)[0]\n",
    "low_num = c.integrate(M_min, 8)[0]\n",
    "ratio = high_num / low_num\n",
    "ratio"
   ]
  },
  {
   "cell_type": "markdown",
   "id": "fd2bc039-801b-4723-8dde-67c9038568a4",
   "metadata": {},
   "source": [
    "#### D) What is the ratio of the MASS of high mass to low mass stars?"
   ]
  },
  {
   "cell_type": "code",
   "execution_count": 128,
   "id": "71931c02-55c8-42ef-9d6a-8212a94965aa",
   "metadata": {},
   "outputs": [
    {
     "data": {
      "text/plain": [
       "0.1009813655962592"
      ]
     },
     "execution_count": 128,
     "metadata": {},
     "output_type": "execute_result"
    }
   ],
   "source": [
    "# Saltpeter\n",
    "low_m = integrate.quad(saltpeter_mass, M_min, 8)[0]\n",
    "high_m = integrate.quad(saltpeter_mass, 8, M_max)[0]\n",
    "ratio = high_m / low_m\n",
    "ratio"
   ]
  },
  {
   "cell_type": "code",
   "execution_count": 129,
   "id": "2f7aa759-fae5-4d0a-8a42-f80c0add7f82",
   "metadata": {},
   "outputs": [
    {
     "data": {
      "text/plain": [
       "0.3357063521835148"
      ]
     },
     "execution_count": 129,
     "metadata": {},
     "output_type": "execute_result"
    }
   ],
   "source": [
    "# Kroupa\n",
    "low_m = integrate.quad(kroupa_mass, M_min, 0.08)[0] + integrate.quad(kroupa_mass, 0.08, 0.5)[0] + integrate.quad(kroupa_mass, 0.5, 8)[0]\n",
    "high_m = integrate.quad(kroupa_mass, 8, M_max)[0]\n",
    "ratio = high_m / low_m\n",
    "ratio"
   ]
  },
  {
   "cell_type": "code",
   "execution_count": 130,
   "id": "38254156-631b-4bb2-8603-0ac9a4380724",
   "metadata": {},
   "outputs": [
    {
     "data": {
      "text/plain": [
       "0.2648391700807196"
      ]
     },
     "execution_count": 130,
     "metadata": {},
     "output_type": "execute_result"
    }
   ],
   "source": [
    "low_m = k.m_integrate(M_min, 8)[0]\n",
    "high_m = k.m_integrate(8, M_max)[0]\n",
    "ratio = high_m / low_m\n",
    "ratio"
   ]
  },
  {
   "cell_type": "code",
   "execution_count": 131,
   "id": "f9f4290a-4a86-4720-9046-d71450bec09a",
   "metadata": {},
   "outputs": [
    {
     "data": {
      "text/plain": [
       "0.6362891153712947"
      ]
     },
     "execution_count": 131,
     "metadata": {},
     "output_type": "execute_result"
    }
   ],
   "source": [
    "# Chabrier\n",
    "low_m = integrate.quad(chabrier_mass, M_min, 1)[0] + integrate.quad(chabrier_mass, 1, 8)[0]\n",
    "high_m = integrate.quad(chabrier_mass, 8, M_max)[0]\n",
    "ratio = high_m / low_m\n",
    "ratio"
   ]
  },
  {
   "cell_type": "code",
   "execution_count": 132,
   "id": "c786022d-684e-468f-89df-cdd75fe31e5d",
   "metadata": {},
   "outputs": [
    {
     "data": {
      "text/plain": [
       "0.33175047970763344"
      ]
     },
     "execution_count": 132,
     "metadata": {},
     "output_type": "execute_result"
    }
   ],
   "source": [
    "low_m = c.m_integrate(M_min, 8)[0]\n",
    "high_m = c.m_integrate(8, M_max)[0]\n",
    "ratio = high_m / low_m\n",
    "ratio"
   ]
  },
  {
   "cell_type": "markdown",
   "id": "add6075c-eae5-454c-904a-cc5acce409b6",
   "metadata": {},
   "source": [
    "#### E) Do these numbers change if you change $M_{max} = 100 M_{\\odot}$? To $M_{max} = 1000 M_{\\odot}$?"
   ]
  },
  {
   "cell_type": "code",
   "execution_count": 133,
   "id": "7f50fc8c-a747-4faa-ab62-52642fe3ba7c",
   "metadata": {},
   "outputs": [],
   "source": [
    "M_max = 100"
   ]
  },
  {
   "cell_type": "code",
   "execution_count": 134,
   "id": "f989988f-dc2d-44fa-b6c7-1a44a877cdbd",
   "metadata": {},
   "outputs": [
    {
     "name": "stdout",
     "output_type": "stream",
     "text": [
      "Saltpeter\n",
      "Avg Mass: 0.10894945817647692 solMass\n",
      "Avg > 8 M_sun: 0.00961282725817428 solMass\n",
      "Ratio of number of high to low: 0.0005135430064225414\n",
      "Ratio of mass of high to low: 0.09677021627681466\n"
     ]
    }
   ],
   "source": [
    "# Saltpeter\n",
    "print('Saltpeter')\n",
    "tot_num = integrate.quad(saltpeter_num, 0.03, M_max)\n",
    "tot_mass = integrate.quad(saltpeter_mass, 0.03, M_max)\n",
    "avg_mass = tot_mass[0] / tot_num[0]\n",
    "print('Avg Mass:', avg_mass*u.M_sun)\n",
    "\n",
    "tot_num = integrate.quad(saltpeter_num, 0.03, M_max)\n",
    "tot_mass = integrate.quad(saltpeter_mass, 8, M_max)\n",
    "avg_mass = tot_mass[0] / tot_num[0]\n",
    "print('Avg > 8 M_sun:', avg_mass*u.M_sun)\n",
    "\n",
    "low_m = integrate.quad(saltpeter_num, 0.03, 8)[0]\n",
    "high_m = integrate.quad(saltpeter_num, 8, M_max)[0]\n",
    "ratio = high_m / low_m\n",
    "print('Ratio of number of high to low:', ratio)\n",
    "\n",
    "low_m = integrate.quad(saltpeter_mass, 0.03, 8)[0]\n",
    "high_m = integrate.quad(saltpeter_mass, 8, M_max)[0]\n",
    "ratio = high_m / low_m\n",
    "print('Ratio of mass of high to low:', ratio)"
   ]
  },
  {
   "cell_type": "code",
   "execution_count": 135,
   "id": "0268cc70-5d33-4aa2-8fdf-434551add48b",
   "metadata": {},
   "outputs": [
    {
     "name": "stdout",
     "output_type": "stream",
     "text": [
      "Kroupa\n",
      "Avg Mass: 0.7784871202953053 solMass\n",
      "Avg > 8 M_sun: 19.13472991713344 solMass\n",
      "Ratio of number of high to low: 0.009976581685332957\n",
      "Ratio of mass of high to low: 0.32064790865311793\n"
     ]
    }
   ],
   "source": [
    "# Kroupa\n",
    "print('Kroupa')\n",
    "tot_num = integrate.quad(kroupa_num, 0.03, 0.08)[0] + integrate.quad(kroupa_num, 0.08, 0.5)[0] + integrate.quad(kroupa_num, 0.5, M_max)[0]\n",
    "tot_mass = integrate.quad(kroupa_mass, 0.03, 0.08)[0] + integrate.quad(kroupa_mass, 0.08, 0.5)[0] + integrate.quad(kroupa_mass, 0.5, M_max)[0]\n",
    "avg_mass = tot_mass / tot_num\n",
    "print('Avg Mass:', avg_mass*u.M_sun)\n",
    "\n",
    "tot_num = integrate.quad(kroupa_num, 8, M_max)[0]\n",
    "tot_mass = integrate.quad(kroupa_mass, 8, M_max)[0]\n",
    "avg_mass = tot_mass / tot_num\n",
    "print('Avg > 8 M_sun:', avg_mass*u.M_sun)\n",
    "\n",
    "low_m = integrate.quad(kroupa_num, 0.03, 0.08)[0] + integrate.quad(kroupa_num, 0.08, 0.5)[0] + integrate.quad(kroupa_num, 0.5, 8)[0]\n",
    "high_m = integrate.quad(kroupa_num, 8, M_max)[0]\n",
    "ratio = high_m / low_m\n",
    "print('Ratio of number of high to low:', ratio)\n",
    "\n",
    "low_m = integrate.quad(kroupa_mass, 0.03, 0.08)[0] + integrate.quad(kroupa_mass, 0.08, 0.5)[0] + integrate.quad(kroupa_mass, 0.5, 8)[0]\n",
    "high_m = integrate.quad(kroupa_mass, 8, M_max)[0]\n",
    "ratio = high_m / low_m\n",
    "print('Ratio of mass of high to low:', ratio)"
   ]
  },
  {
   "cell_type": "code",
   "execution_count": 136,
   "id": "0a3437e1-d097-419e-b6a1-1ffcb74499b5",
   "metadata": {},
   "outputs": [
    {
     "name": "stdout",
     "output_type": "stream",
     "text": [
      "Kroupa (with imf package)\n",
      "Avg Mass: 0.42986983742403484 solMass\n",
      "Avg > 8 M_sun: 19.134729917133537 solMass\n",
      "Ratio of number of high to low: 0.004556201237003186\n",
      "Ratio of mass of high to low: 0.2529595447434023\n"
     ]
    }
   ],
   "source": [
    "print('Kroupa (with imf package)')\n",
    "\n",
    "tot_num = k.integrate(mlow=M_min, mhigh=M_max)[0]\n",
    "tot_mass = k.m_integrate(mlow=M_min, mhigh=M_max)[0]\n",
    "avg_mass=tot_mass / tot_num\n",
    "print('Avg Mass:', avg_mass*u.M_sun)\n",
    "\n",
    "tot_num = k.integrate(8, M_max)[0]\n",
    "tot_mass = k.m_integrate(8, M_max)[0]\n",
    "avg_mass = tot_mass / tot_num\n",
    "print('Avg > 8 M_sun:', avg_mass*u.M_sun)\n",
    "\n",
    "high_num = k.integrate(8, M_max)[0]\n",
    "low_num = k.integrate(M_min, 8)[0]\n",
    "ratio = high_num / low_num\n",
    "print('Ratio of number of high to low:', ratio)\n",
    "\n",
    "low_m = k.m_integrate(M_min, 8)[0]\n",
    "high_m = k.m_integrate(8, M_max)[0]\n",
    "ratio = high_m / low_m\n",
    "print('Ratio of mass of high to low:', ratio)"
   ]
  },
  {
   "cell_type": "code",
   "execution_count": 137,
   "id": "ea521476-e67d-47e1-b1bb-5f7028570eba",
   "metadata": {},
   "outputs": [
    {
     "name": "stdout",
     "output_type": "stream",
     "text": [
      "Chabrier:\n",
      "Avg Mass: 3.064910302459881 solMass\n",
      "Avg > 8 M_sun: 19.134729917133438 solMass\n",
      "Ratio of number of high to low: 0.06445050836415799\n",
      "Ratio of mass of high to low: 0.607747731955389\n"
     ]
    }
   ],
   "source": [
    "# Chabrier\n",
    "print('Chabrier:')\n",
    "tot_num = integrate.quad(chabrier_num, 0.03, 1.0)[0] + integrate.quad(chabrier_num, 1.0, M_max)[0]\n",
    "tot_mass = integrate.quad(chabrier_mass, 0.03, 1.0)[0] + integrate.quad(chabrier_mass, 1.0, M_max)[0]\n",
    "avg_mass = tot_mass / tot_num\n",
    "print('Avg Mass:', avg_mass*u.M_sun)\n",
    "\n",
    "tot_num = integrate.quad(chabrier_num, 8.0, M_max)[0]\n",
    "tot_mass = integrate.quad(chabrier_mass, 8.0, M_max)[0]\n",
    "avg_mass = tot_mass / tot_num\n",
    "print('Avg > 8 M_sun:', avg_mass*u.M_sun)\n",
    "\n",
    "low_m = integrate.quad(chabrier_num, 0.03, 1)[0] + integrate.quad(chabrier_num, 1, 8)[0]\n",
    "high_m = integrate.quad(chabrier_num, 8, M_max)[0]\n",
    "ratio = high_m / low_m\n",
    "print('Ratio of number of high to low:', ratio)\n",
    "\n",
    "low_m = integrate.quad(chabrier_mass, 0.03, 1)[0] + integrate.quad(chabrier_mass, 1, 8)[0]\n",
    "high_m = integrate.quad(chabrier_mass, 8, M_max)[0]\n",
    "ratio = high_m / low_m\n",
    "print('Ratio of mass of high to low:', ratio)"
   ]
  },
  {
   "cell_type": "code",
   "execution_count": 138,
   "id": "4d2739fb-75ce-4db7-bc8a-48e8fa2dceef",
   "metadata": {},
   "outputs": [
    {
     "name": "stdout",
     "output_type": "stream",
     "text": [
      "Chabrier (with imf package-PowerLaw)\n",
      "Avg Mass: 0.6618551075127788 solMass\n",
      "Avg > 8 M_sun: 19.134729917133445 solMass\n",
      "Ratio of number of high to low: 0.008392822011998388\n",
      "Ratio of mass of high to low: 0.31686948078590743\n"
     ]
    }
   ],
   "source": [
    "print('Chabrier (with imf package-PowerLaw)')\n",
    "\n",
    "tot_num = c.integrate(mlow=M_min, mhigh=M_max)[0]\n",
    "tot_mass = c.m_integrate(mlow=M_min, mhigh=M_max)[0]\n",
    "avg_mass = tot_mass / tot_num\n",
    "print('Avg Mass:', avg_mass*u.M_sun)\n",
    "\n",
    "tot_num = c.integrate(mlow=8, mhigh=M_max)[0]\n",
    "tot_mass = c.m_integrate(mlow=8, mhigh=M_max)[0]\n",
    "avg_mass = tot_mass / tot_num\n",
    "print('Avg > 8 M_sun:', avg_mass*u.M_sun)\n",
    "\n",
    "high_num = c.integrate(8, M_max)[0]\n",
    "low_num = c.integrate(M_min, 8)[0]\n",
    "ratio = high_num / low_num\n",
    "print('Ratio of number of high to low:', ratio)\n",
    "\n",
    "low_m = c.m_integrate(M_min, 8)[0]\n",
    "high_m = c.m_integrate(8, M_max)[0]\n",
    "ratio = high_m / low_m\n",
    "print('Ratio of mass of high to low:', ratio)"
   ]
  },
  {
   "cell_type": "code",
   "execution_count": 140,
   "id": "d3338209-8c11-4bb9-a6ea-fd186b484caa",
   "metadata": {},
   "outputs": [
    {
     "name": "stdout",
     "output_type": "stream",
     "text": [
      "Chabrier (with imf package)\n",
      "Avg Mass: 2.161877271259899 solMass\n",
      "Avg > 8 M_sun: 19.134729917133445 solMass\n",
      "Ratio of number of high to low: 0.008220324365628473\n",
      "Ratio of mass of high to low: 0.567904021882603\n"
     ]
    }
   ],
   "source": [
    "print('Chabrier (with imf package)')\n",
    "\n",
    "tot_num = c_log.integrate(mlow=M_min, mhigh=1)[0] + c.integrate(mlow=1, mhigh=M_max)[0]\n",
    "tot_mass = c_log.m_integrate(mlow=M_min, mhigh=1)[0] + c.m_integrate(mlow=1, mhigh=M_max)[0]\n",
    "avg_mass = tot_mass / tot_num\n",
    "print('Avg Mass:', avg_mass*u.M_sun)\n",
    "\n",
    "tot_num = c.integrate(mlow=8, mhigh=M_max)[0]\n",
    "tot_mass = c.m_integrate(mlow=8, mhigh=M_max)[0]\n",
    "avg_mass = tot_mass / tot_num\n",
    "print('Avg > 8 M_sun:', avg_mass*u.M_sun)\n",
    "\n",
    "high_num = c.integrate(8, M_max)[0]\n",
    "low_num = c_log.m_integrate(M_min, 1)[0] +c.integrate(M_min, 8)[0]\n",
    "ratio = high_num / low_num\n",
    "print('Ratio of number of high to low:', ratio)\n",
    "\n",
    "low_m = c_log.m_integrate(M_min, 1)[0] + c.m_integrate(1, 8)[0]\n",
    "high_m = c.m_integrate(8, M_max)[0]\n",
    "ratio = high_m / low_m\n",
    "print('Ratio of mass of high to low:', ratio)"
   ]
  },
  {
   "cell_type": "code",
   "execution_count": 147,
   "id": "7786d525-2914-484b-8fe0-21ff3a024630",
   "metadata": {},
   "outputs": [],
   "source": [
    "M_max = 1000"
   ]
  },
  {
   "cell_type": "code",
   "execution_count": 148,
   "id": "4116cc60-1b01-4a19-8394-5e845e41982f",
   "metadata": {},
   "outputs": [
    {
     "name": "stdout",
     "output_type": "stream",
     "text": [
      "Saltpeter\n",
      "Avg Mass: 0.11269178279278524 solMass\n",
      "Avg > 8 M_sun: 25.20008661135427 solMass\n",
      "Ratio of number of high to low: 0.0005303116697970722\n",
      "Ratio of mass of high to low: 0.13446238785870648\n"
     ]
    }
   ],
   "source": [
    "# Saltpeter\n",
    "print('Saltpeter')\n",
    "tot_num = integrate.quad(saltpeter_num, M_min, M_max)\n",
    "tot_mass = integrate.quad(saltpeter_mass, M_min, M_max)\n",
    "avg_mass = tot_mass[0] / tot_num[0]\n",
    "print('Avg Mass:', avg_mass*u.M_sun)\n",
    "\n",
    "tot_num = integrate.quad(saltpeter_num, 8, M_max)\n",
    "tot_mass = integrate.quad(saltpeter_mass, 8, M_max)\n",
    "avg_mass = tot_mass[0] / tot_num[0]\n",
    "print('Avg > 8 M_sun:', avg_mass*u.M_sun)\n",
    "\n",
    "low_m = integrate.quad(saltpeter_num, M_min, 8)[0]\n",
    "high_m = integrate.quad(saltpeter_num, 8, M_max)[0]\n",
    "ratio = high_m / low_m\n",
    "print('Ratio of number of high to low:', ratio)\n",
    "\n",
    "low_m = integrate.quad(saltpeter_mass, M_min, 8)[0]\n",
    "high_m = integrate.quad(saltpeter_mass, 8, M_max)[0]\n",
    "ratio = high_m / low_m\n",
    "print('Ratio of mass of high to low:', ratio)"
   ]
  },
  {
   "cell_type": "code",
   "execution_count": 149,
   "id": "671c4e28-3c74-4625-b242-dcac47e5586f",
   "metadata": {},
   "outputs": [
    {
     "name": "stdout",
     "output_type": "stream",
     "text": [
      "Kroupa\n",
      "Avg Mass: 0.8613573949596953 solMass\n",
      "Avg > 8 M_sun: 26.572582248149743 solMass\n",
      "Ratio of number of high to low: 0.010345786009095798\n",
      "Ratio of mass of high to low: 0.46176558641927584\n"
     ]
    }
   ],
   "source": [
    "# Kroupa\n",
    "print('Kroupa')\n",
    "tot_num = integrate.quad(kroupa_num, M_min, 0.08)[0] + integrate.quad(kroupa_num, 0.08, 0.5)[0] + integrate.quad(kroupa_num, 0.5, M_max)[0]\n",
    "tot_mass = integrate.quad(kroupa_mass, M_min, 0.08)[0] + integrate.quad(kroupa_mass, 0.08, 0.5)[0] + integrate.quad(kroupa_mass, 0.5, M_max)[0]\n",
    "avg_mass = tot_mass / tot_num\n",
    "print('Avg Mass:', avg_mass*u.M_sun)\n",
    "\n",
    "tot_num = integrate.quad(kroupa_num, 8, M_max)[0]\n",
    "tot_mass = integrate.quad(kroupa_mass, 8, M_max)[0]\n",
    "avg_mass = tot_mass / tot_num\n",
    "print('Avg > 8 M_sun:', avg_mass*u.M_sun)\n",
    "\n",
    "low_m = integrate.quad(kroupa_num, M_min, 0.08)[0] + integrate.quad(kroupa_num, 0.08, 0.5)[0] + integrate.quad(kroupa_num, 0.5, 8)[0]\n",
    "high_m = integrate.quad(kroupa_num, 8, M_max)[0]\n",
    "ratio = high_m / low_m\n",
    "print('Ratio of number of high to low:', ratio)\n",
    "\n",
    "low_m = integrate.quad(kroupa_mass, M_min, 0.08)[0] + integrate.quad(kroupa_mass, 0.08, 0.5)[0] + integrate.quad(kroupa_mass, 0.5, 8)[0]\n",
    "high_m = integrate.quad(kroupa_mass, 8, M_max)[0]\n",
    "ratio = high_m / low_m\n",
    "print('Ratio of mass of high to low:', ratio)"
   ]
  },
  {
   "cell_type": "code",
   "execution_count": 151,
   "id": "bbbffc8b-a639-4f5f-82cf-54ad19dc4de0",
   "metadata": {},
   "outputs": [
    {
     "name": "stdout",
     "output_type": "stream",
     "text": [
      "Kroupa (with imf package)\n",
      "Avg Mass: 0.4339293611895671 solMass\n",
      "Avg > 8 M_sun: 19.869986688415427 solMass\n",
      "Ratio of number of high to low: 0.0045936595522184384\n",
      "Ratio of mass of high to low: 0.2648391700807196\n"
     ]
    }
   ],
   "source": [
    "print('Kroupa (with imf package)')\n",
    "\n",
    "tot_num = k.integrate(mlow=M_min, mhigh=M_max)[0]\n",
    "tot_mass = k.m_integrate(mlow=M_min, mhigh=M_max)[0]\n",
    "avg_mass=tot_mass / tot_num\n",
    "print('Avg Mass:', avg_mass*u.M_sun)\n",
    "\n",
    "tot_num = k.integrate(8, M_max)[0]\n",
    "tot_mass = k.m_integrate(8, M_max)[0]\n",
    "avg_mass = tot_mass / tot_num\n",
    "print('Avg > 8 M_sun:', avg_mass*u.M_sun)\n",
    "\n",
    "high_num = k.integrate(8, M_max)[0]\n",
    "low_num = k.integrate(M_min, 8)[0]\n",
    "ratio = high_num / low_num\n",
    "print('Ratio of number of high to low:', ratio)\n",
    "\n",
    "low_m = k.m_integrate(M_min, 8)[0]\n",
    "high_m = k.m_integrate(8, M_max)[0]\n",
    "ratio = high_m / low_m\n",
    "print('Ratio of mass of high to low:', ratio)"
   ]
  },
  {
   "cell_type": "code",
   "execution_count": 152,
   "id": "bbe6ab10-2d2e-4b37-bfe4-b4d501bca48c",
   "metadata": {},
   "outputs": [
    {
     "name": "stdout",
     "output_type": "stream",
     "text": [
      "Chabrier:\n",
      "Avg Mass: 3.566807793287487 solMass\n",
      "Avg > 8 M_sun: 26.572582248150454 solMass\n",
      "Ratio of number of high to low: 0.06683563456341768\n",
      "Ratio of mass of high to low: 0.8752185193416078\n"
     ]
    }
   ],
   "source": [
    "# Chabrier\n",
    "print('Chabrier:')\n",
    "tot_num = integrate.quad(chabrier_num, M_min, 1.0)[0] + integrate.quad(chabrier_num, 1.0, M_max)[0]\n",
    "tot_mass = integrate.quad(chabrier_mass, M_min, 1.0)[0] + integrate.quad(chabrier_mass, 1.0, M_max)[0]\n",
    "avg_mass = tot_mass / tot_num\n",
    "print('Avg Mass:', avg_mass*u.M_sun)\n",
    "\n",
    "tot_num = integrate.quad(chabrier_num, 8.0, M_max)[0]\n",
    "tot_mass = integrate.quad(chabrier_mass, 8.0, M_max)[0]\n",
    "avg_mass = tot_mass / tot_num\n",
    "print('Avg > 8 M_sun:', avg_mass*u.M_sun)\n",
    "\n",
    "low_m = integrate.quad(chabrier_num, M_min, 1)[0] + integrate.quad(chabrier_num, 1, 8)[0]\n",
    "high_m = integrate.quad(chabrier_num, 8, M_max)[0]\n",
    "ratio = high_m / low_m\n",
    "print('Ratio of number of high to low:', ratio)\n",
    "\n",
    "low_m = integrate.quad(chabrier_mass, M_min, 1)[0] + integrate.quad(chabrier_mass, 1, 8)[0]\n",
    "high_m = integrate.quad(chabrier_mass, 8, M_max)[0]\n",
    "ratio = high_m / low_m\n",
    "print('Ratio of mass of high to low:', ratio)"
   ]
  },
  {
   "cell_type": "code",
   "execution_count": 154,
   "id": "3a993577-460b-48a5-8ca1-acaf1fbe24aa",
   "metadata": {},
   "outputs": [
    {
     "name": "stdout",
     "output_type": "stream",
     "text": [
      "Chabrier (with imf package-PowerLaw)\n",
      "Avg Mass: 0.7317193365937897 solMass\n",
      "Avg > 8 M_sun: 26.572582248149732 solMass\n",
      "Ratio of number of high to low: 0.008703415988285603\n",
      "Ratio of mass of high to low: 0.45632426616499994\n"
     ]
    }
   ],
   "source": [
    "print('Chabrier (with imf package-PowerLaw)')\n",
    "\n",
    "tot_num = c.integrate(mlow=M_min, mhigh=M_max)[0]\n",
    "tot_mass = c.m_integrate(mlow=M_min, mhigh=M_max)[0]\n",
    "avg_mass = tot_mass / tot_num\n",
    "print('Avg Mass:', avg_mass*u.M_sun)\n",
    "\n",
    "tot_num = c.integrate(mlow=8, mhigh=M_max)[0]\n",
    "tot_mass = c.m_integrate(mlow=8, mhigh=M_max)[0]\n",
    "avg_mass = tot_mass / tot_num\n",
    "print('Avg > 8 M_sun:', avg_mass*u.M_sun)\n",
    "\n",
    "high_num = c.integrate(8, M_max)[0]\n",
    "low_num = c.integrate(M_min, 8)[0]\n",
    "ratio = high_num / low_num\n",
    "print('Ratio of number of high to low:', ratio)\n",
    "\n",
    "low_m = c.m_integrate(M_min, 8)[0]\n",
    "high_m = c.m_integrate(8, M_max)[0]\n",
    "ratio = high_m / low_m\n",
    "print('Ratio of mass of high to low:', ratio)"
   ]
  },
  {
   "cell_type": "code",
   "execution_count": 155,
   "id": "ab7cb265-7ac3-4078-9f03-73142461b732",
   "metadata": {},
   "outputs": [
    {
     "name": "stdout",
     "output_type": "stream",
     "text": [
      "Chabrier (with imf package)\n",
      "Avg Mass: 2.5027063338453632 solMass\n",
      "Avg > 8 M_sun: 26.572582248149732 solMass\n",
      "Ratio of number of high to low: 0.00852453470482561\n",
      "Ratio of mass of high to low: 0.8178395262143414\n"
     ]
    }
   ],
   "source": [
    "print('Chabrier (with imf package)')\n",
    "\n",
    "tot_num = c_log.integrate(mlow=M_min, mhigh=1)[0] + c.integrate(mlow=1, mhigh=M_max)[0]\n",
    "tot_mass = c_log.m_integrate(mlow=M_min, mhigh=1)[0] + c.m_integrate(mlow=1, mhigh=M_max)[0]\n",
    "avg_mass = tot_mass / tot_num\n",
    "print('Avg Mass:', avg_mass*u.M_sun)\n",
    "\n",
    "tot_num = c.integrate(mlow=8, mhigh=M_max)[0]\n",
    "tot_mass = c.m_integrate(mlow=8, mhigh=M_max)[0]\n",
    "avg_mass = tot_mass / tot_num\n",
    "print('Avg > 8 M_sun:', avg_mass*u.M_sun)\n",
    "\n",
    "high_num = c.integrate(8, M_max)[0]\n",
    "low_num = c_log.m_integrate(M_min, 1)[0] +c.integrate(M_min, 8)[0]\n",
    "ratio = high_num / low_num\n",
    "print('Ratio of number of high to low:', ratio)\n",
    "\n",
    "low_m = c_log.m_integrate(M_min, 1)[0] + c.m_integrate(1, 8)[0]\n",
    "high_m = c.m_integrate(8, M_max)[0]\n",
    "ratio = high_m / low_m\n",
    "print('Ratio of mass of high to low:', ratio)"
   ]
  },
  {
   "cell_type": "markdown",
   "id": "78ac73d2-956f-4ad3-ad1c-664a9590075e",
   "metadata": {},
   "source": [
    "#### F) Do these numbers change if you change $M_{min} = 0.03 M_{\\odot}$? To $M_{min} = 0.3 M_{\\odot}$"
   ]
  },
  {
   "cell_type": "code",
   "execution_count": 156,
   "id": "6cfe563a-25c9-413b-9c47-3e69581a6d27",
   "metadata": {},
   "outputs": [],
   "source": [
    "M_max = 120\n",
    "M_min = 0.03"
   ]
  },
  {
   "cell_type": "code",
   "execution_count": 157,
   "id": "9ef06080-8e27-481f-9a7e-140713ead0ce",
   "metadata": {},
   "outputs": [
    {
     "name": "stdout",
     "output_type": "stream",
     "text": [
      "Saltpeter\n",
      "Avg Mass: 0.10936736093326274 solMass\n",
      "Avg > 8 M_sun: 19.398588286732235 solMass\n",
      "Ratio of number of high to low: 0.0005173727037115695\n",
      "Ratio of mass of high to low: 0.1009813655962592\n"
     ]
    }
   ],
   "source": [
    "# Saltpeter\n",
    "print('Saltpeter')\n",
    "tot_num = integrate.quad(saltpeter_num, M_min, M_max)\n",
    "tot_mass = integrate.quad(saltpeter_mass, M_min, M_max)\n",
    "avg_mass = tot_mass[0] / tot_num[0]\n",
    "print('Avg Mass:', avg_mass*u.M_sun)\n",
    "\n",
    "tot_num = integrate.quad(saltpeter_num, 8, M_max)\n",
    "tot_mass = integrate.quad(saltpeter_mass, 8, M_max)\n",
    "avg_mass = tot_mass[0] / tot_num[0]\n",
    "print('Avg > 8 M_sun:', avg_mass*u.M_sun)\n",
    "\n",
    "low_m = integrate.quad(saltpeter_num, M_min, 8)[0]\n",
    "high_m = integrate.quad(saltpeter_num, 8, M_max)[0]\n",
    "ratio = high_m / low_m\n",
    "print('Ratio of number of high to low:', ratio)\n",
    "\n",
    "low_m = integrate.quad(saltpeter_mass, M_min, 8)[0]\n",
    "high_m = integrate.quad(saltpeter_mass, 8, M_max)[0]\n",
    "ratio = high_m / low_m\n",
    "print('Ratio of mass of high to low:', ratio)"
   ]
  },
  {
   "cell_type": "code",
   "execution_count": 158,
   "id": "4612936e-96f7-4234-bb0b-2b018cf27aa6",
   "metadata": {},
   "outputs": [
    {
     "name": "stdout",
     "output_type": "stream",
     "text": [
      "Kroupa\n",
      "Avg Mass: 0.7872997381688475 solMass\n",
      "Avg > 8 M_sun: 19.869986688415544 solMass\n",
      "Ratio of number of high to low: 0.010058603071593154\n",
      "Ratio of mass of high to low: 0.3357063521835148\n"
     ]
    }
   ],
   "source": [
    "# Kroupa\n",
    "print('Kroupa')\n",
    "tot_num = integrate.quad(kroupa_num, M_min, 0.08)[0] + integrate.quad(kroupa_num, 0.08, 0.5)[0] + integrate.quad(kroupa_num, 0.5, M_max)[0]\n",
    "tot_mass = integrate.quad(kroupa_mass, M_min, 0.08)[0] + integrate.quad(kroupa_mass, 0.08, 0.5)[0] + integrate.quad(kroupa_mass, 0.5, M_max)[0]\n",
    "avg_mass = tot_mass / tot_num\n",
    "print('Avg Mass:', avg_mass*u.M_sun)\n",
    "\n",
    "tot_num = integrate.quad(kroupa_num, 8, M_max)[0]\n",
    "tot_mass = integrate.quad(kroupa_mass, 8, M_max)[0]\n",
    "avg_mass = tot_mass / tot_num\n",
    "print('Avg > 8 M_sun:', avg_mass*u.M_sun)\n",
    "\n",
    "low_m = integrate.quad(kroupa_num, M_min, 0.08)[0] + integrate.quad(kroupa_num, 0.08, 0.5)[0] + integrate.quad(kroupa_num, 0.5, 8)[0]\n",
    "high_m = integrate.quad(kroupa_num, 8, M_max)[0]\n",
    "ratio = high_m / low_m\n",
    "print('Ratio of number of high to low:', ratio)\n",
    "\n",
    "low_m = integrate.quad(kroupa_mass, M_min, 0.08)[0] + integrate.quad(kroupa_mass, 0.08, 0.5)[0] + integrate.quad(kroupa_mass, 0.5, 8)[0]\n",
    "high_m = integrate.quad(kroupa_mass, 8, M_max)[0]\n",
    "ratio = high_m / low_m\n",
    "print('Ratio of mass of high to low:', ratio)"
   ]
  },
  {
   "cell_type": "code",
   "execution_count": 159,
   "id": "50dc34a4-ccb6-4b57-a429-7994086bf8c2",
   "metadata": {},
   "outputs": [
    {
     "name": "stdout",
     "output_type": "stream",
     "text": [
      "Kroupa (with imf package)\n",
      "Avg Mass: 0.4339293611895671 solMass\n",
      "Avg > 8 M_sun: 19.869986688415427 solMass\n",
      "Ratio of number of high to low: 0.0045936595522184384\n",
      "Ratio of mass of high to low: 0.2648391700807196\n"
     ]
    }
   ],
   "source": [
    "print('Kroupa (with imf package)')\n",
    "\n",
    "tot_num = k.integrate(mlow=M_min, mhigh=M_max)[0]\n",
    "tot_mass = k.m_integrate(mlow=M_min, mhigh=M_max)[0]\n",
    "avg_mass=tot_mass / tot_num\n",
    "print('Avg Mass:', avg_mass*u.M_sun)\n",
    "\n",
    "tot_num = k.integrate(8, M_max)[0]\n",
    "tot_mass = k.m_integrate(8, M_max)[0]\n",
    "avg_mass = tot_mass / tot_num\n",
    "print('Avg > 8 M_sun:', avg_mass*u.M_sun)\n",
    "\n",
    "high_num = k.integrate(8, M_max)[0]\n",
    "low_num = k.integrate(M_min, 8)[0]\n",
    "ratio = high_num / low_num\n",
    "print('Ratio of number of high to low:', ratio)\n",
    "\n",
    "low_m = k.m_integrate(M_min, 8)[0]\n",
    "high_m = k.m_integrate(8, M_max)[0]\n",
    "ratio = high_m / low_m\n",
    "print('Ratio of mass of high to low:', ratio)"
   ]
  },
  {
   "cell_type": "code",
   "execution_count": 160,
   "id": "2136e061-5c41-462a-918d-e31626950b72",
   "metadata": {},
   "outputs": [
    {
     "name": "stdout",
     "output_type": "stream",
     "text": [
      "Chabrier:\n",
      "Avg Mass: 3.1177678272118206 solMass\n",
      "Avg > 8 M_sun: 19.86998668841554 solMass\n",
      "Ratio of number of high to low: 0.06498038124125519\n",
      "Ratio of mass of high to low: 0.6362891153712947\n"
     ]
    }
   ],
   "source": [
    "# Chabrier\n",
    "print('Chabrier:')\n",
    "tot_num = integrate.quad(chabrier_num, M_min, 1.0)[0] + integrate.quad(chabrier_num, 1.0, M_max)[0]\n",
    "tot_mass = integrate.quad(chabrier_mass, M_min, 1.0)[0] + integrate.quad(chabrier_mass, 1.0, M_max)[0]\n",
    "avg_mass = tot_mass / tot_num\n",
    "print('Avg Mass:', avg_mass*u.M_sun)\n",
    "\n",
    "tot_num = integrate.quad(chabrier_num, 8.0, M_max)[0]\n",
    "tot_mass = integrate.quad(chabrier_mass, 8.0, M_max)[0]\n",
    "avg_mass = tot_mass / tot_num\n",
    "print('Avg > 8 M_sun:', avg_mass*u.M_sun)\n",
    "\n",
    "low_m = integrate.quad(chabrier_num, M_min, 1)[0] + integrate.quad(chabrier_num, 1, 8)[0]\n",
    "high_m = integrate.quad(chabrier_num, 8, M_max)[0]\n",
    "ratio = high_m / low_m\n",
    "print('Ratio of number of high to low:', ratio)\n",
    "\n",
    "low_m = integrate.quad(chabrier_mass, M_min, 1)[0] + integrate.quad(chabrier_mass, 1, 8)[0]\n",
    "high_m = integrate.quad(chabrier_mass, 8, M_max)[0]\n",
    "ratio = high_m / low_m\n",
    "print('Ratio of mass of high to low:', ratio)"
   ]
  },
  {
   "cell_type": "code",
   "execution_count": 161,
   "id": "654a6537-c317-4dd7-ac4f-5654799791c1",
   "metadata": {},
   "outputs": [
    {
     "name": "stdout",
     "output_type": "stream",
     "text": [
      "Chabrier (with imf package-PowerLaw)\n",
      "Avg Mass: 0.669288461104936 solMass\n",
      "Avg > 8 M_sun: 19.869986688415548 solMass\n",
      "Ratio of number of high to low: 0.008461822689562252\n",
      "Ratio of mass of high to low: 0.33175047970763344\n"
     ]
    }
   ],
   "source": [
    "print('Chabrier (with imf package-PowerLaw)')\n",
    "\n",
    "tot_num = c.integrate(mlow=M_min, mhigh=M_max)[0]\n",
    "tot_mass = c.m_integrate(mlow=M_min, mhigh=M_max)[0]\n",
    "avg_mass = tot_mass / tot_num\n",
    "print('Avg Mass:', avg_mass*u.M_sun)\n",
    "\n",
    "tot_num = c.integrate(mlow=8, mhigh=M_max)[0]\n",
    "tot_mass = c.m_integrate(mlow=8, mhigh=M_max)[0]\n",
    "avg_mass = tot_mass / tot_num\n",
    "print('Avg > 8 M_sun:', avg_mass*u.M_sun)\n",
    "\n",
    "high_num = c.integrate(8, M_max)[0]\n",
    "low_num = c.integrate(M_min, 8)[0]\n",
    "ratio = high_num / low_num\n",
    "print('Ratio of number of high to low:', ratio)\n",
    "\n",
    "low_m = c.m_integrate(M_min, 8)[0]\n",
    "high_m = c.m_integrate(8, M_max)[0]\n",
    "ratio = high_m / low_m\n",
    "print('Ratio of mass of high to low:', ratio)"
   ]
  },
  {
   "cell_type": "code",
   "execution_count": 162,
   "id": "3ddfee9a-30b7-45ba-9960-1ca63eeae86c",
   "metadata": {},
   "outputs": [
    {
     "name": "stdout",
     "output_type": "stream",
     "text": [
      "Chabrier (with imf package)\n",
      "Avg Mass: 2.197911574655067 solMass\n",
      "Avg > 8 M_sun: 19.869986688415548 solMass\n",
      "Ratio of number of high to low: 0.008287906872467318\n",
      "Ratio of mass of high to low: 0.5945742430611102\n"
     ]
    }
   ],
   "source": [
    "print('Chabrier (with imf package)')\n",
    "\n",
    "tot_num = c_log.integrate(mlow=M_min, mhigh=1)[0] + c.integrate(mlow=1, mhigh=M_max)[0]\n",
    "tot_mass = c_log.m_integrate(mlow=M_min, mhigh=1)[0] + c.m_integrate(mlow=1, mhigh=M_max)[0]\n",
    "avg_mass = tot_mass / tot_num\n",
    "print('Avg Mass:', avg_mass*u.M_sun)\n",
    "\n",
    "tot_num = c.integrate(mlow=8, mhigh=M_max)[0]\n",
    "tot_mass = c.m_integrate(mlow=8, mhigh=M_max)[0]\n",
    "avg_mass = tot_mass / tot_num\n",
    "print('Avg > 8 M_sun:', avg_mass*u.M_sun)\n",
    "\n",
    "high_num = c.integrate(8, M_max)[0]\n",
    "low_num = c_log.m_integrate(M_min, 1)[0] +c.integrate(M_min, 8)[0]\n",
    "ratio = high_num / low_num\n",
    "print('Ratio of number of high to low:', ratio)\n",
    "\n",
    "low_m = c_log.m_integrate(M_min, 1)[0] + c.m_integrate(1, 8)[0]\n",
    "high_m = c.m_integrate(8, M_max)[0]\n",
    "ratio = high_m / low_m\n",
    "print('Ratio of mass of high to low:', ratio)"
   ]
  },
  {
   "cell_type": "code",
   "execution_count": 163,
   "id": "dca9efed-8346-41cb-8d01-5fcfde375cb8",
   "metadata": {},
   "outputs": [],
   "source": [
    "M_min = 0.3"
   ]
  },
  {
   "cell_type": "code",
   "execution_count": 164,
   "id": "b831f894-3ca4-4123-8c89-4eb3280353ff",
   "metadata": {},
   "outputs": [
    {
     "name": "stdout",
     "output_type": "stream",
     "text": [
      "Saltpeter\n",
      "Avg Mass: 1.015331092932632 solMass\n",
      "Avg > 8 M_sun: 19.398588286732235 solMass\n",
      "Ratio of number of high to low: 0.011715605622491696\n",
      "Ratio of mass of high to low: 0.2840969312692048\n"
     ]
    }
   ],
   "source": [
    "# Saltpeter\n",
    "print('Saltpeter')\n",
    "tot_num = integrate.quad(saltpeter_num, M_min, M_max)\n",
    "tot_mass = integrate.quad(saltpeter_mass, M_min, M_max)\n",
    "avg_mass = tot_mass[0] / tot_num[0]\n",
    "print('Avg Mass:', avg_mass*u.M_sun)\n",
    "\n",
    "tot_num = integrate.quad(saltpeter_num, 8, M_max)\n",
    "tot_mass = integrate.quad(saltpeter_mass, 8, M_max)\n",
    "avg_mass = tot_mass[0] / tot_num[0]\n",
    "print('Avg > 8 M_sun:', avg_mass*u.M_sun)\n",
    "\n",
    "low_m = integrate.quad(saltpeter_num, M_min, 8)[0]\n",
    "high_m = integrate.quad(saltpeter_num, 8, M_max)[0]\n",
    "ratio = high_m / low_m\n",
    "print('Ratio of number of high to low:', ratio)\n",
    "\n",
    "low_m = integrate.quad(saltpeter_mass, M_min, 8)[0]\n",
    "high_m = integrate.quad(saltpeter_mass, 8, M_max)[0]\n",
    "ratio = high_m / low_m\n",
    "print('Ratio of mass of high to low:', ratio)"
   ]
  },
  {
   "cell_type": "code",
   "execution_count": 165,
   "id": "bd3a1c48-0266-43a7-9395-4d578f91ed77",
   "metadata": {},
   "outputs": [
    {
     "name": "stdout",
     "output_type": "stream",
     "text": [
      "Kroupa\n",
      "Avg Mass: 1.3900436808896965 solMass\n",
      "Avg > 8 M_sun: 19.869986688415544 solMass\n",
      "Ratio of number of high to low: 0.01982527987195846\n",
      "Ratio of mass of high to low: 0.3848180047225327\n"
     ]
    }
   ],
   "source": [
    "# Kroupa\n",
    "print('Kroupa')\n",
    "tot_num = integrate.quad(kroupa_num, M_min, 0.08)[0] + integrate.quad(kroupa_num, 0.08, 0.5)[0] + integrate.quad(kroupa_num, 0.5, M_max)[0]\n",
    "tot_mass = integrate.quad(kroupa_mass, M_min, 0.08)[0] + integrate.quad(kroupa_mass, 0.08, 0.5)[0] + integrate.quad(kroupa_mass, 0.5, M_max)[0]\n",
    "avg_mass = tot_mass / tot_num\n",
    "print('Avg Mass:', avg_mass*u.M_sun)\n",
    "\n",
    "tot_num = integrate.quad(kroupa_num, 8, M_max)[0]\n",
    "tot_mass = integrate.quad(kroupa_mass, 8, M_max)[0]\n",
    "avg_mass = tot_mass / tot_num\n",
    "print('Avg > 8 M_sun:', avg_mass*u.M_sun)\n",
    "\n",
    "low_m = integrate.quad(kroupa_num, M_min, 0.08)[0] + integrate.quad(kroupa_num, 0.08, 0.5)[0] + integrate.quad(kroupa_num, 0.5, 8)[0]\n",
    "high_m = integrate.quad(kroupa_num, 8, M_max)[0]\n",
    "ratio = high_m / low_m\n",
    "print('Ratio of number of high to low:', ratio)\n",
    "\n",
    "low_m = integrate.quad(kroupa_mass, M_min, 0.08)[0] + integrate.quad(kroupa_mass, 0.08, 0.5)[0] + integrate.quad(kroupa_mass, 0.5, 8)[0]\n",
    "high_m = integrate.quad(kroupa_mass, 8, M_max)[0]\n",
    "ratio = high_m / low_m\n",
    "print('Ratio of mass of high to low:', ratio)"
   ]
  },
  {
   "cell_type": "code",
   "execution_count": 166,
   "id": "4d32803d-9d22-462a-894f-823332756c8d",
   "metadata": {},
   "outputs": [
    {
     "name": "stdout",
     "output_type": "stream",
     "text": [
      "Kroupa (with imf package)\n",
      "Avg Mass: 1.1808181605320491 solMass\n",
      "Avg > 8 M_sun: 19.869986688415427 solMass\n",
      "Ratio of number of high to low: 0.015617005115274347\n",
      "Ratio of mass of high to low: 0.34907466236915713\n"
     ]
    }
   ],
   "source": [
    "print('Kroupa (with imf package)')\n",
    "\n",
    "tot_num = k.integrate(mlow=M_min, mhigh=M_max)[0]\n",
    "tot_mass = k.m_integrate(mlow=M_min, mhigh=M_max)[0]\n",
    "avg_mass=tot_mass / tot_num\n",
    "print('Avg Mass:', avg_mass*u.M_sun)\n",
    "\n",
    "tot_num = k.integrate(8, M_max)[0]\n",
    "tot_mass = k.m_integrate(8, M_max)[0]\n",
    "avg_mass = tot_mass / tot_num\n",
    "print('Avg > 8 M_sun:', avg_mass*u.M_sun)\n",
    "\n",
    "high_num = k.integrate(8, M_max)[0]\n",
    "low_num = k.integrate(M_min, 8)[0]\n",
    "ratio = high_num / low_num\n",
    "print('Ratio of number of high to low:', ratio)\n",
    "\n",
    "low_m = k.m_integrate(M_min, 8)[0]\n",
    "high_m = k.m_integrate(8, M_max)[0]\n",
    "ratio = high_m / low_m\n",
    "print('Ratio of mass of high to low:', ratio)"
   ]
  },
  {
   "cell_type": "code",
   "execution_count": 167,
   "id": "7974f677-0adc-4d30-860b-1cea52355e4e",
   "metadata": {},
   "outputs": [
    {
     "name": "stdout",
     "output_type": "stream",
     "text": [
      "Chabrier:\n",
      "Avg Mass: 3.2459394389404745 solMass\n",
      "Avg > 8 M_sun: 19.86998668841554 solMass\n",
      "Ratio of number of high to low: 0.06796382504054982\n",
      "Ratio of mass of high to low: 0.6381724516558492\n"
     ]
    }
   ],
   "source": [
    "# Chabrier\n",
    "print('Chabrier:')\n",
    "tot_num = integrate.quad(chabrier_num, M_min, 1.0)[0] + integrate.quad(chabrier_num, 1.0, M_max)[0]\n",
    "tot_mass = integrate.quad(chabrier_mass, M_min, 1.0)[0] + integrate.quad(chabrier_mass, 1.0, M_max)[0]\n",
    "avg_mass = tot_mass / tot_num\n",
    "print('Avg Mass:', avg_mass*u.M_sun)\n",
    "\n",
    "tot_num = integrate.quad(chabrier_num, 8.0, M_max)[0]\n",
    "tot_mass = integrate.quad(chabrier_mass, 8.0, M_max)[0]\n",
    "avg_mass = tot_mass / tot_num\n",
    "print('Avg > 8 M_sun:', avg_mass*u.M_sun)\n",
    "\n",
    "low_m = integrate.quad(chabrier_num, M_min, 1)[0] + integrate.quad(chabrier_num, 1, 8)[0]\n",
    "high_m = integrate.quad(chabrier_num, 8, M_max)[0]\n",
    "ratio = high_m / low_m\n",
    "print('Ratio of number of high to low:', ratio)\n",
    "\n",
    "low_m = integrate.quad(chabrier_mass, M_min, 1)[0] + integrate.quad(chabrier_mass, 1, 8)[0]\n",
    "high_m = integrate.quad(chabrier_mass, 8, M_max)[0]\n",
    "ratio = high_m / low_m\n",
    "print('Ratio of mass of high to low:', ratio)"
   ]
  },
  {
   "cell_type": "code",
   "execution_count": 168,
   "id": "f5fa777d-a9a5-4f90-8762-c4860e55081c",
   "metadata": {},
   "outputs": [
    {
     "name": "stdout",
     "output_type": "stream",
     "text": [
      "Chabrier (with imf package-PowerLaw)\n",
      "Avg Mass: 1.369985719728463 solMass\n",
      "Avg > 8 M_sun: 19.869986688415548 solMass\n",
      "Ratio of number of high to low: 0.019809120730181016\n",
      "Ratio of mass of high to low: 0.3922275147753622\n"
     ]
    }
   ],
   "source": [
    "print('Chabrier (with imf package-PowerLaw)')\n",
    "\n",
    "tot_num = c.integrate(mlow=M_min, mhigh=M_max)[0]\n",
    "tot_mass = c.m_integrate(mlow=M_min, mhigh=M_max)[0]\n",
    "avg_mass = tot_mass / tot_num\n",
    "print('Avg Mass:', avg_mass*u.M_sun)\n",
    "\n",
    "tot_num = c.integrate(mlow=8, mhigh=M_max)[0]\n",
    "tot_mass = c.m_integrate(mlow=8, mhigh=M_max)[0]\n",
    "avg_mass = tot_mass / tot_num\n",
    "print('Avg > 8 M_sun:', avg_mass*u.M_sun)\n",
    "\n",
    "high_num = c.integrate(8, M_max)[0]\n",
    "low_num = c.integrate(M_min, 8)[0]\n",
    "ratio = high_num / low_num\n",
    "print('Ratio of number of high to low:', ratio)\n",
    "\n",
    "low_m = c.m_integrate(M_min, 8)[0]\n",
    "high_m = c.m_integrate(8, M_max)[0]\n",
    "ratio = high_m / low_m\n",
    "print('Ratio of mass of high to low:', ratio)"
   ]
  },
  {
   "cell_type": "code",
   "execution_count": 169,
   "id": "71b13361-f951-406c-bc67-8f9e90e9fe67",
   "metadata": {},
   "outputs": [
    {
     "name": "stdout",
     "output_type": "stream",
     "text": [
      "Chabrier (with imf package)\n",
      "Avg Mass: 2.8458154617268407 solMass\n",
      "Avg > 8 M_sun: 19.869986688415548 solMass\n",
      "Ratio of number of high to low: 0.01916783154728376\n",
      "Ratio of mass of high to low: 0.6089872935654614\n"
     ]
    }
   ],
   "source": [
    "print('Chabrier (with imf package)')\n",
    "\n",
    "tot_num = c_log.integrate(mlow=M_min, mhigh=1)[0] + c.integrate(mlow=1, mhigh=M_max)[0]\n",
    "tot_mass = c_log.m_integrate(mlow=M_min, mhigh=1)[0] + c.m_integrate(mlow=1, mhigh=M_max)[0]\n",
    "avg_mass = tot_mass / tot_num\n",
    "print('Avg Mass:', avg_mass*u.M_sun)\n",
    "\n",
    "tot_num = c.integrate(mlow=8, mhigh=M_max)[0]\n",
    "tot_mass = c.m_integrate(mlow=8, mhigh=M_max)[0]\n",
    "avg_mass = tot_mass / tot_num\n",
    "print('Avg > 8 M_sun:', avg_mass*u.M_sun)\n",
    "\n",
    "high_num = c.integrate(8, M_max)[0]\n",
    "low_num = c_log.m_integrate(M_min, 1)[0] +c.integrate(M_min, 8)[0]\n",
    "ratio = high_num / low_num\n",
    "print('Ratio of number of high to low:', ratio)\n",
    "\n",
    "low_m = c_log.m_integrate(M_min, 1)[0] + c.m_integrate(1, 8)[0]\n",
    "high_m = c.m_integrate(8, M_max)[0]\n",
    "ratio = high_m / low_m\n",
    "print('Ratio of mass of high to low:', ratio)"
   ]
  },
  {
   "cell_type": "markdown",
   "id": "fda77ebb-56eb-4201-be87-625b5e3b4504",
   "metadata": {},
   "source": [
    "#### G) For a cluster of 1000 stars, how many would you expect to be $M > 8 M_{\\odot}$ (able to go supernova)?"
   ]
  },
  {
   "cell_type": "code",
   "execution_count": 226,
   "id": "f262dc25-9a45-46f9-a763-269fd245113b",
   "metadata": {},
   "outputs": [],
   "source": [
    "N = 1000 # number of stars \n",
    "M_max = 120\n",
    "M_min = 0.03"
   ]
  },
  {
   "cell_type": "code",
   "execution_count": 227,
   "id": "9998c13c-0cc7-4a98-b874-0baf6bdb82e4",
   "metadata": {},
   "outputs": [
    {
     "data": {
      "text/plain": [
       "0.5171051676128984"
      ]
     },
     "execution_count": 227,
     "metadata": {},
     "output_type": "execute_result"
    }
   ],
   "source": [
    "# Salpeter\n",
    "'''\n",
    "tot_m = integrate.quad(saltpeter_num, 0.01, M_max)[0]\n",
    "high_m = integrate.quad(saltpeter_num, 8, M_max)[0]\n",
    "ratio = high_m / tot_m\n",
    "ratio * N\n",
    "\n",
    "#### Gives same number\n",
    "'''\n",
    "# Salpeter\n",
    "low_m = integrate.quad(saltpeter_num, 0.03, 8)[0]\n",
    "high_m = integrate.quad(saltpeter_num, 8, M_max)[0]\n",
    "ratio = high_m / low_m\n",
    "(ratio*N) / (1+ratio) # = # massive stars"
   ]
  },
  {
   "cell_type": "code",
   "execution_count": 228,
   "id": "1e88e540-b29e-4079-88c2-a60cc08cded1",
   "metadata": {},
   "outputs": [
    {
     "data": {
      "text/plain": [
       "0.5171051676128984"
      ]
     },
     "execution_count": 228,
     "metadata": {},
     "output_type": "execute_result"
    }
   ],
   "source": [
    "tot_num = integrate.quad(saltpeter_num, M_min, M_max)[0]\n",
    "high_num = integrate.quad(saltpeter_num, 8, M_max)[0]\n",
    "ratio = high_num / tot_num \n",
    "ratio * N"
   ]
  },
  {
   "cell_type": "code",
   "execution_count": 231,
   "id": "602d4c88-202e-47c4-b90f-68c57046b16b",
   "metadata": {},
   "outputs": [
    {
     "name": "stdout",
     "output_type": "stream",
     "text": [
      "Total cluster mass is 1000.03 (limit was 1000)\n"
     ]
    },
    {
     "data": {
      "text/plain": [
       "4"
      ]
     },
     "execution_count": 231,
     "metadata": {},
     "output_type": "execute_result"
    }
   ],
   "source": [
    "cluster = imf.make_cluster(1000, massfunc='salpeter', mmin=M_min, mmax=M_max)\n",
    "(cluster > 8.).sum()"
   ]
  },
  {
   "cell_type": "code",
   "execution_count": 232,
   "id": "25d62c37-a2d3-4908-b5ae-44109fd7cfba",
   "metadata": {},
   "outputs": [
    {
     "data": {
      "text/plain": [
       "9.958435125297513"
      ]
     },
     "execution_count": 232,
     "metadata": {},
     "output_type": "execute_result"
    }
   ],
   "source": [
    "# Kroupa\n",
    "low_m = integrate.quad(kroupa_num, 0.01, 0.08)[0] + integrate.quad(kroupa_num, 0.08, 0.5)[0] + integrate.quad(kroupa_num, 0.5, 8)[0]\n",
    "high_m = integrate.quad(kroupa_num, 8, M_max)[0]\n",
    "ratio = high_m / low_m\n",
    "(ratio*N) / (1+ratio) # = # massive stars"
   ]
  },
  {
   "cell_type": "code",
   "execution_count": 233,
   "id": "b80d713a-b174-4430-930f-8b85f64f6c4e",
   "metadata": {},
   "outputs": [
    {
     "data": {
      "text/plain": [
       "4.572654334953685"
      ]
     },
     "execution_count": 233,
     "metadata": {},
     "output_type": "execute_result"
    }
   ],
   "source": [
    "tot_num = k.integrate(M_min, M_max)[0]\n",
    "high_num = k.integrate(8, M_max)[0]\n",
    "ratio = high_num / tot_num\n",
    "ratio*N"
   ]
  },
  {
   "cell_type": "code",
   "execution_count": 241,
   "id": "18485ba8-d5b4-4274-9903-b965115319b1",
   "metadata": {},
   "outputs": [
    {
     "name": "stdout",
     "output_type": "stream",
     "text": [
      "Total cluster mass is 999.231 (limit was 1000)\n"
     ]
    },
    {
     "data": {
      "text/plain": [
       "11"
      ]
     },
     "execution_count": 241,
     "metadata": {},
     "output_type": "execute_result"
    }
   ],
   "source": [
    "cluster = imf.make_cluster(1000, massfunc='kroupa', mmin=M_min, mmax=M_max)\n",
    "(cluster > 8.).sum()"
   ]
  },
  {
   "cell_type": "code",
   "execution_count": 235,
   "id": "a2dc53df-a3d6-4a04-b3ae-717797d825a7",
   "metadata": {},
   "outputs": [
    {
     "data": {
      "text/plain": [
       "63.63869584999218"
      ]
     },
     "execution_count": 235,
     "metadata": {},
     "output_type": "execute_result"
    }
   ],
   "source": [
    "# Chabrier \n",
    "low_m = integrate.quad(chabrier_num, 0.3, 1)[0] + integrate.quad(chabrier_num, 1, 8)[0]\n",
    "high_m = integrate.quad(chabrier_num, 8, M_max)[0]\n",
    "ratio = high_m / low_m\n",
    "(ratio*N) / (1+ratio)"
   ]
  },
  {
   "cell_type": "code",
   "execution_count": 236,
   "id": "48814c73-871d-438c-bf40-373583809a73",
   "metadata": {},
   "outputs": [
    {
     "data": {
      "text/plain": [
       "8.390821048131905"
      ]
     },
     "execution_count": 236,
     "metadata": {},
     "output_type": "execute_result"
    }
   ],
   "source": [
    "tot_num = c.integrate(M_min, M_max)[0]\n",
    "high_num = c.integrate(8, M_max)[0]\n",
    "ratio = high_num / tot_num\n",
    "ratio*N"
   ]
  },
  {
   "cell_type": "code",
   "execution_count": 240,
   "id": "6073c8b0-6e5a-453a-92dc-ced1206119e6",
   "metadata": {},
   "outputs": [
    {
     "name": "stdout",
     "output_type": "stream",
     "text": [
      "Total cluster mass is 1002.34 (limit was 1000)\n"
     ]
    },
    {
     "data": {
      "text/plain": [
       "13"
      ]
     },
     "execution_count": 240,
     "metadata": {},
     "output_type": "execute_result"
    }
   ],
   "source": [
    "cluster = imf.make_cluster(1000, massfunc='chabrier', mmin=M_min, mmax=M_max)\n",
    "(cluster > 8.).sum()"
   ]
  },
  {
   "cell_type": "markdown",
   "id": "2cbaf8aa-6cee-4b32-afae-1bed4a54e6d3",
   "metadata": {},
   "source": [
    "#### H) In an ‘optimal distribution function’, the cluster mass to maximum star mass is fixed by defining $\\int^{M_{max}}_{M_{max,cl}} \\xi dM = 1$ where $M_{max}$ is the maximum possible mass for a star and $M_{max,cl}$ is the most massive star in the cluster. From this definition, determine how many stars must be in a cluster to form one 10 $M_{\\odot}$ star or one 100 $M_{\\odot}$ star."
   ]
  },
  {
   "cell_type": "code",
   "execution_count": 348,
   "id": "8f089fa2-5abd-4e34-b9ce-e5d3660e7cbe",
   "metadata": {},
   "outputs": [
    {
     "data": {
      "text/plain": [
       "0.03193216923689906"
      ]
     },
     "execution_count": 348,
     "metadata": {},
     "output_type": "execute_result"
    }
   ],
   "source": [
    "M_max = 120 \n",
    "M_min = 0.01\n",
    "M_cl = 10\n",
    "norm = integrate.quad(saltpeter_num, M_cl, M_max)[0]\n",
    "norm"
   ]
  },
  {
   "cell_type": "code",
   "execution_count": 349,
   "id": "1e5f3c84-6327-47d7-bbef-060565bc903d",
   "metadata": {},
   "outputs": [],
   "source": [
    "#(ratio*N) / (1+ratio) # = # massive stars\n",
    "# Number massive stars * (1+ratio) = ratio*N\n",
    "# N = number massive stars * (1+ratio) / ratio"
   ]
  },
  {
   "cell_type": "code",
   "execution_count": 350,
   "id": "6bd0f294-915f-46a9-a2e6-60a34b74f886",
   "metadata": {},
   "outputs": [
    {
     "data": {
      "text/plain": [
       "266877"
      ]
     },
     "execution_count": 350,
     "metadata": {},
     "output_type": "execute_result"
    }
   ],
   "source": [
    "# Salpeter\n",
    "low_m = integrate.quad(saltpeter_num, M_min, 8)[0]\n",
    "high_m = integrate.quad(saltpeter_num, 8, M_max)[0]\n",
    "ratio = high_m / low_m\n",
    "N = 1 * (1+ratio) / ratio / norm\n",
    "round(N)"
   ]
  },
  {
   "cell_type": "code",
   "execution_count": 351,
   "id": "ef3ede56-77e8-4343-99cf-c90818b02d67",
   "metadata": {},
   "outputs": [
    {
     "data": {
      "text/plain": [
       "0.003386150796909071"
      ]
     },
     "execution_count": 351,
     "metadata": {},
     "output_type": "execute_result"
    }
   ],
   "source": [
    "norm = k.integrate(M_cl, M_max)[0]\n",
    "norm"
   ]
  },
  {
   "cell_type": "code",
   "execution_count": 352,
   "id": "aa07d5d9-0ec2-4031-ae57-b4141d5c12c9",
   "metadata": {},
   "outputs": [
    {
     "data": {
      "text/plain": [
       "29655"
      ]
     },
     "execution_count": 352,
     "metadata": {},
     "output_type": "execute_result"
    }
   ],
   "source": [
    "# Kroupa\n",
    "low_m = integrate.quad(kroupa_num, M_min, 0.08)[0] + integrate.quad(kroupa_num, 0.08, 0.5)[0] + integrate.quad(kroupa_num, 0.5, 8)[0]\n",
    "high_m = integrate.quad(kroupa_num, 8, M_max)[0]\n",
    "ratio = high_m / low_m\n",
    "N = 1 * (1+ratio) / ratio / norm\n",
    "round(N)"
   ]
  },
  {
   "cell_type": "code",
   "execution_count": 353,
   "id": "282edb63-1e27-4706-8340-fe985d49fb87",
   "metadata": {},
   "outputs": [
    {
     "data": {
      "text/plain": [
       "64584"
      ]
     },
     "execution_count": 353,
     "metadata": {},
     "output_type": "execute_result"
    }
   ],
   "source": [
    "low_m = k.integrate(M_min, 8)[0]\n",
    "high_m = k.integrate(8, M_max)[0]\n",
    "ratio = high_m / low_m\n",
    "N = 1 * (1+ratio) / ratio / norm\n",
    "round(N)"
   ]
  },
  {
   "cell_type": "code",
   "execution_count": 354,
   "id": "289ef839-4a7a-466f-a069-7581574efdd0",
   "metadata": {},
   "outputs": [
    {
     "data": {
      "text/plain": [
       "0.0058096741981150815"
      ]
     },
     "execution_count": 354,
     "metadata": {},
     "output_type": "execute_result"
    }
   ],
   "source": [
    "norm = c.integrate(M_cl, M_max)[0]\n",
    "norm"
   ]
  },
  {
   "cell_type": "code",
   "execution_count": 355,
   "id": "d4d0398c-60d2-4854-ace8-103597bd85b4",
   "metadata": {},
   "outputs": [
    {
     "data": {
      "text/plain": [
       "2833"
      ]
     },
     "execution_count": 355,
     "metadata": {},
     "output_type": "execute_result"
    }
   ],
   "source": [
    "# Chabrier\n",
    "low_m = integrate.quad(chabrier_num, M_min, 1)[0] + integrate.quad(chabrier_num, 1, 8)[0]\n",
    "high_m = integrate.quad(chabrier_num, 8, M_max)[0]\n",
    "ratio = high_m / low_m\n",
    "N = 1 * (1+ratio) / ratio / norm\n",
    "round(N)"
   ]
  },
  {
   "cell_type": "code",
   "execution_count": 356,
   "id": "5987f206-0c7a-4c35-b0f4-4c91ea0b8c9b",
   "metadata": {},
   "outputs": [
    {
     "data": {
      "text/plain": [
       "21731"
      ]
     },
     "execution_count": 356,
     "metadata": {},
     "output_type": "execute_result"
    }
   ],
   "source": [
    "low_m = c.integrate(M_min, 8)[0]\n",
    "high_m = c.integrate(8, M_max)[0]\n",
    "ratio = high_m / low_m\n",
    "N = 1 * (1+ratio) / ratio / norm\n",
    "round(N)"
   ]
  },
  {
   "cell_type": "markdown",
   "id": "53f62d0e-4dfc-4d04-ae46-a9709a54b71d",
   "metadata": {},
   "source": [
    "### ---"
   ]
  },
  {
   "cell_type": "code",
   "execution_count": 357,
   "id": "1c608340-71f9-470b-b91f-33f91ea21fd9",
   "metadata": {},
   "outputs": [
    {
     "data": {
      "text/plain": [
       "0.000322467829397256"
      ]
     },
     "execution_count": 357,
     "metadata": {},
     "output_type": "execute_result"
    }
   ],
   "source": [
    "M_cl = 100\n",
    "norm = integrate.quad(saltpeter_num, M_cl, M_max)[0]\n",
    "norm"
   ]
  },
  {
   "cell_type": "code",
   "execution_count": 358,
   "id": "fc243db8-f3f6-4cf0-bcd9-cd257d9004ad",
   "metadata": {},
   "outputs": [
    {
     "data": {
      "text/plain": [
       "26427314"
      ]
     },
     "execution_count": 358,
     "metadata": {},
     "output_type": "execute_result"
    }
   ],
   "source": [
    "# Salpeter\n",
    "low_m = integrate.quad(saltpeter_num, M_min, 8)[0]\n",
    "high_m = integrate.quad(saltpeter_num, 8, M_max)[0]\n",
    "ratio = high_m / low_m\n",
    "N = 1 * (1+ratio) / ratio / norm\n",
    "round(N)"
   ]
  },
  {
   "cell_type": "code",
   "execution_count": 359,
   "id": "84c1341a-9814-4190-b323-0acbbd31ca78",
   "metadata": {},
   "outputs": [
    {
     "data": {
      "text/plain": [
       "3.728703128780264e-05"
      ]
     },
     "execution_count": 359,
     "metadata": {},
     "output_type": "execute_result"
    }
   ],
   "source": [
    "norm = k.integrate(M_cl, M_max)[0]\n",
    "norm"
   ]
  },
  {
   "cell_type": "code",
   "execution_count": 360,
   "id": "814f2f8e-7a5f-4a29-a0cc-fcf10398ce0d",
   "metadata": {},
   "outputs": [
    {
     "data": {
      "text/plain": [
       "2693091"
      ]
     },
     "execution_count": 360,
     "metadata": {},
     "output_type": "execute_result"
    }
   ],
   "source": [
    "# Kroupa\n",
    "low_m = integrate.quad(kroupa_num, M_min, 0.08)[0] + integrate.quad(kroupa_num, 0.08, 0.5)[0] + integrate.quad(kroupa_num, 0.5, 8)[0]\n",
    "high_m = integrate.quad(kroupa_num, 8, M_max)[0]\n",
    "ratio = high_m / low_m\n",
    "N = 1 * (1+ratio) / ratio / norm\n",
    "round(N)"
   ]
  },
  {
   "cell_type": "code",
   "execution_count": 361,
   "id": "4bc70e60-7eac-491e-bc38-2ba57d981ad7",
   "metadata": {},
   "outputs": [
    {
     "data": {
      "text/plain": [
       "5865078"
      ]
     },
     "execution_count": 361,
     "metadata": {},
     "output_type": "execute_result"
    }
   ],
   "source": [
    "low_m = k.integrate(M_min, 8)[0]\n",
    "high_m = k.integrate(8, M_max)[0]\n",
    "ratio = high_m / low_m\n",
    "N = 1 * (1+ratio) / ratio / norm\n",
    "round(N)"
   ]
  },
  {
   "cell_type": "code",
   "execution_count": 362,
   "id": "e5889186-da51-4169-9ef1-4f60839bfd02",
   "metadata": {},
   "outputs": [
    {
     "data": {
      "text/plain": [
       "6.39739682575185e-05"
      ]
     },
     "execution_count": 362,
     "metadata": {},
     "output_type": "execute_result"
    }
   ],
   "source": [
    "norm = c.integrate(M_cl, M_max)[0]\n",
    "norm"
   ]
  },
  {
   "cell_type": "code",
   "execution_count": 363,
   "id": "81b1e2ef-470d-43ed-9d49-2e54e6fd5557",
   "metadata": {},
   "outputs": [
    {
     "data": {
      "text/plain": [
       "257289"
      ]
     },
     "execution_count": 363,
     "metadata": {},
     "output_type": "execute_result"
    }
   ],
   "source": [
    "# Chabrier\n",
    "low_m = integrate.quad(chabrier_num, M_min, 1)[0] + integrate.quad(chabrier_num, 1, 8)[0]\n",
    "high_m = integrate.quad(chabrier_num, 8, M_max)[0]\n",
    "ratio = high_m / low_m\n",
    "N = 1 * (1+ratio) / ratio / norm\n",
    "round(N)"
   ]
  },
  {
   "cell_type": "code",
   "execution_count": 364,
   "id": "fa1e0816-0d56-4233-9c46-860c626120dc",
   "metadata": {},
   "outputs": [
    {
     "data": {
      "text/plain": [
       "1973430"
      ]
     },
     "execution_count": 364,
     "metadata": {},
     "output_type": "execute_result"
    }
   ],
   "source": [
    "low_m = c.integrate(M_min, 8)[0]\n",
    "high_m = c.integrate(8, M_max)[0]\n",
    "ratio = high_m / low_m\n",
    "N = 1 * (1+ratio) / ratio / norm\n",
    "round(N)"
   ]
  },
  {
   "cell_type": "markdown",
   "id": "21516708-7aad-477a-b36e-0e0e45ca215c",
   "metadata": {},
   "source": [
    "#### I) What mass of cluster is required to produce a star of that mass?"
   ]
  },
  {
   "cell_type": "code",
   "execution_count": 365,
   "id": "d72d5d91-3a18-413c-856e-0d21c117adc3",
   "metadata": {},
   "outputs": [
    {
     "data": {
      "text/plain": [
       "0.7414054363344371"
      ]
     },
     "execution_count": 365,
     "metadata": {},
     "output_type": "execute_result"
    }
   ],
   "source": [
    "M_max = 120 \n",
    "M_cl = 10\n",
    "norm = integrate.quad(saltpeter_mass, M_cl, M_max)[0]\n",
    "norm"
   ]
  },
  {
   "cell_type": "code",
   "execution_count": 366,
   "id": "3fc1629f-9cd9-490a-842d-dc23948fe158",
   "metadata": {},
   "outputs": [
    {
     "data": {
      "text/latex": [
       "$22.001342 \\; \\mathrm{M_{\\odot}}$"
      ],
      "text/plain": [
       "<Quantity 22.00134225 solMass>"
      ]
     },
     "execution_count": 366,
     "metadata": {},
     "output_type": "execute_result"
    }
   ],
   "source": [
    "# Salpeter\n",
    "low_m = integrate.quad(saltpeter_mass, M_min, 8)[0]\n",
    "high_m = integrate.quad(saltpeter_mass, 8, M_max)[0]\n",
    "ratio = high_m / low_m\n",
    "N = 1 * (1+ratio) / ratio / norm\n",
    "N * u.M_sun"
   ]
  },
  {
   "cell_type": "code",
   "execution_count": 367,
   "id": "5dad32cf-4890-4525-859f-76b353cf0a35",
   "metadata": {},
   "outputs": [
    {
     "data": {
      "text/plain": [
       "0.08028131447615748"
      ]
     },
     "execution_count": 367,
     "metadata": {},
     "output_type": "execute_result"
    }
   ],
   "source": [
    "norm = k.m_integrate(M_cl, M_max)[0]\n",
    "norm"
   ]
  },
  {
   "cell_type": "code",
   "execution_count": 368,
   "id": "700dc19a-204b-441e-b72c-957a57553cdb",
   "metadata": {},
   "outputs": [
    {
     "data": {
      "text/latex": [
       "$49.560646 \\; \\mathrm{M_{\\odot}}$"
      ],
      "text/plain": [
       "<Quantity 49.56064589 solMass>"
      ]
     },
     "execution_count": 368,
     "metadata": {},
     "output_type": "execute_result"
    }
   ],
   "source": [
    "# Kroupa\n",
    "low_m = integrate.quad(kroupa_mass, M_min, 0.08)[0] + integrate.quad(kroupa_mass, 0.08, 0.5)[0] + integrate.quad(kroupa_mass, 0.5, 8)[0]\n",
    "high_m = integrate.quad(kroupa_mass, 8, M_max)[0]\n",
    "ratio = high_m / low_m\n",
    "N = 1 * (1+ratio) / ratio / norm\n",
    "N * u.M_sun"
   ]
  },
  {
   "cell_type": "code",
   "execution_count": 369,
   "id": "deec278e-8c61-4098-b0ea-3cc6566c89ff",
   "metadata": {},
   "outputs": [
    {
     "data": {
      "text/latex": [
       "$59.489266 \\; \\mathrm{M_{\\odot}}$"
      ],
      "text/plain": [
       "<Quantity 59.48926642 solMass>"
      ]
     },
     "execution_count": 369,
     "metadata": {},
     "output_type": "execute_result"
    }
   ],
   "source": [
    "low_m = k.m_integrate(M_min, 8)[0]\n",
    "high_m = k.m_integrate(8, M_max)[0]\n",
    "ratio = high_m / low_m\n",
    "N = 1 * (1+ratio) / ratio / norm\n",
    "N*u.M_sun"
   ]
  },
  {
   "cell_type": "code",
   "execution_count": 370,
   "id": "1702aca4-c092-40d8-9ff9-42153c0419bd",
   "metadata": {},
   "outputs": [
    {
     "data": {
      "text/plain": [
       "0.1377399617668107"
      ]
     },
     "execution_count": 370,
     "metadata": {},
     "output_type": "execute_result"
    }
   ],
   "source": [
    "norm = c.m_integrate(M_cl, M_max)[0]\n",
    "norm"
   ]
  },
  {
   "cell_type": "code",
   "execution_count": 371,
   "id": "a37e88fa-1a42-4d19-b4cc-05b9934ce72c",
   "metadata": {},
   "outputs": [
    {
     "data": {
      "text/latex": [
       "$119.4992 \\; \\mathrm{M_{\\odot}}$"
      ],
      "text/plain": [
       "<Quantity 119.499204 solMass>"
      ]
     },
     "execution_count": 371,
     "metadata": {},
     "output_type": "execute_result"
    }
   ],
   "source": [
    "# Chabrier\n",
    "low_m = integrate.quad(chabrier_num, M_min, 1)[0] + integrate.quad(chabrier_num, 1, 8)[0]\n",
    "high_m = integrate.quad(chabrier_num, 8, M_max)[0]\n",
    "ratio = high_m / low_m\n",
    "N = 1 * (1+ratio) / ratio / norm\n",
    "N * u.M_sun"
   ]
  },
  {
   "cell_type": "code",
   "execution_count": 372,
   "id": "eb70b74a-3e36-4e3e-90a8-85e4be20b30f",
   "metadata": {},
   "outputs": [
    {
     "data": {
      "text/latex": [
       "$29.19773 \\; \\mathrm{M_{\\odot}}$"
      ],
      "text/plain": [
       "<Quantity 29.19772961 solMass>"
      ]
     },
     "execution_count": 372,
     "metadata": {},
     "output_type": "execute_result"
    }
   ],
   "source": [
    "low_m = c.m_integrate(M_min, 8)[0]\n",
    "high_m = c.m_integrate(8, M_max)[0]\n",
    "ratio = high_m / low_m\n",
    "N = 1 * (1+ratio) / ratio / norm\n",
    "N*u.M_sun"
   ]
  },
  {
   "cell_type": "code",
   "execution_count": 373,
   "id": "3b1bbab1-9f58-4fd5-9f25-920562c7eb58",
   "metadata": {},
   "outputs": [
    {
     "data": {
      "text/plain": [
       "0.000322467829397256"
      ]
     },
     "execution_count": 373,
     "metadata": {},
     "output_type": "execute_result"
    }
   ],
   "source": [
    "M_cl = 100\n",
    "norm = integrate.quad(saltpeter_num, M_cl, M_max)[0]\n",
    "norm"
   ]
  },
  {
   "cell_type": "code",
   "execution_count": 374,
   "id": "9793dc61-87bb-4c07-a4e9-9bf207bee13a",
   "metadata": {},
   "outputs": [
    {
     "data": {
      "text/latex": [
       "$50584.627 \\; \\mathrm{M_{\\odot}}$"
      ],
      "text/plain": [
       "<Quantity 50584.62664096 solMass>"
      ]
     },
     "execution_count": 374,
     "metadata": {},
     "output_type": "execute_result"
    }
   ],
   "source": [
    "# Salpeter\n",
    "low_m = integrate.quad(saltpeter_mass, M_min, 8)[0]\n",
    "high_m = integrate.quad(saltpeter_mass, 8, M_max)[0]\n",
    "ratio = high_m / low_m\n",
    "N = 1 * (1+ratio) / ratio / norm\n",
    "N * u.M_sun"
   ]
  },
  {
   "cell_type": "code",
   "execution_count": 375,
   "id": "68faa0d0-974e-4068-81b5-8af1c801a9aa",
   "metadata": {},
   "outputs": [
    {
     "data": {
      "text/plain": [
       "0.004075552335609993"
      ]
     },
     "execution_count": 375,
     "metadata": {},
     "output_type": "execute_result"
    }
   ],
   "source": [
    "norm = k.m_integrate(M_cl, M_max)[0]\n",
    "norm"
   ]
  },
  {
   "cell_type": "code",
   "execution_count": 376,
   "id": "4fdab2f0-5a32-49df-b6ff-0fa415585b0f",
   "metadata": {},
   "outputs": [
    {
     "data": {
      "text/latex": [
       "$976.25879 \\; \\mathrm{M_{\\odot}}$"
      ],
      "text/plain": [
       "<Quantity 976.2587917 solMass>"
      ]
     },
     "execution_count": 376,
     "metadata": {},
     "output_type": "execute_result"
    }
   ],
   "source": [
    "# Kroupa\n",
    "low_m = integrate.quad(kroupa_mass, M_min, 0.08)[0] + integrate.quad(kroupa_mass, 0.08, 0.5)[0] + integrate.quad(kroupa_mass, 0.5, 8)[0]\n",
    "high_m = integrate.quad(kroupa_mass, 8, M_max)[0]\n",
    "ratio = high_m / low_m\n",
    "N = 1 * (1+ratio) / ratio / norm\n",
    "N * u.M_sun"
   ]
  },
  {
   "cell_type": "code",
   "execution_count": 377,
   "id": "a237edcd-de80-4101-882d-56e5f63eae6f",
   "metadata": {},
   "outputs": [
    {
     "data": {
      "text/latex": [
       "$1171.8354 \\; \\mathrm{M_{\\odot}}$"
      ],
      "text/plain": [
       "<Quantity 1171.83540096 solMass>"
      ]
     },
     "execution_count": 377,
     "metadata": {},
     "output_type": "execute_result"
    }
   ],
   "source": [
    "low_m = k.m_integrate(M_min, 8)[0]\n",
    "high_m = k.m_integrate(8, M_max)[0]\n",
    "ratio = high_m / low_m\n",
    "N = 1 * (1+ratio) / ratio / norm\n",
    "N*u.M_sun"
   ]
  },
  {
   "cell_type": "code",
   "execution_count": 378,
   "id": "b2d2cba1-2ff8-4a20-af19-7ceb529925e4",
   "metadata": {},
   "outputs": [
    {
     "data": {
      "text/plain": [
       "0.006992491671922958"
      ]
     },
     "execution_count": 378,
     "metadata": {},
     "output_type": "execute_result"
    }
   ],
   "source": [
    "norm = c.m_integrate(M_cl, M_max)[0]\n",
    "norm"
   ]
  },
  {
   "cell_type": "code",
   "execution_count": 379,
   "id": "92b988c5-c52c-4d88-b3b8-7ef7a7e1792a",
   "metadata": {},
   "outputs": [
    {
     "data": {
      "text/latex": [
       "$2353.9271 \\; \\mathrm{M_{\\odot}}$"
      ],
      "text/plain": [
       "<Quantity 2353.92712097 solMass>"
      ]
     },
     "execution_count": 379,
     "metadata": {},
     "output_type": "execute_result"
    }
   ],
   "source": [
    "# Chabrier\n",
    "low_m = integrate.quad(chabrier_num, M_min, 1)[0] + integrate.quad(chabrier_num, 1, 8)[0]\n",
    "high_m = integrate.quad(chabrier_num, 8, M_max)[0]\n",
    "ratio = high_m / low_m\n",
    "N = 1 * (1+ratio) / ratio / norm\n",
    "N * u.M_sun"
   ]
  },
  {
   "cell_type": "code",
   "execution_count": 380,
   "id": "38765878-90c3-4e25-bfb6-c5005e48d304",
   "metadata": {},
   "outputs": [
    {
     "data": {
      "text/latex": [
       "$575.14465 \\; \\mathrm{M_{\\odot}}$"
      ],
      "text/plain": [
       "<Quantity 575.1446479 solMass>"
      ]
     },
     "execution_count": 380,
     "metadata": {},
     "output_type": "execute_result"
    }
   ],
   "source": [
    "low_m = c.m_integrate(M_min, 8)[0]\n",
    "high_m = c.m_integrate(8, M_max)[0]\n",
    "ratio = high_m / low_m\n",
    "N = 1 * (1+ratio) / ratio / norm\n",
    "N*u.M_sun"
   ]
  },
  {
   "cell_type": "markdown",
   "id": "cee47a71-59b6-4741-be12-1948f73ab41c",
   "metadata": {},
   "source": [
    "#### J) In a probability distribution function, there is only a fixed likelihood of forming a star of a given mass. What is the minimum cluster mass required to have a > 95% (> 63.21%) probability of forming at least one $\\geq$ 100 M$_{\\odot}$ star? \n",
    "\n",
    "Recall that the likelihood of rolling at least one six after 100 rolls is equal to one minus the likelihood of rolling no sixes in 100 rolls. \n",
    "\n",
    "ie $P(\\geq 1$ roll of $6) = 1-(\\frac{5}{6})^{100}$"
   ]
  },
  {
   "cell_type": "code",
   "execution_count": 407,
   "id": "d3ab8728-3c72-4cda-8f36-0e9e5208ada1",
   "metadata": {},
   "outputs": [],
   "source": [
    "P = 0.95\n",
    "# P = 1 - (low_num / tot_num) ^ N\n",
    "# 1 - P = (low_num / tot_num) ^ N\n",
    "# np.log(1-P) = N * np.log(low_num / tot_num)\n",
    "# N = np.log(1-P) / np.log(low_num / tot_num)"
   ]
  },
  {
   "cell_type": "code",
   "execution_count": 410,
   "id": "4fba6721-18a8-43b9-bcf4-a51901ceb632",
   "metadata": {},
   "outputs": [
    {
     "data": {
      "text/plain": [
       "3448905"
      ]
     },
     "execution_count": 410,
     "metadata": {},
     "output_type": "execute_result"
    }
   ],
   "source": [
    "# Salpeter\n",
    "lower_num = integrate.quad(saltpeter_num, M_min, 100)[0]\n",
    "tot_num = integrate.quad(saltpeter_num, M_min, M_max)[0]\n",
    "prob = lower_num / tot_num\n",
    "N = np.log(1-P) / np.log(prob)\n",
    "round(N)"
   ]
  },
  {
   "cell_type": "code",
   "execution_count": 411,
   "id": "5001bd9e-1c6a-4b0d-ad77-3d0468ab07dc",
   "metadata": {},
   "outputs": [
    {
     "data": {
      "text/plain": [
       "36889.67517742958"
      ]
     },
     "execution_count": 411,
     "metadata": {},
     "output_type": "execute_result"
    }
   ],
   "source": [
    "# Kroupa\n",
    "lower_num = integrate.quad(kroupa_num, M_min, 0.08)[0] + integrate.quad(kroupa_num, 0.08, 0.5)[0] + integrate.quad(kroupa_num, 0.5, 100)[0]\n",
    "tot_num = integrate.quad(kroupa_num, M_min, 0.08)[0] + integrate.quad(kroupa_num, 0.08, 0.5)[0] + integrate.quad(kroupa_num, 0.5, M_max)[0]\n",
    "prob = lower_num / tot_num\n",
    "N = np.log(1-P) / np.log(prob)\n",
    "N"
   ]
  },
  {
   "cell_type": "code",
   "execution_count": 412,
   "id": "e1c35600-2c8f-4ae9-97d9-5808fcceae1e",
   "metadata": {},
   "outputs": [
    {
     "data": {
      "text/plain": [
       "80341"
      ]
     },
     "execution_count": 412,
     "metadata": {},
     "output_type": "execute_result"
    }
   ],
   "source": [
    "lower_num = k.integrate(M_min, 100)[0]\n",
    "tot_num = k.integrate(M_min, M_max)[0]\n",
    "prob = lower_num / tot_num\n",
    "N = np.log(1-P) / np.log(prob)\n",
    "round(N)"
   ]
  },
  {
   "cell_type": "code",
   "execution_count": 413,
   "id": "d2b7c79f-4f89-4cab-b29a-c7cc669ac06b",
   "metadata": {},
   "outputs": [
    {
     "data": {
      "text/plain": [
       "6045.4820363850295"
      ]
     },
     "execution_count": 413,
     "metadata": {},
     "output_type": "execute_result"
    }
   ],
   "source": [
    "# Chabrier\n",
    "lower_num = integrate.quad(chabrier_num, M_min, 1)[0] + integrate.quad(chabrier_num, 1, 100)[0]\n",
    "tot_num = integrate.quad(chabrier_num, M_min, 1)[0] + integrate.quad(chabrier_num, 1, M_max)[0]\n",
    "prob = lower_num / tot_num\n",
    "N = np.log(1-P) / np.log(prob)\n",
    "N"
   ]
  },
  {
   "cell_type": "code",
   "execution_count": 415,
   "id": "65abf1d7-6a1a-40f0-81e7-59ec4eb36d5f",
   "metadata": {},
   "outputs": [
    {
     "data": {
      "text/plain": [
       "46380"
      ]
     },
     "execution_count": 415,
     "metadata": {},
     "output_type": "execute_result"
    }
   ],
   "source": [
    "lower_num = c.integrate(M_min, 100)[0]\n",
    "tot_num = c.integrate(M_min, M_max)[0]\n",
    "prob = lower_num / tot_num\n",
    "N = np.log(1-P) / np.log(prob)\n",
    "round(N)"
   ]
  },
  {
   "cell_type": "code",
   "execution_count": 419,
   "id": "3695a872-569c-48be-8208-d0a38327a47f",
   "metadata": {},
   "outputs": [],
   "source": [
    "P = 0.6321"
   ]
  },
  {
   "cell_type": "code",
   "execution_count": 420,
   "id": "14db86cf-1004-4624-a001-d7d4e86c28d9",
   "metadata": {},
   "outputs": [
    {
     "data": {
      "text/plain": [
       "1151208.6022248128"
      ]
     },
     "execution_count": 420,
     "metadata": {},
     "output_type": "execute_result"
    }
   ],
   "source": [
    "# Salpeter\n",
    "lower_num = integrate.quad(saltpeter_num, M_min, 100)[0]\n",
    "tot_num = integrate.quad(saltpeter_num, M_min, M_max)[0]\n",
    "prob = lower_num / tot_num\n",
    "N = np.log(1-P) / np.log(prob)\n",
    "N"
   ]
  },
  {
   "cell_type": "code",
   "execution_count": 421,
   "id": "3b7235b6-5bec-4c2d-8459-87b4a92e6deb",
   "metadata": {},
   "outputs": [
    {
     "data": {
      "text/plain": [
       "12313.387946115185"
      ]
     },
     "execution_count": 421,
     "metadata": {},
     "output_type": "execute_result"
    }
   ],
   "source": [
    "# Kroupa\n",
    "lower_num = integrate.quad(kroupa_num, M_min, 0.08)[0] + integrate.quad(kroupa_num, 0.08, 0.5)[0] + integrate.quad(kroupa_num, 0.5, 100)[0]\n",
    "tot_num = integrate.quad(kroupa_num, M_min, 0.08)[0] + integrate.quad(kroupa_num, 0.08, 0.5)[0] + integrate.quad(kroupa_num, 0.5, M_max)[0]\n",
    "prob = lower_num / tot_num\n",
    "N = np.log(1-P) / np.log(prob)\n",
    "N"
   ]
  },
  {
   "cell_type": "code",
   "execution_count": 422,
   "id": "29f3c85b-97eb-4764-b105-594d758f7e9c",
   "metadata": {},
   "outputs": [
    {
     "data": {
      "text/plain": [
       "26816.97737113394"
      ]
     },
     "execution_count": 422,
     "metadata": {},
     "output_type": "execute_result"
    }
   ],
   "source": [
    "lower_num = k.integrate(M_min, 100)[0]\n",
    "tot_num = k.integrate(M_min, M_max)[0]\n",
    "prob = lower_num / tot_num\n",
    "N = np.log(1-P) / np.log(prob)\n",
    "N"
   ]
  },
  {
   "cell_type": "code",
   "execution_count": 404,
   "id": "074a6575-889e-4e4b-90d1-33a03e703874",
   "metadata": {},
   "outputs": [
    {
     "data": {
      "text/plain": [
       "2017.9187069889022"
      ]
     },
     "execution_count": 404,
     "metadata": {},
     "output_type": "execute_result"
    }
   ],
   "source": [
    "# Chabrier\n",
    "lower_num = integrate.quad(chabrier_num, M_min, 1)[0] + integrate.quad(chabrier_num, 1, 100)[0]\n",
    "tot_num = integrate.quad(chabrier_num, M_min, 1)[0] + integrate.quad(chabrier_num, 1, M_max)[0]\n",
    "prob = lower_num / tot_num\n",
    "N = np.log(1-P) / np.log(prob)\n",
    "N"
   ]
  },
  {
   "cell_type": "code",
   "execution_count": 405,
   "id": "503e1f84-2b44-4ba9-82b9-7c3e409f456f",
   "metadata": {},
   "outputs": [
    {
     "data": {
      "text/plain": [
       "15481.101440963126"
      ]
     },
     "execution_count": 405,
     "metadata": {},
     "output_type": "execute_result"
    }
   ],
   "source": [
    "lower_num = c.integrate(M_min, 100)[0]\n",
    "tot_num = c.integrate(M_min, M_max)[0]\n",
    "prob = lower_num / tot_num\n",
    "N = np.log(1-P) / np.log(prob)\n",
    "N"
   ]
  },
  {
   "cell_type": "markdown",
   "id": "69e59702-be16-4704-987e-54b62eee602a",
   "metadata": {},
   "source": [
    "#### K)  Compare the results from the ODF and the PDF for the presence of a M > 100 M$_{\\odot}$ star. "
   ]
  },
  {
   "cell_type": "markdown",
   "id": "a1ae91d3-4927-4e6a-8076-a6de89c052e0",
   "metadata": {},
   "source": [
    "What is the ODF and PDF?\n",
    "\n",
    "ODF = Optimal Distribution Function from part H\n",
    "\n",
    "PDF = Probability Distribution Function from part J"
   ]
  },
  {
   "cell_type": "markdown",
   "id": "67241f3d-4805-4960-85b3-9846b4e560b5",
   "metadata": {},
   "source": [
    "##### Salpeter\n",
    "\n",
    "ODF: 26427314 stars in a cluster needed to form one 100 M$_{\\odot}$ star. \n",
    "\n",
    "PDF: Cluster of 3448905 stars required."
   ]
  },
  {
   "cell_type": "markdown",
   "id": "790a8d58-a74f-4a38-ada5-afe5d2ff2f48",
   "metadata": {},
   "source": [
    "##### Kroupa\n",
    "\n",
    "ODF: 5865078 stars in a cluster needed to form one 100 M$_{\\odot}$ star. \n",
    "\n",
    "PDF: Cluster of 80341 stars required."
   ]
  },
  {
   "cell_type": "markdown",
   "id": "c5822587-a951-4277-bd5a-dd604c7eb1e9",
   "metadata": {},
   "source": [
    "##### Chabrier\n",
    "\n",
    "ODF: 1973430 stars in a cluster needed to form one 100 M$_{\\odot}$ star.\n",
    "\n",
    "PDF: Cluster mass of 46380 M$_{\\odot}$ required."
   ]
  },
  {
   "cell_type": "markdown",
   "id": "a7b662f7-5f52-4b61-95b7-519c10d12e81",
   "metadata": {},
   "source": [
    "#### How can you interpret the difference?\n",
    "\n",
    "The difference between the ODF and PDF is that the ODF requires the presence of a 100 M$_{\\odot}$ star using a normalization factor, and the PDF has a fixed likelihood for forming a star that has a mass greater than 100 M$_{\\odot}$. "
   ]
  },
  {
   "cell_type": "markdown",
   "id": "c2188832-ebd4-4cdc-95b8-2b3dbc72ac22",
   "metadata": {},
   "source": [
    "#### L)  What is the expected light-to-mass ratio of each distribution assuming $L = L_{\\odot} (\\frac{M}{M_{\\odot}})^3$"
   ]
  },
  {
   "cell_type": "code",
   "execution_count": 64,
   "id": "8ca4367b-2d02-407b-b9c6-cb966933d204",
   "metadata": {},
   "outputs": [],
   "source": [
    "def light_to_mass(M):\n",
    "    L = M**3\n",
    "    return (L*u.L_sun) / (M*u.M_sun)"
   ]
  },
  {
   "cell_type": "code",
   "execution_count": 65,
   "id": "1b45961e-42b4-4fe4-93d0-689e8575ed5e",
   "metadata": {},
   "outputs": [],
   "source": [
    "# Saltpeter\n"
   ]
  },
  {
   "cell_type": "code",
   "execution_count": 418,
   "id": "ef96faee-e547-461d-b604-7f704231d022",
   "metadata": {},
   "outputs": [
    {
     "data": {
      "text/plain": [
       "0.20938564866220746"
      ]
     },
     "execution_count": 418,
     "metadata": {},
     "output_type": "execute_result"
    }
   ],
   "source": [
    "# Kroupa\n"
   ]
  },
  {
   "cell_type": "code",
   "execution_count": 67,
   "id": "601b0e94-6b0c-4864-a2f8-2212ea9fb441",
   "metadata": {},
   "outputs": [],
   "source": [
    "# Chabrier\n"
   ]
  },
  {
   "cell_type": "markdown",
   "id": "747a234c-77dc-492f-8139-13a37eeb7b56",
   "metadata": {},
   "source": [
    "### M)  The IMF is the system IMF. If we are primarily interested in the luminosity of a system, splitting the mass between multiple stars can make a big difference. If we assume every star system consists of an equal-mass binary, what is the effect on the L/M ratio? Is this a reasonable approximation to the multiplicity fraction?"
   ]
  },
  {
   "cell_type": "code",
   "execution_count": 68,
   "id": "a9407431-fcab-4c93-bf56-c9c59da27198",
   "metadata": {},
   "outputs": [],
   "source": [
    "# Saltpeter"
   ]
  },
  {
   "cell_type": "code",
   "execution_count": 69,
   "id": "5ce94887-2060-41bf-81e3-2721f77af2b8",
   "metadata": {},
   "outputs": [],
   "source": [
    "# Kroupa"
   ]
  },
  {
   "cell_type": "code",
   "execution_count": 70,
   "id": "f90c20c6-2fa7-482f-be4c-1c7be9a652e2",
   "metadata": {},
   "outputs": [],
   "source": [
    "# Chabrier"
   ]
  },
  {
   "cell_type": "markdown",
   "id": "22d23f3b-991e-4c0d-af6d-102bd59b2c1c",
   "metadata": {},
   "source": [
    "####  N) For an ODF, the effective maximum stellar mass can be smaller. If all star-forming events in a galaxy occur in Taurus-like starforming regions, with M$_∗$ = 100M$_{\\odot}$, what is the maximum mass? What is the resulting L/M ratio? Recall that this is the maximum the L/M will be in such a galaxy."
   ]
  },
  {
   "cell_type": "code",
   "execution_count": null,
   "id": "3ea36e67-0577-4e16-a29f-67f023c20249",
   "metadata": {},
   "outputs": [],
   "source": []
  },
  {
   "cell_type": "code",
   "execution_count": null,
   "id": "0fc1ed1d-dfe0-4f48-8645-2dd7f68df17d",
   "metadata": {},
   "outputs": [],
   "source": []
  },
  {
   "cell_type": "code",
   "execution_count": null,
   "id": "cfb788b9-0f1c-4beb-8b15-4d32c23b4827",
   "metadata": {},
   "outputs": [],
   "source": []
  },
  {
   "cell_type": "code",
   "execution_count": null,
   "id": "3bfa1d3a-6049-4a90-baef-325319a07619",
   "metadata": {},
   "outputs": [],
   "source": []
  },
  {
   "cell_type": "code",
   "execution_count": null,
   "id": "3916f6e0-52b8-459f-b275-94105b09d709",
   "metadata": {},
   "outputs": [],
   "source": []
  },
  {
   "cell_type": "code",
   "execution_count": null,
   "id": "9cbd2de0-6262-42bd-8cc4-c43de710a217",
   "metadata": {},
   "outputs": [],
   "source": []
  },
  {
   "cell_type": "code",
   "execution_count": null,
   "id": "0e2d149d-f133-46ab-8180-ae71158d3dba",
   "metadata": {},
   "outputs": [],
   "source": []
  },
  {
   "cell_type": "code",
   "execution_count": null,
   "id": "7043ca80-3e14-4500-a881-a3244ccf46d9",
   "metadata": {},
   "outputs": [],
   "source": []
  }
 ],
 "metadata": {
  "kernelspec": {
   "display_name": "Python 3",
   "language": "python",
   "name": "python3"
  },
  "language_info": {
   "codemirror_mode": {
    "name": "ipython",
    "version": 3
   },
   "file_extension": ".py",
   "mimetype": "text/x-python",
   "name": "python",
   "nbconvert_exporter": "python",
   "pygments_lexer": "ipython3",
   "version": "3.8.8"
  }
 },
 "nbformat": 4,
 "nbformat_minor": 5
}
