{
 "cells": [
  {
   "cell_type": "code",
   "execution_count": 119,
   "id": "17c23180-342e-4dd8-bfc7-13ca6df8c82c",
   "metadata": {},
   "outputs": [],
   "source": [
    "import numpy as np\n",
    "import astropy.units as u\n",
    "from astropy import constants as const\n",
    "import scipy.integrate as integrate"
   ]
  },
  {
   "cell_type": "markdown",
   "id": "f1b285fe-977e-434c-b32a-0e7b760c0d43",
   "metadata": {},
   "source": [
    "# Homework Three\n",
    "\n",
    "$\\xi = \\frac{dN}{dM}$\n",
    "\n",
    "$M_{max} = 120 M_{\\odot}$"
   ]
  },
  {
   "cell_type": "code",
   "execution_count": 321,
   "id": "2782e466-790b-49e8-ba97-a866cf9f380a",
   "metadata": {},
   "outputs": [],
   "source": [
    "M_max = 120 #* u.M_sun\n",
    "M_min = 0.01"
   ]
  },
  {
   "cell_type": "markdown",
   "id": "a6c0b0d0-6174-4e46-a49c-d69448f5cbc3",
   "metadata": {},
   "source": [
    "### Salterpeter:\n",
    "\n",
    "$\\xi = M^{-2.35}, M_{min} = 0.01$"
   ]
  },
  {
   "cell_type": "code",
   "execution_count": 322,
   "id": "0f66c0c3-27b6-40f9-812d-0ef8b398505b",
   "metadata": {},
   "outputs": [],
   "source": [
    "def saltpeter_num(M): # dN/dM\n",
    "    return M**(-2.35)\n",
    "\n",
    "def saltpeter_mass(M): # dN/dM * M\n",
    "    return M**(-1.35)"
   ]
  },
  {
   "cell_type": "markdown",
   "id": "e47657b4-508b-488f-b2f2-2c2c32c515cf",
   "metadata": {},
   "source": [
    "### Kroupa\n",
    "\n",
    "$\\xi = M^{\\alpha}\n",
    "\\begin{cases}\n",
    "\\alpha = 0.3, & 0.01 < M/M_{\\odot} < 0.08\\\\\n",
    "\\alpha = 1.3, & 0.08 < M/M_{\\odot} < 0.5\\\\\n",
    "\\alpha = 2.3, & 0.5 < M/M_{\\odot} < 120 \n",
    "\\end{cases}\n",
    "$\n"
   ]
  },
  {
   "cell_type": "code",
   "execution_count": 323,
   "id": "7cc3eb6f-753d-4f11-85a9-3f995c2a77f7",
   "metadata": {},
   "outputs": [],
   "source": [
    "def kroupa_num(M): # dN/dM\n",
    "    if 0.01 < M and M < 0.08:\n",
    "        return M**(-0.3)\n",
    "    elif 0.08 < M and M < 0.5:\n",
    "        return M**(-1.3)\n",
    "    elif 0.5 < M:\n",
    "        return M**(-2.3)\n",
    "    else: \n",
    "        return False\n",
    "    \n",
    "def kroupa_mass(M): # dN/dM * M\n",
    "    if 0.01 < M and M < 0.08:\n",
    "        return M**(-0.3+1)\n",
    "    elif 0.08 < M and M < 0.5:\n",
    "        return M**(-1.3+1)\n",
    "    elif 0.5 < M:\n",
    "        return M**(-2.3+1)\n",
    "    else: \n",
    "        return False"
   ]
  },
  {
   "cell_type": "markdown",
   "id": "12e0d356-8a66-4160-a688-290832bfc131",
   "metadata": {},
   "source": [
    "### Chabrier\n",
    "\n",
    "$M \\leq 1 M_{\\odot}$:\n",
    "\n",
    "$\\xi(log M) = \\frac{dN}{d log M} = A exp[(log M - log M_{c})^2 / 2 \\sigma^2]$\n",
    "\n",
    "A = 0.086, M$_c$ = 0.22, $\\sigma$ = 0.57\n",
    "\n",
    "$M > 1 M_{\\odot}$:\n",
    "\n",
    "$\\xi(log M) = A M^{-\\Gamma}$\n",
    "\n",
    "$\\Gamma$ = 1.3, $A$ = 4.43"
   ]
  },
  {
   "cell_type": "code",
   "execution_count": 391,
   "id": "b4ea6faf-5246-4e72-bfb2-a147bd9ffe3a",
   "metadata": {},
   "outputs": [],
   "source": [
    "#xi = 0.086 exp (-(log m - log 0.22)^2 / (2 * 0.57**2))\n",
    "\n",
    "def chabrier_num(M):\n",
    "    if M <= 1:\n",
    "        #M = np.log(M)\n",
    "        A = 0.086\n",
    "        mc = 0.22\n",
    "        sig = 0.57\n",
    "        return A * np.exp(-(np.log10(M) - np.log10(mc))**2 / (2*sig**2))\n",
    "    elif M > 1:\n",
    "        #M = np.log(M)\n",
    "        gamma = 1.3\n",
    "        A = 4.43\n",
    "        return A * M**(-gamma)\n",
    "    \n",
    "def chabrier_mass(M):\n",
    "    if M <= 1:\n",
    "        #M = np.log(M)\n",
    "        A = 0.086\n",
    "        mc = 0.22\n",
    "        sig = 0.57\n",
    "        return A * np.exp(-(np.log10(M) - np.log10(mc))**2 / (2*sig**2)) * M\n",
    "    elif M > 1:\n",
    "        #M = np.log(M)\n",
    "        gamma = 1.3\n",
    "        A = 4.43\n",
    "        return A * M**(-gamma)*M"
   ]
  },
  {
   "cell_type": "markdown",
   "id": "a75c50a8-b33a-4bbc-8613-75c2396ed756",
   "metadata": {},
   "source": [
    "#### A) What is the average mass?"
   ]
  },
  {
   "cell_type": "code",
   "execution_count": 392,
   "id": "4d770861-286d-4253-8762-1ae63bcffef5",
   "metadata": {},
   "outputs": [
    {
     "data": {
      "text/latex": [
       "$0.037130915 \\; \\mathrm{M_{\\odot}}$"
      ],
      "text/plain": [
       "<Quantity 0.03713091 solMass>"
      ]
     },
     "execution_count": 392,
     "metadata": {},
     "output_type": "execute_result"
    }
   ],
   "source": [
    "# take the total mass and divide by total number of stars \n",
    "# do the integral of the imf to find the number of stars\n",
    "# to find the mass \n",
    "# intregral of dN/dM * M = mass\n",
    "# integral of dN/dM = number\n",
    "#integrate.quad(func, limit_low, limit_max)\n",
    "\n",
    "# Saltpeter\n",
    "tot_num = integrate.quad(saltpeter_num, 0.01, M_max)\n",
    "tot_mass = integrate.quad(saltpeter_mass, 0.01, M_max)\n",
    "avg_mass = tot_mass[0] / tot_num[0]\n",
    "avg_mass*u.M_sun"
   ]
  },
  {
   "cell_type": "code",
   "execution_count": 393,
   "id": "afe93389-24af-4617-a2a6-fc4d81bde0a2",
   "metadata": {},
   "outputs": [
    {
     "data": {
      "text/latex": [
       "$0.77736195 \\; \\mathrm{M_{\\odot}}$"
      ],
      "text/plain": [
       "<Quantity 0.77736195 solMass>"
      ]
     },
     "execution_count": 393,
     "metadata": {},
     "output_type": "execute_result"
    }
   ],
   "source": [
    "# Kroupa\n",
    "tot_num = integrate.quad(kroupa_num, 0.01, 0.08)[0] + integrate.quad(kroupa_num, 0.08, 0.5)[0] + integrate.quad(kroupa_num, 0.5, M_max)[0]\n",
    "tot_mass = integrate.quad(kroupa_mass, 0.01, 0.08)[0] + integrate.quad(kroupa_mass, 0.08, 0.5)[0] + integrate.quad(kroupa_mass, 0.5, M_max)[0]\n",
    "avg_mass = tot_mass / tot_num\n",
    "avg_mass*u.M_sun"
   ]
  },
  {
   "cell_type": "code",
   "execution_count": 394,
   "id": "c73794b9-e822-406b-954f-de1c07828f65",
   "metadata": {},
   "outputs": [
    {
     "data": {
      "text/latex": [
       "$15.399298 \\; \\mathrm{M_{\\odot}}$"
      ],
      "text/plain": [
       "<Quantity 15.39929753 solMass>"
      ]
     },
     "execution_count": 394,
     "metadata": {},
     "output_type": "execute_result"
    }
   ],
   "source": [
    "# Chabrier\n",
    "tot_num = integrate.quad(chabrier_num, 0.01, 1.0)[0] + integrate.quad(chabrier_num, 1.0, M_max)[0]\n",
    "tot_mass = integrate.quad(chabrier_mass, 0.01, 1.0)[0] + integrate.quad(chabrier_mass, 1.0, M_max)[0]\n",
    "avg_mass = tot_mass / tot_num\n",
    "avg_mass*u.M_sun"
   ]
  },
  {
   "cell_type": "markdown",
   "id": "5884632b-1377-41dc-9435-affd7cd677fb",
   "metadata": {},
   "source": [
    "#### B) Average mass of stars with $M > 8 M_{\\odot}$"
   ]
  },
  {
   "cell_type": "code",
   "execution_count": 395,
   "id": "4da6c884-ef3f-4922-bb81-8d9b53c2b797",
   "metadata": {},
   "outputs": [
    {
     "data": {
      "text/latex": [
       "$19.398588 \\; \\mathrm{M_{\\odot}}$"
      ],
      "text/plain": [
       "<Quantity 19.39858829 solMass>"
      ]
     },
     "execution_count": 395,
     "metadata": {},
     "output_type": "execute_result"
    }
   ],
   "source": [
    "# Saltpeter\n",
    "tot_num = integrate.quad(saltpeter_num, 8, M_max)\n",
    "tot_mass = integrate.quad(saltpeter_mass, 8, M_max)\n",
    "avg_mass = tot_mass[0] / tot_num[0]\n",
    "avg_mass*u.M_sun"
   ]
  },
  {
   "cell_type": "code",
   "execution_count": 396,
   "id": "56348d9c-1b3f-41e4-a373-b37ad1113c03",
   "metadata": {},
   "outputs": [
    {
     "data": {
      "text/latex": [
       "$19.869987 \\; \\mathrm{M_{\\odot}}$"
      ],
      "text/plain": [
       "<Quantity 19.86998669 solMass>"
      ]
     },
     "execution_count": 396,
     "metadata": {},
     "output_type": "execute_result"
    }
   ],
   "source": [
    "# Kroupa\n",
    "tot_num = integrate.quad(kroupa_num, 8, M_max)[0]\n",
    "tot_mass = integrate.quad(kroupa_mass, 8, M_max)[0]\n",
    "avg_mass = tot_mass / tot_num\n",
    "avg_mass*u.M_sun"
   ]
  },
  {
   "cell_type": "code",
   "execution_count": 397,
   "id": "01d7045c-89ab-47a7-9897-ace5be4e1cff",
   "metadata": {},
   "outputs": [
    {
     "data": {
      "text/latex": [
       "$34.868994 \\; \\mathrm{M_{\\odot}}$"
      ],
      "text/plain": [
       "<Quantity 34.86899389 solMass>"
      ]
     },
     "execution_count": 397,
     "metadata": {},
     "output_type": "execute_result"
    }
   ],
   "source": [
    "# Chabrier\n",
    "tot_num = integrate.quad(chabrier_num, 8.0, M_max)[0]\n",
    "tot_mass = integrate.quad(chabrier_mass, 8.0, M_max)[0]\n",
    "avg_mass = tot_mass / tot_num\n",
    "avg_mass*u.M_sun"
   ]
  },
  {
   "cell_type": "markdown",
   "id": "8a024add-ede1-4c5f-bd4b-fe22828ca2d5",
   "metadata": {},
   "source": [
    "#### C) What is the ratio of the number of high mass (> 8 $M_{\\odot}$) to low mass (< 8 $M_{\\odot}$) stars?"
   ]
  },
  {
   "cell_type": "code",
   "execution_count": 398,
   "id": "4e72d450-7cc0-400b-8c3f-5775fa515e83",
   "metadata": {},
   "outputs": [
    {
     "data": {
      "text/plain": [
       "0.00011735768764540495"
      ]
     },
     "execution_count": 398,
     "metadata": {},
     "output_type": "execute_result"
    }
   ],
   "source": [
    "# Saltpeter\n",
    "low_m = integrate.quad(saltpeter_num, 0.01, 8)[0]\n",
    "high_m = integrate.quad(saltpeter_num, 8, M_max)[0]\n",
    "ratio = high_m / low_m\n",
    "ratio"
   ]
  },
  {
   "cell_type": "code",
   "execution_count": 399,
   "id": "9b43cbcc-cca5-406d-bc7e-a07ffb148e43",
   "metadata": {},
   "outputs": [
    {
     "data": {
      "text/plain": [
       "0.009927125765699834"
      ]
     },
     "execution_count": 399,
     "metadata": {},
     "output_type": "execute_result"
    }
   ],
   "source": [
    "# Kroupa\n",
    "low_m = integrate.quad(kroupa_num, 0.01, 0.08)[0] + integrate.quad(kroupa_num, 0.08, 0.5)[0] + integrate.quad(kroupa_num, 0.5, 8)[0]\n",
    "high_m = integrate.quad(kroupa_num, 8, M_max)[0]\n",
    "ratio = high_m / low_m\n",
    "ratio"
   ]
  },
  {
   "cell_type": "code",
   "execution_count": 400,
   "id": "ca55bb99-f0cb-4c31-b1c0-0be6bc29eb00",
   "metadata": {},
   "outputs": [
    {
     "data": {
      "text/plain": [
       "0.6362592979983759"
      ]
     },
     "execution_count": 400,
     "metadata": {},
     "output_type": "execute_result"
    }
   ],
   "source": [
    "# Chabrier\n",
    "low_m = integrate.quad(chabrier_num, 0.01, 1)[0] + integrate.quad(chabrier_num, 1, 8)[0]\n",
    "high_m = integrate.quad(chabrier_num, 8, M_max)[0]\n",
    "ratio = high_m / low_m\n",
    "ratio"
   ]
  },
  {
   "cell_type": "markdown",
   "id": "fd2bc039-801b-4723-8dde-67c9038568a4",
   "metadata": {},
   "source": [
    "#### D) What is the ratio of the MASS of high mass to low mass stars?"
   ]
  },
  {
   "cell_type": "code",
   "execution_count": 401,
   "id": "71931c02-55c8-42ef-9d6a-8212a94965aa",
   "metadata": {},
   "outputs": [
    {
     "data": {
      "text/plain": [
       "0.0653086185549129"
      ]
     },
     "execution_count": 401,
     "metadata": {},
     "output_type": "execute_result"
    }
   ],
   "source": [
    "# Saltpeter\n",
    "low_m = integrate.quad(saltpeter_mass, 0.01, 8)[0]\n",
    "high_m = integrate.quad(saltpeter_mass, 8, M_max)[0]\n",
    "ratio = high_m / low_m\n",
    "ratio"
   ]
  },
  {
   "cell_type": "code",
   "execution_count": 402,
   "id": "2f7aa759-fae5-4d0a-8a42-f80c0add7f82",
   "metadata": {},
   "outputs": [
    {
     "data": {
      "text/plain": [
       "0.33556103606426746"
      ]
     },
     "execution_count": 402,
     "metadata": {},
     "output_type": "execute_result"
    }
   ],
   "source": [
    "# Kroupa\n",
    "low_m = integrate.quad(kroupa_mass, 0.01, 0.08)[0] + integrate.quad(kroupa_mass, 0.08, 0.5)[0] + integrate.quad(kroupa_mass, 0.5, 8)[0]\n",
    "high_m = integrate.quad(kroupa_mass, 8, M_max)[0]\n",
    "ratio = high_m / low_m\n",
    "ratio"
   ]
  },
  {
   "cell_type": "code",
   "execution_count": 403,
   "id": "f9f4290a-4a86-4720-9046-d71450bec09a",
   "metadata": {},
   "outputs": [
    {
     "data": {
      "text/plain": [
       "7.366946095597443"
      ]
     },
     "execution_count": 403,
     "metadata": {},
     "output_type": "execute_result"
    }
   ],
   "source": [
    "# Chabrier\n",
    "low_m = integrate.quad(chabrier_mass, 0.01, 1)[0] + integrate.quad(chabrier_mass, 1, 8)[0]\n",
    "high_m = integrate.quad(chabrier_mass, 8, M_max)[0]\n",
    "ratio = high_m / low_m\n",
    "ratio"
   ]
  },
  {
   "cell_type": "markdown",
   "id": "add6075c-eae5-454c-904a-cc5acce409b6",
   "metadata": {},
   "source": [
    "#### E) Do these numbers change if you change $M_{max} = 100 M_{\\odot}$? To $M_{max} = 1000 M_{\\odot}$?"
   ]
  },
  {
   "cell_type": "code",
   "execution_count": 404,
   "id": "7f50fc8c-a747-4faa-ab62-52642fe3ba7c",
   "metadata": {},
   "outputs": [],
   "source": [
    "M_max = 100"
   ]
  },
  {
   "cell_type": "code",
   "execution_count": 405,
   "id": "f989988f-dc2d-44fa-b6c7-1a44a877cdbd",
   "metadata": {},
   "outputs": [
    {
     "name": "stdout",
     "output_type": "stream",
     "text": [
      "Saltpeter\n",
      "Avg Mass: 0.03703601978520125 solMass\n",
      "Avg > 8 M_sun: 18.728253988666328 solMass\n",
      "Ratio of number of high to low: 0.000116488982329106\n",
      "Ratio of mass of high to low: 0.06258510275615674\n"
     ]
    }
   ],
   "source": [
    "# Saltpeter\n",
    "print('Saltpeter')\n",
    "tot_num = integrate.quad(saltpeter_num, 0.01, M_max)\n",
    "tot_mass = integrate.quad(saltpeter_mass, 0.01, M_max)\n",
    "avg_mass = tot_mass[0] / tot_num[0]\n",
    "print('Avg Mass:', avg_mass*u.M_sun)\n",
    "\n",
    "tot_num = integrate.quad(saltpeter_num, 8, M_max)\n",
    "tot_mass = integrate.quad(saltpeter_mass, 8, M_max)\n",
    "avg_mass = tot_mass[0] / tot_num[0]\n",
    "print('Avg > 8 M_sun:', avg_mass*u.M_sun)\n",
    "\n",
    "low_m = integrate.quad(saltpeter_num, 0.01, 8)[0]\n",
    "high_m = integrate.quad(saltpeter_num, 8, M_max)[0]\n",
    "ratio = high_m / low_m\n",
    "print('Ratio of number of high to low:', ratio)\n",
    "\n",
    "low_m = integrate.quad(saltpeter_mass, 0.01, 8)[0]\n",
    "high_m = integrate.quad(saltpeter_mass, 8, M_max)[0]\n",
    "ratio = high_m / low_m\n",
    "print('Ratio of mass of high to low:', ratio)"
   ]
  },
  {
   "cell_type": "code",
   "execution_count": 406,
   "id": "0268cc70-5d33-4aa2-8fdf-434551add48b",
   "metadata": {},
   "outputs": [
    {
     "name": "stdout",
     "output_type": "stream",
     "text": [
      "Kroupa\n",
      "Avg Mass: 0.7686625988969704 solMass\n",
      "Avg > 8 M_sun: 19.13472991713344 solMass\n",
      "Ratio of number of high to low: 0.00984617649162205\n",
      "Ratio of mass of high to low: 0.3205091108334545\n"
     ]
    }
   ],
   "source": [
    "# Kroupa\n",
    "print('Kroupa')\n",
    "tot_num = integrate.quad(kroupa_num, 0.01, 0.08)[0] + integrate.quad(kroupa_num, 0.08, 0.5)[0] + integrate.quad(kroupa_num, 0.5, M_max)[0]\n",
    "tot_mass = integrate.quad(kroupa_mass, 0.01, 0.08)[0] + integrate.quad(kroupa_mass, 0.08, 0.5)[0] + integrate.quad(kroupa_mass, 0.5, M_max)[0]\n",
    "avg_mass = tot_mass / tot_num\n",
    "print('Avg Mass:', avg_mass*u.M_sun)\n",
    "\n",
    "tot_num = integrate.quad(kroupa_num, 8, M_max)[0]\n",
    "tot_mass = integrate.quad(kroupa_mass, 8, M_max)[0]\n",
    "avg_mass = tot_mass / tot_num\n",
    "print('Avg > 8 M_sun:', avg_mass*u.M_sun)\n",
    "\n",
    "low_m = integrate.quad(kroupa_num, 0.01, 0.08)[0] + integrate.quad(kroupa_num, 0.08, 0.5)[0] + integrate.quad(kroupa_num, 0.5, 8)[0]\n",
    "high_m = integrate.quad(kroupa_num, 8, M_max)[0]\n",
    "ratio = high_m / low_m\n",
    "print('Ratio of number of high to low:', ratio)\n",
    "\n",
    "low_m = integrate.quad(kroupa_mass, 0.01, 0.08)[0] + integrate.quad(kroupa_mass, 0.08, 0.5)[0] + integrate.quad(kroupa_mass, 0.5, 8)[0]\n",
    "high_m = integrate.quad(kroupa_mass, 8, M_max)[0]\n",
    "ratio = high_m / low_m\n",
    "print('Ratio of mass of high to low:', ratio)"
   ]
  },
  {
   "cell_type": "code",
   "execution_count": 407,
   "id": "ea521476-e67d-47e1-b1bb-5f7028570eba",
   "metadata": {},
   "outputs": [
    {
     "name": "stdout",
     "output_type": "stream",
     "text": [
      "Chabrier:\n",
      "Avg Mass: 13.726965109672534 solMass\n",
      "Avg > 8 M_sun: 31.359190667135987 solMass\n",
      "Ratio of number of high to low: 0.6077192520704963\n",
      "Ratio of mass of high to low: 6.328222987865547\n"
     ]
    }
   ],
   "source": [
    "# Chabrier\n",
    "print('Chabrier:')\n",
    "tot_num = integrate.quad(chabrier_num, 0.01, 1.0)[0] + integrate.quad(chabrier_num, 1.0, M_max)[0]\n",
    "tot_mass = integrate.quad(chabrier_mass, 0.01, 1.0)[0] + integrate.quad(chabrier_mass, 1.0, M_max)[0]\n",
    "avg_mass = tot_mass / tot_num\n",
    "print('Avg Mass:', avg_mass*u.M_sun)\n",
    "\n",
    "tot_num = integrate.quad(chabrier_num, 8.0, M_max)[0]\n",
    "tot_mass = integrate.quad(chabrier_mass, 8.0, M_max)[0]\n",
    "avg_mass = tot_mass / tot_num\n",
    "print('Avg > 8 M_sun:', avg_mass*u.M_sun)\n",
    "\n",
    "low_m = integrate.quad(chabrier_num, 0.01, 1)[0] + integrate.quad(chabrier_num, 1, 8)[0]\n",
    "high_m = integrate.quad(chabrier_num, 8, M_max)[0]\n",
    "ratio = high_m / low_m\n",
    "print('Ratio of number of high to low:', ratio)\n",
    "\n",
    "low_m = integrate.quad(chabrier_mass, 0.01, 1)[0] + integrate.quad(chabrier_mass, 1, 8)[0]\n",
    "high_m = integrate.quad(chabrier_mass, 8, M_max)[0]\n",
    "ratio = high_m / low_m\n",
    "print('Ratio of mass of high to low:', ratio)"
   ]
  },
  {
   "cell_type": "code",
   "execution_count": 408,
   "id": "7786d525-2914-484b-8fe0-21ff3a024630",
   "metadata": {},
   "outputs": [],
   "source": [
    "M_max = 1000"
   ]
  },
  {
   "cell_type": "code",
   "execution_count": 409,
   "id": "4116cc60-1b01-4a19-8394-5e845e41982f",
   "metadata": {},
   "outputs": [
    {
     "name": "stdout",
     "output_type": "stream",
     "text": [
      "Saltpeter\n",
      "Avg Mass: 0.037885527536090306 solMass\n",
      "Avg > 8 M_sun: 25.20008661135427 solMass\n",
      "Ratio of number of high to low: 0.0001202926842724467\n",
      "Ratio of mass of high to low: 0.0869621117400726\n"
     ]
    }
   ],
   "source": [
    "# Saltpeter\n",
    "print('Saltpeter')\n",
    "tot_num = integrate.quad(saltpeter_num, 0.01, M_max)\n",
    "tot_mass = integrate.quad(saltpeter_mass, 0.01, M_max)\n",
    "avg_mass = tot_mass[0] / tot_num[0]\n",
    "print('Avg Mass:', avg_mass*u.M_sun)\n",
    "\n",
    "tot_num = integrate.quad(saltpeter_num, 8, M_max)\n",
    "tot_mass = integrate.quad(saltpeter_mass, 8, M_max)\n",
    "avg_mass = tot_mass[0] / tot_num[0]\n",
    "print('Avg > 8 M_sun:', avg_mass*u.M_sun)\n",
    "\n",
    "low_m = integrate.quad(saltpeter_num, 0.01, 8)[0]\n",
    "high_m = integrate.quad(saltpeter_num, 8, M_max)[0]\n",
    "ratio = high_m / low_m\n",
    "print('Ratio of number of high to low:', ratio)\n",
    "\n",
    "low_m = integrate.quad(saltpeter_mass, 0.01, 8)[0]\n",
    "high_m = integrate.quad(saltpeter_mass, 8, M_max)[0]\n",
    "ratio = high_m / low_m\n",
    "print('Ratio of mass of high to low:', ratio)"
   ]
  },
  {
   "cell_type": "code",
   "execution_count": 410,
   "id": "671c4e28-3c74-4625-b242-dcac47e5586f",
   "metadata": {},
   "outputs": [
    {
     "name": "stdout",
     "output_type": "stream",
     "text": [
      "Kroupa\n",
      "Avg Mass: 0.8504641574761742 solMass\n",
      "Avg > 8 M_sun: 26.572582248149743 solMass\n",
      "Ratio of number of high to low: 0.010210554897763228\n",
      "Ratio of mass of high to low: 0.4615657034483878\n"
     ]
    }
   ],
   "source": [
    "# Kroupa\n",
    "print('Kroupa')\n",
    "tot_num = integrate.quad(kroupa_num, 0.01, 0.08)[0] + integrate.quad(kroupa_num, 0.08, 0.5)[0] + integrate.quad(kroupa_num, 0.5, M_max)[0]\n",
    "tot_mass = integrate.quad(kroupa_mass, 0.01, 0.08)[0] + integrate.quad(kroupa_mass, 0.08, 0.5)[0] + integrate.quad(kroupa_mass, 0.5, M_max)[0]\n",
    "avg_mass = tot_mass / tot_num\n",
    "print('Avg Mass:', avg_mass*u.M_sun)\n",
    "\n",
    "tot_num = integrate.quad(kroupa_num, 8, M_max)[0]\n",
    "tot_mass = integrate.quad(kroupa_mass, 8, M_max)[0]\n",
    "avg_mass = tot_mass / tot_num\n",
    "print('Avg > 8 M_sun:', avg_mass*u.M_sun)\n",
    "\n",
    "low_m = integrate.quad(kroupa_num, 0.01, 0.08)[0] + integrate.quad(kroupa_num, 0.08, 0.5)[0] + integrate.quad(kroupa_num, 0.5, 8)[0]\n",
    "high_m = integrate.quad(kroupa_num, 8, M_max)[0]\n",
    "ratio = high_m / low_m\n",
    "print('Ratio of number of high to low:', ratio)\n",
    "\n",
    "low_m = integrate.quad(kroupa_mass, 0.01, 0.08)[0] + integrate.quad(kroupa_mass, 0.08, 0.5)[0] + integrate.quad(kroupa_mass, 0.5, 8)[0]\n",
    "high_m = integrate.quad(kroupa_mass, 8, M_max)[0]\n",
    "ratio = high_m / low_m\n",
    "print('Ratio of mass of high to low:', ratio)"
   ]
  },
  {
   "cell_type": "code",
   "execution_count": 411,
   "id": "bbe6ab10-2d2e-4b37-bfe4-b4d501bca48c",
   "metadata": {},
   "outputs": [
    {
     "name": "stdout",
     "output_type": "stream",
     "text": [
      "Chabrier:\n",
      "Avg Mass: 60.93298164139131 solMass\n",
      "Avg > 8 M_sun: 127.11550930196172 solMass\n",
      "Ratio of number of high to low: 0.8751775054120178\n",
      "Ratio of mass of high to low: 36.94099781550191\n"
     ]
    }
   ],
   "source": [
    "# Chabrier\n",
    "print('Chabrier:')\n",
    "tot_num = integrate.quad(chabrier_num, 0.01, 1.0)[0] + integrate.quad(chabrier_num, 1.0, M_max)[0]\n",
    "tot_mass = integrate.quad(chabrier_mass, 0.01, 1.0)[0] + integrate.quad(chabrier_mass, 1.0, M_max)[0]\n",
    "avg_mass = tot_mass / tot_num\n",
    "print('Avg Mass:', avg_mass*u.M_sun)\n",
    "\n",
    "tot_num = integrate.quad(chabrier_num, 8.0, M_max)[0]\n",
    "tot_mass = integrate.quad(chabrier_mass, 8.0, M_max)[0]\n",
    "avg_mass = tot_mass / tot_num\n",
    "print('Avg > 8 M_sun:', avg_mass*u.M_sun)\n",
    "\n",
    "low_m = integrate.quad(chabrier_num, 0.01, 1)[0] + integrate.quad(chabrier_num, 1, 8)[0]\n",
    "high_m = integrate.quad(chabrier_num, 8, M_max)[0]\n",
    "ratio = high_m / low_m\n",
    "print('Ratio of number of high to low:', ratio)\n",
    "\n",
    "low_m = integrate.quad(chabrier_mass, 0.01, 1)[0] + integrate.quad(chabrier_mass, 1, 8)[0]\n",
    "high_m = integrate.quad(chabrier_mass, 8, M_max)[0]\n",
    "ratio = high_m / low_m\n",
    "print('Ratio of mass of high to low:', ratio)"
   ]
  },
  {
   "cell_type": "markdown",
   "id": "78ac73d2-956f-4ad3-ad1c-664a9590075e",
   "metadata": {},
   "source": [
    "#### F) Do these numbers change if you change $M_{min} = 0.03 M_{\\odot}$? To $M_{min} = 0.3 M_{\\odot}$"
   ]
  },
  {
   "cell_type": "code",
   "execution_count": 412,
   "id": "6cfe563a-25c9-413b-9c47-3e69581a6d27",
   "metadata": {},
   "outputs": [],
   "source": [
    "M_max = 120\n",
    "M_min = 0.03"
   ]
  },
  {
   "cell_type": "code",
   "execution_count": 413,
   "id": "9ef06080-8e27-481f-9a7e-140713ead0ce",
   "metadata": {},
   "outputs": [
    {
     "name": "stdout",
     "output_type": "stream",
     "text": [
      "Saltpeter\n",
      "Avg Mass: 0.10936736093326274 solMass\n",
      "Avg > 8 M_sun: 19.398588286732235 solMass\n",
      "Ratio of number of high to low: 0.0005173727037115695\n",
      "Ratio of mass of high to low: 0.1009813655962592\n"
     ]
    }
   ],
   "source": [
    "# Saltpeter\n",
    "print('Saltpeter')\n",
    "tot_num = integrate.quad(saltpeter_num, 0.03, M_max)\n",
    "tot_mass = integrate.quad(saltpeter_mass, 0.03, M_max)\n",
    "avg_mass = tot_mass[0] / tot_num[0]\n",
    "print('Avg Mass:', avg_mass*u.M_sun)\n",
    "\n",
    "tot_num = integrate.quad(saltpeter_num, 8, M_max)\n",
    "tot_mass = integrate.quad(saltpeter_mass, 8, M_max)\n",
    "avg_mass = tot_mass[0] / tot_num[0]\n",
    "print('Avg > 8 M_sun:', avg_mass*u.M_sun)\n",
    "\n",
    "low_m = integrate.quad(saltpeter_num, 0.03, 8)[0]\n",
    "high_m = integrate.quad(saltpeter_num, 8, M_max)[0]\n",
    "ratio = high_m / low_m\n",
    "print('Ratio of number of high to low:', ratio)\n",
    "\n",
    "low_m = integrate.quad(saltpeter_mass, 0.03, 8)[0]\n",
    "high_m = integrate.quad(saltpeter_mass, 8, M_max)[0]\n",
    "ratio = high_m / low_m\n",
    "print('Ratio of mass of high to low:', ratio)"
   ]
  },
  {
   "cell_type": "code",
   "execution_count": 414,
   "id": "4612936e-96f7-4234-bb0b-2b018cf27aa6",
   "metadata": {},
   "outputs": [
    {
     "name": "stdout",
     "output_type": "stream",
     "text": [
      "Kroupa\n",
      "Avg Mass: 0.7872997381688475 solMass\n",
      "Avg > 8 M_sun: 19.869986688415544 solMass\n",
      "Ratio of number of high to low: 0.010058603071593154\n",
      "Ratio of mass of high to low: 0.3357063521835148\n"
     ]
    }
   ],
   "source": [
    "# Kroupa\n",
    "print('Kroupa')\n",
    "tot_num = integrate.quad(kroupa_num, 0.03, 0.08)[0] + integrate.quad(kroupa_num, 0.08, 0.5)[0] + integrate.quad(kroupa_num, 0.5, M_max)[0]\n",
    "tot_mass = integrate.quad(kroupa_mass, 0.03, 0.08)[0] + integrate.quad(kroupa_mass, 0.08, 0.5)[0] + integrate.quad(kroupa_mass, 0.5, M_max)[0]\n",
    "avg_mass = tot_mass / tot_num\n",
    "print('Avg Mass:', avg_mass*u.M_sun)\n",
    "\n",
    "tot_num = integrate.quad(kroupa_num, 8, M_max)[0]\n",
    "tot_mass = integrate.quad(kroupa_mass, 8, M_max)[0]\n",
    "avg_mass = tot_mass / tot_num\n",
    "print('Avg > 8 M_sun:', avg_mass*u.M_sun)\n",
    "\n",
    "low_m = integrate.quad(kroupa_num, 0.03, 0.08)[0] + integrate.quad(kroupa_num, 0.08, 0.5)[0] + integrate.quad(kroupa_num, 0.5, 8)[0]\n",
    "high_m = integrate.quad(kroupa_num, 8, M_max)[0]\n",
    "ratio = high_m / low_m\n",
    "print('Ratio of number of high to low:', ratio)\n",
    "\n",
    "low_m = integrate.quad(kroupa_mass, 0.03, 0.08)[0] + integrate.quad(kroupa_mass, 0.08, 0.5)[0] + integrate.quad(kroupa_mass, 0.5, 8)[0]\n",
    "high_m = integrate.quad(kroupa_mass, 8, M_max)[0]\n",
    "ratio = high_m / low_m\n",
    "print('Ratio of mass of high to low:', ratio)"
   ]
  },
  {
   "cell_type": "code",
   "execution_count": 415,
   "id": "2136e061-5c41-462a-918d-e31626950b72",
   "metadata": {},
   "outputs": [
    {
     "name": "stdout",
     "output_type": "stream",
     "text": [
      "Chabrier:\n",
      "Avg Mass: 15.399737925664148 solMass\n",
      "Avg > 8 M_sun: 34.868993894452174 solMass\n",
      "Ratio of number of high to low: 0.6362891153712947\n",
      "Ratio of mass of high to low: 7.366948648981843\n"
     ]
    }
   ],
   "source": [
    "# M_min = 0.03\n",
    "# Chabrier\n",
    "print('Chabrier:')\n",
    "tot_num = integrate.quad(chabrier_num, 0.03, 1.0)[0] + integrate.quad(chabrier_num, 1.0, M_max)[0]\n",
    "tot_mass = integrate.quad(chabrier_mass, 0.03, 1.0)[0] + integrate.quad(chabrier_mass, 1.0, M_max)[0]\n",
    "avg_mass = tot_mass / tot_num\n",
    "print('Avg Mass:', avg_mass*u.M_sun)\n",
    "\n",
    "tot_num = integrate.quad(chabrier_num, 8.0, M_max)[0]\n",
    "tot_mass = integrate.quad(chabrier_mass, 8.0, M_max)[0]\n",
    "avg_mass = tot_mass / tot_num\n",
    "print('Avg > 8 M_sun:', avg_mass*u.M_sun)\n",
    "\n",
    "low_m = integrate.quad(chabrier_num, 0.03, 1)[0] + integrate.quad(chabrier_num, 1, 8)[0]\n",
    "high_m = integrate.quad(chabrier_num, 8, M_max)[0]\n",
    "ratio = high_m / low_m\n",
    "print('Ratio of number of high to low:', ratio)\n",
    "\n",
    "low_m = integrate.quad(chabrier_mass, 0.03, 1)[0] + integrate.quad(chabrier_mass, 1, 8)[0]\n",
    "high_m = integrate.quad(chabrier_mass, 8, M_max)[0]\n",
    "ratio = high_m / low_m\n",
    "print('Ratio of mass of high to low:', ratio)"
   ]
  },
  {
   "cell_type": "code",
   "execution_count": 416,
   "id": "dca9efed-8346-41cb-8d01-5fcfde375cb8",
   "metadata": {},
   "outputs": [],
   "source": [
    "M_min = 0.3"
   ]
  },
  {
   "cell_type": "code",
   "execution_count": 417,
   "id": "b831f894-3ca4-4123-8c89-4eb3280353ff",
   "metadata": {},
   "outputs": [
    {
     "name": "stdout",
     "output_type": "stream",
     "text": [
      "Saltpeter\n",
      "Avg Mass: 1.015331092932632 solMass\n",
      "Avg > 8 M_sun: 19.398588286732235 solMass\n",
      "Ratio of number of high to low: 0.011715605622491696\n",
      "Ratio of mass of high to low: 0.2840969312692048\n"
     ]
    }
   ],
   "source": [
    "# Saltpeter\n",
    "print('Saltpeter')\n",
    "tot_num = integrate.quad(saltpeter_num, 0.3, M_max)\n",
    "tot_mass = integrate.quad(saltpeter_mass, 0.3, M_max)\n",
    "avg_mass = tot_mass[0] / tot_num[0]\n",
    "print('Avg Mass:', avg_mass*u.M_sun)\n",
    "\n",
    "tot_num = integrate.quad(saltpeter_num, 8, M_max)\n",
    "tot_mass = integrate.quad(saltpeter_mass, 8, M_max)\n",
    "avg_mass = tot_mass[0] / tot_num[0]\n",
    "print('Avg > 8 M_sun:', avg_mass*u.M_sun)\n",
    "\n",
    "low_m = integrate.quad(saltpeter_num, 0.3, 8)[0]\n",
    "high_m = integrate.quad(saltpeter_num, 8, M_max)[0]\n",
    "ratio = high_m / low_m\n",
    "print('Ratio of number of high to low:', ratio)\n",
    "\n",
    "low_m = integrate.quad(saltpeter_mass, 0.3, 8)[0]\n",
    "high_m = integrate.quad(saltpeter_mass, 8, M_max)[0]\n",
    "ratio = high_m / low_m\n",
    "print('Ratio of mass of high to low:', ratio)"
   ]
  },
  {
   "cell_type": "code",
   "execution_count": 418,
   "id": "bd3a1c48-0266-43a7-9395-4d578f91ed77",
   "metadata": {},
   "outputs": [
    {
     "name": "stdout",
     "output_type": "stream",
     "text": [
      "Kroupa\n",
      "Avg Mass: 1.3900436808896963 solMass\n",
      "Avg > 8 M_sun: 19.869986688415544 solMass\n",
      "Ratio of number of high to low: 0.019825279871958465\n",
      "Ratio of mass of high to low: 0.38481800472253286\n"
     ]
    }
   ],
   "source": [
    "# Kroupa\n",
    "print('Kroupa')\n",
    "tot_num = integrate.quad(kroupa_num, 0.3, 0.5)[0] + integrate.quad(kroupa_num, 0.5, M_max)[0]\n",
    "tot_mass = integrate.quad(kroupa_mass, 0.3, 0.5)[0] + integrate.quad(kroupa_mass, 0.5, M_max)[0]\n",
    "avg_mass = tot_mass / tot_num\n",
    "print('Avg Mass:', avg_mass*u.M_sun)\n",
    "\n",
    "tot_num = integrate.quad(kroupa_num, 8, M_max)[0]\n",
    "tot_mass = integrate.quad(kroupa_mass, 8, M_max)[0]\n",
    "avg_mass = tot_mass / tot_num\n",
    "print('Avg > 8 M_sun:', avg_mass*u.M_sun)\n",
    "\n",
    "low_m = integrate.quad(kroupa_num, 0.3, 0.5)[0] + integrate.quad(kroupa_num, 0.5, 8)[0]\n",
    "high_m = integrate.quad(kroupa_num, 8, M_max)[0]\n",
    "ratio = high_m / low_m\n",
    "print('Ratio of number of high to low:', ratio)\n",
    "\n",
    "low_m = integrate.quad(kroupa_mass, 0.3, 0.5)[0] + integrate.quad(kroupa_mass, 0.5, 8)[0]\n",
    "high_m = integrate.quad(kroupa_mass, 8, M_max)[0]\n",
    "ratio = high_m / low_m\n",
    "print('Ratio of mass of high to low:', ratio)"
   ]
  },
  {
   "cell_type": "code",
   "execution_count": 419,
   "id": "7974f677-0adc-4d30-860b-1cea52355e4e",
   "metadata": {},
   "outputs": [
    {
     "name": "stdout",
     "output_type": "stream",
     "text": [
      "Chabrier:\n",
      "Avg Mass: 15.427241790960087 solMass\n",
      "Avg > 8 M_sun: 34.868993894452174 solMass\n",
      "Ratio of number of high to low: 0.6381724516558492\n",
      "Ratio of mass of high to low: 7.368229856237874\n"
     ]
    }
   ],
   "source": [
    "# Chabrier\n",
    "print('Chabrier:')\n",
    "tot_num = integrate.quad(chabrier_num, 0.3, 1.0)[0] + integrate.quad(chabrier_num, 1.0, M_max)[0]\n",
    "tot_mass = integrate.quad(chabrier_mass, 0.3, 1.0)[0] + integrate.quad(chabrier_mass, 1.0, M_max)[0]\n",
    "avg_mass = tot_mass / tot_num\n",
    "print('Avg Mass:', avg_mass*u.M_sun)\n",
    "\n",
    "tot_num = integrate.quad(chabrier_num, 8.0, M_max)[0]\n",
    "tot_mass = integrate.quad(chabrier_mass, 8.0, M_max)[0]\n",
    "avg_mass = tot_mass / tot_num\n",
    "print('Avg > 8 M_sun:', avg_mass*u.M_sun)\n",
    "\n",
    "low_m = integrate.quad(chabrier_num, 0.3, 1)[0] + integrate.quad(chabrier_num, 1, 8)[0]\n",
    "high_m = integrate.quad(chabrier_num, 8, M_max)[0]\n",
    "ratio = high_m / low_m\n",
    "print('Ratio of number of high to low:', ratio)\n",
    "\n",
    "low_m = integrate.quad(chabrier_mass, 0.3, 1)[0] + integrate.quad(chabrier_mass, 1, 8)[0]\n",
    "high_m = integrate.quad(chabrier_mass, 8, M_max)[0]\n",
    "ratio = high_m / low_m\n",
    "print('Ratio of mass of high to low:', ratio)"
   ]
  },
  {
   "cell_type": "markdown",
   "id": "fda77ebb-56eb-4201-be87-625b5e3b4504",
   "metadata": {},
   "source": [
    "#### G) For a cluster of 1000 stars, how many would you expect to be $M > 8 M_{\\odot}$ (able to go supernova)?"
   ]
  },
  {
   "cell_type": "code",
   "execution_count": 420,
   "id": "f262dc25-9a45-46f9-a763-269fd245113b",
   "metadata": {},
   "outputs": [],
   "source": [
    "N = 1000 # number of stars \n",
    "M_max = 120\n",
    "M_min = 0.01"
   ]
  },
  {
   "cell_type": "code",
   "execution_count": 421,
   "id": "9998c13c-0cc7-4a98-b874-0baf6bdb82e4",
   "metadata": {},
   "outputs": [
    {
     "data": {
      "text/plain": [
       "0.11734391643471292"
      ]
     },
     "execution_count": 421,
     "metadata": {},
     "output_type": "execute_result"
    }
   ],
   "source": [
    "# Saltpeter\n",
    "'''\n",
    "tot_m = integrate.quad(saltpeter_num, 0.01, M_max)[0]\n",
    "high_m = integrate.quad(saltpeter_num, 8, M_max)[0]\n",
    "ratio = high_m / tot_m\n",
    "ratio * N\n",
    "\n",
    "#### Gives same number\n",
    "'''\n",
    "# Saltpeter\n",
    "low_m = integrate.quad(saltpeter_num, 0.01, 8)[0]\n",
    "high_m = integrate.quad(saltpeter_num, 8, M_max)[0]\n",
    "ratio = high_m / low_m\n",
    "(ratio*N) / (1+ratio) # = # massive stars"
   ]
  },
  {
   "cell_type": "code",
   "execution_count": 422,
   "id": "25d62c37-a2d3-4908-b5ae-44109fd7cfba",
   "metadata": {},
   "outputs": [
    {
     "data": {
      "text/plain": [
       "9.829546620181482"
      ]
     },
     "execution_count": 422,
     "metadata": {},
     "output_type": "execute_result"
    }
   ],
   "source": [
    "# Kroupa\n",
    "low_m = integrate.quad(kroupa_num, 0.01, 0.08)[0] + integrate.quad(kroupa_num, 0.08, 0.5)[0] + integrate.quad(kroupa_num, 0.5, 8)[0]\n",
    "high_m = integrate.quad(kroupa_num, 8, M_max)[0]\n",
    "ratio = high_m / low_m\n",
    "(ratio*N) / (1+ratio) # = # massive stars"
   ]
  },
  {
   "cell_type": "code",
   "execution_count": 423,
   "id": "a2dc53df-a3d6-4a04-b3ae-717797d825a7",
   "metadata": {},
   "outputs": [
    {
     "data": {
      "text/plain": [
       "389.5636573614644"
      ]
     },
     "execution_count": 423,
     "metadata": {},
     "output_type": "execute_result"
    }
   ],
   "source": [
    "# Chabrier \n",
    "low_m = integrate.quad(chabrier_num, 0.3, 1)[0] + integrate.quad(chabrier_num, 1, 8)[0]\n",
    "high_m = integrate.quad(chabrier_num, 8, M_max)[0]\n",
    "ratio = high_m / low_m\n",
    "(ratio*N) / (1+ratio)"
   ]
  },
  {
   "cell_type": "markdown",
   "id": "2cbaf8aa-6cee-4b32-afae-1bed4a54e6d3",
   "metadata": {},
   "source": [
    "#### H) In an ‘optimal distribution function’, the cluster mass to maximum star mass is fixed by defining $\\int^{M_{max}}_{M_{max,cl}} \\xi dM = 1$ where $M_{max}$ is the maximum possible mass for a star and $M_{max,cl}$ is the most massive star in the cluster. From this definition, determine how many stars must be in a cluster to form one 10 $M_{\\odot}$ star or one 100 $M_{\\odot}$ star."
   ]
  },
  {
   "cell_type": "code",
   "execution_count": 424,
   "id": "8f089fa2-5abd-4e34-b9ce-e5d3660e7cbe",
   "metadata": {},
   "outputs": [
    {
     "data": {
      "text/plain": [
       "0.03193216923689906"
      ]
     },
     "execution_count": 424,
     "metadata": {},
     "output_type": "execute_result"
    }
   ],
   "source": [
    "M_max = 120 \n",
    "M_cl = 10\n",
    "norm = integrate.quad(saltpeter_num, M_cl, M_max)[0]\n",
    "norm"
   ]
  },
  {
   "cell_type": "code",
   "execution_count": 425,
   "id": "1e5f3c84-6327-47d7-bbef-060565bc903d",
   "metadata": {},
   "outputs": [],
   "source": [
    "#(ratio*N) / (1+ratio) # = # massive stars\n",
    "# Number massive stars * (1+ratio) = ratio*N\n",
    "# N = number massive stars * (1+ratio) / ratio"
   ]
  },
  {
   "cell_type": "code",
   "execution_count": 426,
   "id": "6bd0f294-915f-46a9-a2e6-60a34b74f886",
   "metadata": {},
   "outputs": [
    {
     "data": {
      "text/plain": [
       "266877"
      ]
     },
     "execution_count": 426,
     "metadata": {},
     "output_type": "execute_result"
    }
   ],
   "source": [
    "# Saltpeter\n",
    "low_m = integrate.quad(saltpeter_num, 0.01, 8)[0]\n",
    "high_m = integrate.quad(saltpeter_num, 8, M_max)[0]\n",
    "ratio = high_m / low_m\n",
    "N = 1 * (1+ratio) / ratio / norm\n",
    "round(N)"
   ]
  },
  {
   "cell_type": "code",
   "execution_count": 427,
   "id": "aa07d5d9-0ec2-4031-ae57-b4141d5c12c9",
   "metadata": {},
   "outputs": [
    {
     "data": {
      "text/plain": [
       "3186"
      ]
     },
     "execution_count": 427,
     "metadata": {},
     "output_type": "execute_result"
    }
   ],
   "source": [
    "# Kroupa\n",
    "low_m = integrate.quad(kroupa_num, 0.01, 0.08)[0] + integrate.quad(kroupa_num, 0.08, 0.5)[0] + integrate.quad(kroupa_num, 0.5, 8)[0]\n",
    "high_m = integrate.quad(kroupa_num, 8, M_max)[0]\n",
    "ratio = high_m / low_m\n",
    "N = 1 * (1+ratio) / ratio / norm\n",
    "round(N)"
   ]
  },
  {
   "cell_type": "code",
   "execution_count": 428,
   "id": "d4d0398c-60d2-4854-ace8-103597bd85b4",
   "metadata": {},
   "outputs": [
    {
     "data": {
      "text/plain": [
       "80"
      ]
     },
     "execution_count": 428,
     "metadata": {},
     "output_type": "execute_result"
    }
   ],
   "source": [
    "# Chabrier\n",
    "low_m = integrate.quad(chabrier_num, 0.3, 1)[0] + integrate.quad(chabrier_num, 1, 8)[0]\n",
    "high_m = integrate.quad(chabrier_num, 8, M_max)[0]\n",
    "ratio = high_m / low_m\n",
    "N = 1 * (1+ratio) / ratio / norm\n",
    "round(N)"
   ]
  },
  {
   "cell_type": "code",
   "execution_count": 429,
   "id": "1c608340-71f9-470b-b91f-33f91ea21fd9",
   "metadata": {},
   "outputs": [
    {
     "data": {
      "text/plain": [
       "0.000322467829397256"
      ]
     },
     "execution_count": 429,
     "metadata": {},
     "output_type": "execute_result"
    }
   ],
   "source": [
    "M_cl = 100\n",
    "norm = integrate.quad(saltpeter_num, M_cl, M_max)[0]\n",
    "norm"
   ]
  },
  {
   "cell_type": "code",
   "execution_count": 430,
   "id": "fc243db8-f3f6-4cf0-bcd9-cd257d9004ad",
   "metadata": {},
   "outputs": [
    {
     "data": {
      "text/plain": [
       "26427314"
      ]
     },
     "execution_count": 430,
     "metadata": {},
     "output_type": "execute_result"
    }
   ],
   "source": [
    "# Saltpeter\n",
    "low_m = integrate.quad(saltpeter_num, 0.01, 8)[0]\n",
    "high_m = integrate.quad(saltpeter_num, 8, M_max)[0]\n",
    "ratio = high_m / low_m\n",
    "N = 1 * (1+ratio) / ratio / norm\n",
    "round(N)"
   ]
  },
  {
   "cell_type": "code",
   "execution_count": 431,
   "id": "814f2f8e-7a5f-4a29-a0cc-fcf10398ce0d",
   "metadata": {},
   "outputs": [
    {
     "data": {
      "text/plain": [
       "315486"
      ]
     },
     "execution_count": 431,
     "metadata": {},
     "output_type": "execute_result"
    }
   ],
   "source": [
    "# Kroupa\n",
    "low_m = integrate.quad(kroupa_num, 0.01, 0.08)[0] + integrate.quad(kroupa_num, 0.08, 0.5)[0] + integrate.quad(kroupa_num, 0.5, 8)[0]\n",
    "high_m = integrate.quad(kroupa_num, 8, M_max)[0]\n",
    "ratio = high_m / low_m\n",
    "N = 1 * (1+ratio) / ratio / norm\n",
    "round(N)"
   ]
  },
  {
   "cell_type": "code",
   "execution_count": 432,
   "id": "81b1e2ef-470d-43ed-9d49-2e54e6fd5557",
   "metadata": {},
   "outputs": [
    {
     "data": {
      "text/plain": [
       "7960"
      ]
     },
     "execution_count": 432,
     "metadata": {},
     "output_type": "execute_result"
    }
   ],
   "source": [
    "# Chabrier\n",
    "low_m = integrate.quad(chabrier_num, 0.3, 1)[0] + integrate.quad(chabrier_num, 1, 8)[0]\n",
    "high_m = integrate.quad(chabrier_num, 8, M_max)[0]\n",
    "ratio = high_m / low_m\n",
    "N = 1 * (1+ratio) / ratio / norm\n",
    "round(N)"
   ]
  },
  {
   "cell_type": "markdown",
   "id": "21516708-7aad-477a-b36e-0e0e45ca215c",
   "metadata": {},
   "source": [
    "#### I) What mass of cluster is required to produce a star of that mass?"
   ]
  },
  {
   "cell_type": "code",
   "execution_count": 433,
   "id": "d72d5d91-3a18-413c-856e-0d21c117adc3",
   "metadata": {},
   "outputs": [
    {
     "data": {
      "text/plain": [
       "0.03193216923689906"
      ]
     },
     "execution_count": 433,
     "metadata": {},
     "output_type": "execute_result"
    }
   ],
   "source": [
    "M_max = 120 \n",
    "M_cl = 10\n",
    "norm = integrate.quad(saltpeter_num, M_cl, M_max)[0]\n",
    "norm"
   ]
  },
  {
   "cell_type": "code",
   "execution_count": 434,
   "id": "3fc1629f-9cd9-490a-842d-dc23948fe158",
   "metadata": {},
   "outputs": [
    {
     "data": {
      "text/latex": [
       "$510.83015 \\; \\mathrm{M_{\\odot}}$"
      ],
      "text/plain": [
       "<Quantity 510.83014852 solMass>"
      ]
     },
     "execution_count": 434,
     "metadata": {},
     "output_type": "execute_result"
    }
   ],
   "source": [
    "# Saltpeter\n",
    "low_m = integrate.quad(saltpeter_mass, 0.01, 8)[0]\n",
    "high_m = integrate.quad(saltpeter_mass, 8, M_max)[0]\n",
    "ratio = high_m / low_m\n",
    "N = 1 * (1+ratio) / ratio / norm\n",
    "N * u.M_sun"
   ]
  },
  {
   "cell_type": "code",
   "execution_count": 435,
   "id": "700dc19a-204b-441e-b72c-957a57553cdb",
   "metadata": {},
   "outputs": [
    {
     "data": {
      "text/latex": [
       "$124.64182 \\; \\mathrm{M_{\\odot}}$"
      ],
      "text/plain": [
       "<Quantity 124.64182274 solMass>"
      ]
     },
     "execution_count": 435,
     "metadata": {},
     "output_type": "execute_result"
    }
   ],
   "source": [
    "# Kroupa\n",
    "low_m = integrate.quad(kroupa_mass, 0.01, 0.08)[0] + integrate.quad(kroupa_mass, 0.08, 0.5)[0] + integrate.quad(kroupa_mass, 0.5, 8)[0]\n",
    "high_m = integrate.quad(kroupa_mass, 8, M_max)[0]\n",
    "ratio = high_m / low_m\n",
    "N = 1 * (1+ratio) / ratio / norm\n",
    "N * u.M_sun"
   ]
  },
  {
   "cell_type": "code",
   "execution_count": 436,
   "id": "a37e88fa-1a42-4d19-b4cc-05b9934ce72c",
   "metadata": {},
   "outputs": [
    {
     "data": {
      "text/latex": [
       "$80.388355 \\; \\mathrm{M_{\\odot}}$"
      ],
      "text/plain": [
       "<Quantity 80.38835527 solMass>"
      ]
     },
     "execution_count": 436,
     "metadata": {},
     "output_type": "execute_result"
    }
   ],
   "source": [
    "# Chabrier\n",
    "low_m = integrate.quad(chabrier_num, 0.3, 1)[0] + integrate.quad(chabrier_num, 1, 8)[0]\n",
    "high_m = integrate.quad(chabrier_num, 8, M_max)[0]\n",
    "ratio = high_m / low_m\n",
    "N = 1 * (1+ratio) / ratio / norm\n",
    "N * u.M_sun"
   ]
  },
  {
   "cell_type": "code",
   "execution_count": 437,
   "id": "3b1bbab1-9f58-4fd5-9f25-920562c7eb58",
   "metadata": {},
   "outputs": [
    {
     "data": {
      "text/plain": [
       "0.000322467829397256"
      ]
     },
     "execution_count": 437,
     "metadata": {},
     "output_type": "execute_result"
    }
   ],
   "source": [
    "M_cl = 100\n",
    "norm = integrate.quad(saltpeter_num, M_cl, M_max)[0]\n",
    "norm"
   ]
  },
  {
   "cell_type": "code",
   "execution_count": 438,
   "id": "9793dc61-87bb-4c07-a4e9-9bf207bee13a",
   "metadata": {},
   "outputs": [
    {
     "data": {
      "text/latex": [
       "$50584.627 \\; \\mathrm{M_{\\odot}}$"
      ],
      "text/plain": [
       "<Quantity 50584.62664096 solMass>"
      ]
     },
     "execution_count": 438,
     "metadata": {},
     "output_type": "execute_result"
    }
   ],
   "source": [
    "# Saltpeter\n",
    "low_m = integrate.quad(saltpeter_mass, 0.01, 8)[0]\n",
    "high_m = integrate.quad(saltpeter_mass, 8, M_max)[0]\n",
    "ratio = high_m / low_m\n",
    "N = 1 * (1+ratio) / ratio / norm\n",
    "N * u.M_sun"
   ]
  },
  {
   "cell_type": "code",
   "execution_count": 439,
   "id": "4fdab2f0-5a32-49df-b6ff-0fa415585b0f",
   "metadata": {},
   "outputs": [
    {
     "data": {
      "text/latex": [
       "$12342.576 \\; \\mathrm{M_{\\odot}}$"
      ],
      "text/plain": [
       "<Quantity 12342.57626607 solMass>"
      ]
     },
     "execution_count": 439,
     "metadata": {},
     "output_type": "execute_result"
    }
   ],
   "source": [
    "# Kroupa\n",
    "low_m = integrate.quad(kroupa_mass, 0.01, 0.08)[0] + integrate.quad(kroupa_mass, 0.08, 0.5)[0] + integrate.quad(kroupa_mass, 0.5, 8)[0]\n",
    "high_m = integrate.quad(kroupa_mass, 8, M_max)[0]\n",
    "ratio = high_m / low_m\n",
    "N = 1 * (1+ratio) / ratio / norm\n",
    "N * u.M_sun"
   ]
  },
  {
   "cell_type": "code",
   "execution_count": 440,
   "id": "92b988c5-c52c-4d88-b3b8-7ef7a7e1792a",
   "metadata": {},
   "outputs": [
    {
     "data": {
      "text/latex": [
       "$7960.4051 \\; \\mathrm{M_{\\odot}}$"
      ],
      "text/plain": [
       "<Quantity 7960.40513581 solMass>"
      ]
     },
     "execution_count": 440,
     "metadata": {},
     "output_type": "execute_result"
    }
   ],
   "source": [
    "# Chabrier\n",
    "low_m = integrate.quad(chabrier_num, 0.3, 1)[0] + integrate.quad(chabrier_num, 1, 8)[0]\n",
    "high_m = integrate.quad(chabrier_num, 8, M_max)[0]\n",
    "ratio = high_m / low_m\n",
    "N = 1 * (1+ratio) / ratio / norm\n",
    "N * u.M_sun"
   ]
  },
  {
   "cell_type": "markdown",
   "id": "cee47a71-59b6-4741-be12-1948f73ab41c",
   "metadata": {},
   "source": [
    "#### J) In a probability distribution function, there is only a fixed likelihood of forming a star of a given mass. What is the minimum cluster mass required to have a > 95% (> 63.21%) probability of forming at least one $\\geq$ 100 M$_{\\odot}$ star? \n",
    "\n",
    "Recall that the likelihood of rolling at least one six after 100 rolls is equal to one minus the likelihood of rolling no sixes in 100 rolls. \n",
    "\n",
    "ie $P(\\geq 1$ roll of $6) = 1-(\\frac{5}{6})^{100}$"
   ]
  },
  {
   "cell_type": "code",
   "execution_count": 441,
   "id": "d3ab8728-3c72-4cda-8f36-0e9e5208ada1",
   "metadata": {},
   "outputs": [],
   "source": [
    "P = 0.95\n",
    "# P = 1 - (low_num / tot_num) ^ N\n",
    "# 1 - P = (low_num / tot_num) ^ N\n",
    "# np.log(1-P) = N * np.log(low_num / tot_num)\n",
    "# N = np.log(1-P) / np.log(low_num / tot_num)"
   ]
  },
  {
   "cell_type": "code",
   "execution_count": 442,
   "id": "4fba6721-18a8-43b9-bcf4-a51901ceb632",
   "metadata": {},
   "outputs": [
    {
     "data": {
      "text/latex": [
       "$1170.2881 \\; \\mathrm{M_{\\odot}}$"
      ],
      "text/plain": [
       "<Quantity 1170.28812861 solMass>"
      ]
     },
     "execution_count": 442,
     "metadata": {},
     "output_type": "execute_result"
    }
   ],
   "source": [
    "# Saltpeter\n",
    "lower_num = integrate.quad(saltpeter_mass, 0.01, 100)[0]\n",
    "tot_num = integrate.quad(saltpeter_mass, 0.01, M_max)[0]\n",
    "prob = lower_num / tot_num\n",
    "N = np.log(1-P) / np.log(prob)\n",
    "N * u.M_sun"
   ]
  },
  {
   "cell_type": "code",
   "execution_count": 443,
   "id": "5001bd9e-1c6a-4b0d-ad77-3d0468ab07dc",
   "metadata": {},
   "outputs": [
    {
     "data": {
      "text/latex": [
       "$264.31137 \\; \\mathrm{M_{\\odot}}$"
      ],
      "text/plain": [
       "<Quantity 264.31136746 solMass>"
      ]
     },
     "execution_count": 443,
     "metadata": {},
     "output_type": "execute_result"
    }
   ],
   "source": [
    "# Kroupa\n",
    "lower_num = integrate.quad(kroupa_mass, 0.01, 0.08)[0] + integrate.quad(kroupa_mass, 0.08, 0.5)[0] + integrate.quad(kroupa_mass, 0.5, 100)[0]\n",
    "tot_num = integrate.quad(kroupa_mass, 0.01, 0.08)[0] + integrate.quad(kroupa_mass, 0.08, 0.5)[0] + integrate.quad(kroupa_mass, 0.5, M_max)[0]\n",
    "prob = lower_num / tot_num\n",
    "N = np.log(1-P) / np.log(prob)\n",
    "N * u.M_sun"
   ]
  },
  {
   "cell_type": "code",
   "execution_count": 444,
   "id": "d2b7c79f-4f89-4cab-b29a-c7cc669ac06b",
   "metadata": {},
   "outputs": [
    {
     "data": {
      "text/latex": [
       "$169.93453 \\; \\mathrm{M_{\\odot}}$"
      ],
      "text/plain": [
       "<Quantity 169.93452757 solMass>"
      ]
     },
     "execution_count": 444,
     "metadata": {},
     "output_type": "execute_result"
    }
   ],
   "source": [
    "# Chabrier\n",
    "lower_num = integrate.quad(chabrier_num, 0.3, 1)[0] + integrate.quad(chabrier_num, 1, 100)[0]\n",
    "tot_num = integrate.quad(chabrier_num, 0.3, 1)[0] + integrate.quad(chabrier_num, 1, M_max)[0]\n",
    "prob = lower_num / tot_num\n",
    "N = np.log(1-P) / np.log(prob)\n",
    "N * u.M_sun"
   ]
  },
  {
   "cell_type": "code",
   "execution_count": 445,
   "id": "3695a872-569c-48be-8208-d0a38327a47f",
   "metadata": {},
   "outputs": [],
   "source": [
    "P = 0.6321"
   ]
  },
  {
   "cell_type": "code",
   "execution_count": 446,
   "id": "14db86cf-1004-4624-a001-d7d4e86c28d9",
   "metadata": {},
   "outputs": [
    {
     "data": {
      "text/latex": [
       "$390.62994 \\; \\mathrm{M_{\\odot}}$"
      ],
      "text/plain": [
       "<Quantity 390.62994366 solMass>"
      ]
     },
     "execution_count": 446,
     "metadata": {},
     "output_type": "execute_result"
    }
   ],
   "source": [
    "# Saltpeter\n",
    "lower_num = integrate.quad(saltpeter_mass, 0.01, 100)[0]\n",
    "tot_num = integrate.quad(saltpeter_mass, 0.01, M_max)[0]\n",
    "prob = lower_num / tot_num\n",
    "N = np.log(1-P) / np.log(prob)\n",
    "N * u.M_sun"
   ]
  },
  {
   "cell_type": "code",
   "execution_count": 447,
   "id": "3b7235b6-5bec-4c2d-8459-87b4a92e6deb",
   "metadata": {},
   "outputs": [
    {
     "data": {
      "text/latex": [
       "$88.224371 \\; \\mathrm{M_{\\odot}}$"
      ],
      "text/plain": [
       "<Quantity 88.22437147 solMass>"
      ]
     },
     "execution_count": 447,
     "metadata": {},
     "output_type": "execute_result"
    }
   ],
   "source": [
    "# Kroupa\n",
    "lower_num = integrate.quad(kroupa_mass, 0.01, 0.08)[0] + integrate.quad(kroupa_mass, 0.08, 0.5)[0] + integrate.quad(kroupa_mass, 0.5, 100)[0]\n",
    "tot_num = integrate.quad(kroupa_mass, 0.01, 0.08)[0] + integrate.quad(kroupa_mass, 0.08, 0.5)[0] + integrate.quad(kroupa_mass, 0.5, M_max)[0]\n",
    "prob = lower_num / tot_num\n",
    "N = np.log(1-P) / np.log(prob)\n",
    "N * u.M_sun"
   ]
  },
  {
   "cell_type": "code",
   "execution_count": 448,
   "id": "074a6575-889e-4e4b-90d1-33a03e703874",
   "metadata": {},
   "outputs": [
    {
     "data": {
      "text/latex": [
       "$56.722369 \\; \\mathrm{M_{\\odot}}$"
      ],
      "text/plain": [
       "<Quantity 56.72236888 solMass>"
      ]
     },
     "execution_count": 448,
     "metadata": {},
     "output_type": "execute_result"
    }
   ],
   "source": [
    "# Chabrier\n",
    "lower_num = integrate.quad(chabrier_num, 0.3, 1)[0] + integrate.quad(chabrier_num, 1, 100)[0]\n",
    "tot_num = integrate.quad(chabrier_num, 0.3, 1)[0] + integrate.quad(chabrier_num, 1, M_max)[0]\n",
    "prob = lower_num / tot_num\n",
    "N = np.log(1-P) / np.log(prob)\n",
    "N * u.M_sun"
   ]
  },
  {
   "cell_type": "code",
   "execution_count": 449,
   "id": "700c072d-30c4-4cd0-bf30-b551066cadef",
   "metadata": {},
   "outputs": [],
   "source": [
    "# Note: If we are trying to find the minimum cluster mass to have a certain probability of forming a > 100 solar mass star\n",
    "# then we should probably have a cluster mass > 100."
   ]
  },
  {
   "cell_type": "markdown",
   "id": "69e59702-be16-4704-987e-54b62eee602a",
   "metadata": {},
   "source": [
    "#### K)  Compare the results from the ODF and the PDF for the presence of a M > 100 M$_{\\odot}$ star. "
   ]
  },
  {
   "cell_type": "markdown",
   "id": "a1ae91d3-4927-4e6a-8076-a6de89c052e0",
   "metadata": {},
   "source": [
    "What is the ODF and PDF?\n",
    "\n",
    "ODF = Optimal Distribution Function from part H\n",
    "\n",
    "PDF = Probability Distribution Function from part J"
   ]
  },
  {
   "cell_type": "markdown",
   "id": "67241f3d-4805-4960-85b3-9846b4e560b5",
   "metadata": {},
   "source": [
    "##### Saltpeter\n",
    "\n",
    "ODF: 26427314 stars in a cluster needed to form one 100 M$_{\\odot}$ star. Cluster mass of 50584.627 M$_{\\odot}$ required.\n",
    "\n",
    "PDF: Cluster mass of 1170.2881 M$_{\\odot}$ required."
   ]
  },
  {
   "cell_type": "markdown",
   "id": "790a8d58-a74f-4a38-ada5-afe5d2ff2f48",
   "metadata": {},
   "source": [
    "##### Kroupa\n",
    "\n",
    "ODF: 315486 stars in a cluster needed to form one 100 M$_{\\odot}$ star. Cluster mass of 12342.576 M$_{\\odot}$ required.\n",
    "\n",
    "PDF: Cluster mass of 264.31137 M$_{\\odot}$ required."
   ]
  },
  {
   "cell_type": "markdown",
   "id": "c5822587-a951-4277-bd5a-dd604c7eb1e9",
   "metadata": {},
   "source": [
    "##### Chabrier\n",
    "\n",
    "ODF: 7960 stars in a cluster needed to form one 100 M$_{\\odot}$ star. Cluster mass of 7960.4051 M$_{\\odot}$ required.\n",
    "\n",
    "PDF: Cluster mass of 169.93453 M$_{\\odot}$ required."
   ]
  },
  {
   "cell_type": "markdown",
   "id": "a7b662f7-5f52-4b61-95b7-519c10d12e81",
   "metadata": {},
   "source": [
    "#### How can you interpret the difference?\n",
    "\n",
    "The difference between the ODF and PDF is that the ODF requires the presence of a 100 M$_{\\odot}$ star using a normalization factor, and the PDF has a fixed likelihood for forming a star that has a mass greater than 100 M$_{\\odot}$. "
   ]
  },
  {
   "cell_type": "markdown",
   "id": "c2188832-ebd4-4cdc-95b8-2b3dbc72ac22",
   "metadata": {},
   "source": [
    "#### L)  What is the expected light-to-mass ratio of each distribution assuming $L = L_{\\odot} (\\frac{M}{M_{\\odot}})^3$"
   ]
  },
  {
   "cell_type": "code",
   "execution_count": 450,
   "id": "8ca4367b-2d02-407b-b9c6-cb966933d204",
   "metadata": {},
   "outputs": [],
   "source": [
    "def light_to_mass(M):\n",
    "    L = M**3\n",
    "    return (L*u.L_sun) / (M*u.M_sun)"
   ]
  },
  {
   "cell_type": "code",
   "execution_count": null,
   "id": "1b45961e-42b4-4fe4-93d0-689e8575ed5e",
   "metadata": {},
   "outputs": [],
   "source": [
    "# Saltpeter"
   ]
  },
  {
   "cell_type": "code",
   "execution_count": null,
   "id": "ef96faee-e547-461d-b604-7f704231d022",
   "metadata": {},
   "outputs": [],
   "source": [
    "# Kroupa"
   ]
  },
  {
   "cell_type": "code",
   "execution_count": null,
   "id": "601b0e94-6b0c-4864-a2f8-2212ea9fb441",
   "metadata": {},
   "outputs": [],
   "source": [
    "# Chabrier"
   ]
  },
  {
   "cell_type": "markdown",
   "id": "747a234c-77dc-492f-8139-13a37eeb7b56",
   "metadata": {},
   "source": [
    "### M)  The IMF is the system IMF. If we are primarily interested in the luminosity of a system, splitting the mass between multiple stars can make a big difference. If we assume every star system consists of an equal-mass binary, what is the effect on the L/M ratio? Is this a reasonable approximation to the multiplicity fraction?"
   ]
  },
  {
   "cell_type": "code",
   "execution_count": null,
   "id": "a9407431-fcab-4c93-bf56-c9c59da27198",
   "metadata": {},
   "outputs": [],
   "source": [
    "# Saltpeter"
   ]
  },
  {
   "cell_type": "code",
   "execution_count": null,
   "id": "5ce94887-2060-41bf-81e3-2721f77af2b8",
   "metadata": {},
   "outputs": [],
   "source": [
    "# Kroupa"
   ]
  },
  {
   "cell_type": "code",
   "execution_count": 187,
   "id": "f90c20c6-2fa7-482f-be4c-1c7be9a652e2",
   "metadata": {},
   "outputs": [],
   "source": [
    "# Chabrier"
   ]
  },
  {
   "cell_type": "markdown",
   "id": "22d23f3b-991e-4c0d-af6d-102bd59b2c1c",
   "metadata": {},
   "source": [
    "####  N) For an ODF, the effective maximum stellar mass can be smaller. If all star-forming events in a galaxy occur in Taurus-like starforming regions, with M$_∗$ = 100M$_{\\odot}$, what is the maximum mass? What is the resulting L/M ratio? Recall that this is the maximum the L/M will be in such a galaxy."
   ]
  },
  {
   "cell_type": "code",
   "execution_count": null,
   "id": "3ea36e67-0577-4e16-a29f-67f023c20249",
   "metadata": {},
   "outputs": [],
   "source": []
  },
  {
   "cell_type": "code",
   "execution_count": null,
   "id": "0fc1ed1d-dfe0-4f48-8645-2dd7f68df17d",
   "metadata": {},
   "outputs": [],
   "source": []
  },
  {
   "cell_type": "code",
   "execution_count": null,
   "id": "cfb788b9-0f1c-4beb-8b15-4d32c23b4827",
   "metadata": {},
   "outputs": [],
   "source": []
  },
  {
   "cell_type": "code",
   "execution_count": null,
   "id": "3bfa1d3a-6049-4a90-baef-325319a07619",
   "metadata": {},
   "outputs": [],
   "source": []
  },
  {
   "cell_type": "code",
   "execution_count": null,
   "id": "3916f6e0-52b8-459f-b275-94105b09d709",
   "metadata": {},
   "outputs": [],
   "source": []
  },
  {
   "cell_type": "code",
   "execution_count": null,
   "id": "9cbd2de0-6262-42bd-8cc4-c43de710a217",
   "metadata": {},
   "outputs": [],
   "source": []
  },
  {
   "cell_type": "code",
   "execution_count": null,
   "id": "0e2d149d-f133-46ab-8180-ae71158d3dba",
   "metadata": {},
   "outputs": [],
   "source": []
  },
  {
   "cell_type": "code",
   "execution_count": null,
   "id": "7043ca80-3e14-4500-a881-a3244ccf46d9",
   "metadata": {},
   "outputs": [],
   "source": []
  }
 ],
 "metadata": {
  "kernelspec": {
   "display_name": "Python 3",
   "language": "python",
   "name": "python3"
  },
  "language_info": {
   "codemirror_mode": {
    "name": "ipython",
    "version": 3
   },
   "file_extension": ".py",
   "mimetype": "text/x-python",
   "name": "python",
   "nbconvert_exporter": "python",
   "pygments_lexer": "ipython3",
   "version": "3.8.8"
  }
 },
 "nbformat": 4,
 "nbformat_minor": 5
}
